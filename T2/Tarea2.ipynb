{
  "nbformat": 4,
  "nbformat_minor": 0,
  "metadata": {
    "colab": {
      "name": "Tarea2.ipynb",
      "provenance": [],
      "toc_visible": true
    },
    "kernelspec": {
      "name": "python3",
      "display_name": "Python 3"
    },
    "accelerator": "GPU"
  },
  "cells": [
    {
      "cell_type": "markdown",
      "metadata": {
        "id": "RG4iSa0kjStA",
        "colab_type": "text"
      },
      "source": [
        "Tarea de Raimundo Herrera e Ignacio Guridi"
      ]
    },
    {
      "cell_type": "code",
      "metadata": {
        "id": "t1fGjqkA_JDV",
        "colab_type": "code",
        "outputId": "d2352990-cc04-4bd6-ffc3-de7baf9f5381",
        "colab": {
          "base_uri": "https://localhost:8080/",
          "height": 34
        }
      },
      "source": [
        "from keras.models import Sequential\n",
        "from keras.layers import Dense, Dropout, TimeDistributed, Flatten, SimpleRNN,LSTM"
      ],
      "execution_count": 0,
      "outputs": [
        {
          "output_type": "stream",
          "text": [
            "Using TensorFlow backend.\n"
          ],
          "name": "stderr"
        }
      ]
    },
    {
      "cell_type": "markdown",
      "metadata": {
        "id": "0-lSKx60jt5F",
        "colab_type": "text"
      },
      "source": [
        "airlineUtils.py"
      ]
    },
    {
      "cell_type": "code",
      "metadata": {
        "id": "1xwHjac-jMdi",
        "colab_type": "code",
        "colab": {}
      },
      "source": [
        "#!/usr/bin/env python\n",
        "import pandas\n",
        "import numpy\n",
        "from sklearn.preprocessing import MinMaxScaler\n",
        "import math\n",
        "from sklearn.metrics import mean_squared_error\n",
        "import matplotlib.pyplot as plt\n",
        "\n",
        "# convert an array of values into a dataset matrix\n",
        "def create_dataset(dataset, look_back=1):\n",
        "    dataX, dataY = [], []\n",
        "    for i in range(len(dataset)-look_back-1):\n",
        "        a = dataset[i:(i+look_back), 0]\n",
        "        dataX.append(a)\n",
        "        dataY.append(dataset[i + look_back, 0])\n",
        "    return numpy.array(dataX), numpy.array(dataY)\n",
        "\n",
        "\n",
        "def readAirlineData(history):\n",
        "    # load the dataset\n",
        "    dataframe = pandas.read_csv('international-airline-passengers.csv', usecols=[1], engine='python', skipfooter=3)\n",
        "    dataset = dataframe.values\n",
        "    dataset = dataset.astype('float32')\n",
        "    # normalize the dataset\n",
        "    scaler = MinMaxScaler(feature_range=(0, 1))\n",
        "    dataset = scaler.fit_transform(dataset)\n",
        "\n",
        "    # split into train and test sets\n",
        "    train_size = 96 #Enero 1949 a Diciembre 1956\n",
        "    test_size = len(dataset) - train_size\n",
        "    train, test = dataset[0:train_size,:], dataset[train_size:len(dataset),:]\n",
        "\n",
        "    # reshape into X=t and Y=t+1\n",
        "    trainX, trainY = create_dataset(train, history)\n",
        "    testX, testY = create_dataset(test, history)\n",
        "    # reshape input to be [samples, time steps, features]\n",
        "    trainX = numpy.reshape(trainX, (trainX.shape[0], trainX.shape[1],1))\n",
        "    testX = numpy.reshape(testX, (testX.shape[0], testX.shape[1],1))\n",
        "    return trainX, trainY, testX, testY, scaler, dataset\n",
        "\n",
        "\n",
        "def displayResult(dataset, trainPredict, trainY, testPredict, testY, scaler, history):\n",
        "    # invert predictions\n",
        "    trainPredict = scaler.inverse_transform(trainPredict)\n",
        "    trainY = scaler.inverse_transform([trainY])\n",
        "    testPredict = scaler.inverse_transform(testPredict)\n",
        "    testY = scaler.inverse_transform([testY])\n",
        "\n",
        "    # calculate root mean squared error\n",
        "    trainScore = math.sqrt(mean_squared_error(trainY[0], trainPredict[:,0]))\n",
        "    print('Train Score: %.2f RMSE' % (trainScore))\n",
        "    testScore = math.sqrt(mean_squared_error(testY[0], testPredict[:,0]))\n",
        "    print('Test Score: %.2f RMSE' % (testScore))\n",
        "\n",
        "    # shift train predictions for plotting\n",
        "    trainPredictPlot = numpy.empty_like(dataset)\n",
        "    trainPredictPlot[:, :] = numpy.nan\n",
        "    trainPredictPlot[history:len(trainPredict)+history, :] = trainPredict\n",
        "\n",
        "    # shift test predictions for plotting\n",
        "    testPredictPlot = numpy.empty_like(dataset)\n",
        "    testPredictPlot[:, :] = numpy.nan\n",
        "    testPredictPlot[len(trainPredict)+(history*2)+1:len(dataset)-1, :] = testPredict\n",
        "\n",
        "    # plot baseline and predictions\n",
        "    plt.plot(scaler.inverse_transform(dataset))\n",
        "    plt.plot(trainPredictPlot)\n",
        "    plt.plot(testPredictPlot)\n",
        "    plt.show()"
      ],
      "execution_count": 0,
      "outputs": []
    },
    {
      "cell_type": "markdown",
      "metadata": {
        "id": "tuHjqy_Zlpyw",
        "colab_type": "text"
      },
      "source": [
        "## Parte 1"
      ]
    },
    {
      "cell_type": "markdown",
      "metadata": {
        "id": "fDN8s4zGinpo",
        "colab_type": "text"
      },
      "source": [
        "### Actividad 1"
      ]
    },
    {
      "cell_type": "code",
      "metadata": {
        "id": "khy6ToTF_qG_",
        "colab_type": "code",
        "outputId": "15a64253-4424-4cab-d080-78a23ef79785",
        "colab": {
          "base_uri": "https://localhost:8080/",
          "height": 411
        }
      },
      "source": [
        "modelRNN = Sequential()\n",
        "modelRNN.add(SimpleRNN(5, return_sequences=False, input_shape=(4, 1)))\n",
        "modelRNN.add(Dense(1))\n",
        "modelRNN.save_weights('model_weights')\n",
        "modelRNN.summary()"
      ],
      "execution_count": 0,
      "outputs": [
        {
          "output_type": "stream",
          "text": [
            "WARNING: Logging before flag parsing goes to stderr.\n",
            "W0706 19:55:37.167780 140531540703104 deprecation_wrapper.py:119] From /usr/local/lib/python3.6/dist-packages/keras/backend/tensorflow_backend.py:74: The name tf.get_default_graph is deprecated. Please use tf.compat.v1.get_default_graph instead.\n",
            "\n",
            "W0706 19:55:37.205899 140531540703104 deprecation_wrapper.py:119] From /usr/local/lib/python3.6/dist-packages/keras/backend/tensorflow_backend.py:517: The name tf.placeholder is deprecated. Please use tf.compat.v1.placeholder instead.\n",
            "\n",
            "W0706 19:55:37.212209 140531540703104 deprecation_wrapper.py:119] From /usr/local/lib/python3.6/dist-packages/keras/backend/tensorflow_backend.py:4138: The name tf.random_uniform is deprecated. Please use tf.random.uniform instead.\n",
            "\n",
            "W0706 19:55:37.328779 140531540703104 deprecation_wrapper.py:119] From /usr/local/lib/python3.6/dist-packages/keras/backend/tensorflow_backend.py:174: The name tf.get_default_session is deprecated. Please use tf.compat.v1.get_default_session instead.\n",
            "\n",
            "W0706 19:55:37.329943 140531540703104 deprecation_wrapper.py:119] From /usr/local/lib/python3.6/dist-packages/keras/backend/tensorflow_backend.py:181: The name tf.ConfigProto is deprecated. Please use tf.compat.v1.ConfigProto instead.\n",
            "\n"
          ],
          "name": "stderr"
        },
        {
          "output_type": "stream",
          "text": [
            "_________________________________________________________________\n",
            "Layer (type)                 Output Shape              Param #   \n",
            "=================================================================\n",
            "simple_rnn_1 (SimpleRNN)     (None, 5)                 35        \n",
            "_________________________________________________________________\n",
            "dense_1 (Dense)              (None, 1)                 6         \n",
            "=================================================================\n",
            "Total params: 41\n",
            "Trainable params: 41\n",
            "Non-trainable params: 0\n",
            "_________________________________________________________________\n"
          ],
          "name": "stdout"
        }
      ]
    },
    {
      "cell_type": "markdown",
      "metadata": {
        "id": "G8LMqEwP_o2w",
        "colab_type": "text"
      },
      "source": [
        "La cantidad de parámetros es: un vector de dimensión 5 compuesto (ergo, 5 parámetros) para transformar de un input de 1 dimensión a la dimensión interna de 5 de la red. Luego,  de un estado intermedio al siguiente estado intermedio se mantiene la dimensión. Por esto, se usa una matriz de 5x5, lo que implica 25 parámetros más. Luego, para hacer el paso del estado intermedio al output de 5 dimensiones se utiliza una matriz diagonal, lo que suma 5 parámetros más, para llegar a una cantidad de 35 para la capa de `simpleRNN`. Luego, la red densa le agrega 5 parámetros más (los mismos que la dimensión de salida de la red anterior) más uno de bias. Por lo tanto, en total son 41 parámetros, datos que coinciden con los arrojados utilizando la función `summary()` de Keras.\n",
        "\n",
        "Con esto se puede concluir que los parámetros totales de esta red son, con variables generales: \n",
        "\n",
        "$\\alpha$: dimensión del estado intermedio\n",
        "\n",
        "$\\beta$: dimensión del input\n",
        "\n",
        "$\\gamma$: dimensión del output\n",
        "\n",
        "total parámetros :\n",
        "\n",
        "$$\\alpha^2 + \\beta \\times \\alpha +  \\alpha \\times \\gamma + (\\alpha +  1)$$\n",
        "\n",
        "Sea una red con estado intermedio de dimensión 4, entonces el total de parámetros será:\n",
        "\n",
        "$$4^2 + 1 \\times 4 + 4 \\times 1 + (4 + 1) = 29$$\n",
        "\n",
        "tal como se comprueba con la función `summary` de Keras\n",
        "\n",
        "\n",
        "\n",
        "\n"
      ]
    },
    {
      "cell_type": "code",
      "metadata": {
        "id": "WjnMf-McJsRx",
        "colab_type": "code",
        "outputId": "33e20fe9-f80c-43b2-84c9-191dbb4e2066",
        "colab": {
          "base_uri": "https://localhost:8080/",
          "height": 204
        }
      },
      "source": [
        "modelRNN = Sequential()\n",
        "modelRNN.add(SimpleRNN(4, return_sequences=False, input_shape=(4, 1)))\n",
        "modelRNN.add(Dense(1))\n",
        "modelRNN.summary()"
      ],
      "execution_count": 0,
      "outputs": [
        {
          "output_type": "stream",
          "text": [
            "_________________________________________________________________\n",
            "Layer (type)                 Output Shape              Param #   \n",
            "=================================================================\n",
            "simple_rnn_2 (SimpleRNN)     (None, 4)                 24        \n",
            "_________________________________________________________________\n",
            "dense_2 (Dense)              (None, 1)                 5         \n",
            "=================================================================\n",
            "Total params: 29\n",
            "Trainable params: 29\n",
            "Non-trainable params: 0\n",
            "_________________________________________________________________\n"
          ],
          "name": "stdout"
        }
      ]
    },
    {
      "cell_type": "markdown",
      "metadata": {
        "id": "q-bZWxvfiwyh",
        "colab_type": "text"
      },
      "source": [
        "### Actividad 2"
      ]
    },
    {
      "cell_type": "code",
      "metadata": {
        "id": "1XAv0uSiiy_w",
        "colab_type": "code",
        "colab": {}
      },
      "source": [
        "#modelRNN.add(Dense(1))\n",
        "# modelRNN.summary()"
      ],
      "execution_count": 0,
      "outputs": []
    },
    {
      "cell_type": "code",
      "metadata": {
        "id": "spN4EoEgqOPt",
        "colab_type": "code",
        "colab": {}
      },
      "source": [
        "%%capture ;\n",
        "!  wget --output-document='international-airline-passengers.csv' 'https://drive.google.com/a/uc.cl/uc?id=1ZKAaRDnTNDXb84YDunm-WZBQ7mPR6hqY&export=download'"
      ],
      "execution_count": 0,
      "outputs": []
    },
    {
      "cell_type": "code",
      "metadata": {
        "id": "FkKBJGjH9S_v",
        "colab_type": "code",
        "colab": {}
      },
      "source": [
        "def airline_prediction(history):\n",
        "    #read training and test sets\n",
        "    trainX, trainY, testX, testY, scaler, dataset=readAirlineData(history)\n",
        "    # create and fit the LSTM network\n",
        "    modelRNN = Sequential()\n",
        "    modelRNN.add(SimpleRNN(5, input_shape=(history, 1), return_sequences=False))\n",
        "    modelRNN.add(Dense(1))\n",
        "    modelRNN.load_weights('model_weights', by_name=True)\n",
        "\n",
        "    #Train model\n",
        "    modelRNN.compile(loss='mean_squared_error', optimizer='adam')\n",
        "    modelRNN.fit(trainX, trainY, epochs=150, batch_size=5, verbose=2, shuffle=False)\n",
        "\n",
        "    # Make predictions\n",
        "    trainPredict = modelRNN.predict(trainX)\n",
        "    testPredict = modelRNN.predict(testX)\n",
        "    return dataset, trainPredict, trainY, testPredict, testY, scaler\n",
        "    "
      ],
      "execution_count": 0,
      "outputs": []
    },
    {
      "cell_type": "markdown",
      "metadata": {
        "id": "JzTSRGcOMHC8",
        "colab_type": "text"
      },
      "source": [
        "Se tiene que no da resultados iguales cada vez que se corre pues el modelo Sequential de keras por default desordena las secuencias del set de entrenamiento. No desordena datos individuales entre sí, pero si lo hace entre conjuntos de datos. Esto hace que el método de entrenamiento basado en esa información siga siendo consistente, pero no garantiza que el resultado final sea el mismo, pues no está siendo entrenado de la misma manera. "
      ]
    },
    {
      "cell_type": "markdown",
      "metadata": {
        "id": "FM2YKmlt_V0e",
        "colab_type": "text"
      },
      "source": [
        "#### history = 4"
      ]
    },
    {
      "cell_type": "code",
      "metadata": {
        "id": "ZU8QU6lZAPDy",
        "colab_type": "code",
        "colab": {}
      },
      "source": [
        "%%capture\n",
        "#set sequence length\n",
        "history = 4\n",
        "dataset, trainPredict, trainY, testPredict, testY, scaler = airline_prediction(history)"
      ],
      "execution_count": 0,
      "outputs": []
    },
    {
      "cell_type": "code",
      "metadata": {
        "id": "cy7tiEUK71Zi",
        "colab_type": "code",
        "outputId": "c4079afb-0d11-43da-de2d-89ca57bceeae",
        "colab": {
          "base_uri": "https://localhost:8080/",
          "height": 303
        }
      },
      "source": [
        "#Display results\n",
        "displayResult(dataset, trainPredict, trainY, testPredict, testY, scaler, history)"
      ],
      "execution_count": 0,
      "outputs": [
        {
          "output_type": "stream",
          "text": [
            "Train Score: 21.31 RMSE\n",
            "Test Score: 53.99 RMSE\n"
          ],
          "name": "stdout"
        },
        {
          "output_type": "display_data",
          "data": {
            "image/png": "[encoded data removed]",
            "text/plain": [
              "<Figure size 432x288 with 1 Axes>"
            ]
          },
          "metadata": {
            "tags": []
          }
        }
      ]
    },
    {
      "cell_type": "code",
      "metadata": {
        "id": "vqlEDgr1_Qj9",
        "colab_type": "code",
        "colab": {}
      },
      "source": [
        "%%capture\n",
        "#set sequence length\n",
        "history = 24\n",
        "dataset, trainPredict, trainY, testPredict, testY, scaler = airline_prediction(history)"
      ],
      "execution_count": 0,
      "outputs": []
    },
    {
      "cell_type": "code",
      "metadata": {
        "id": "PomLuoAqAGT8",
        "colab_type": "code",
        "outputId": "ec6ee823-bb64-4082-ad65-424002e49be8",
        "colab": {
          "base_uri": "https://localhost:8080/",
          "height": 381
        }
      },
      "source": [
        "#Display results\n",
        "displayResult(dataset, trainPredict, trainY, testPredict, testY, scaler, history)"
      ],
      "execution_count": 0,
      "outputs": [
        {
          "output_type": "stream",
          "text": [
            "Train Score: 23.69 RMSE\n",
            "Test Score: 85.08 RMSE\n"
          ],
          "name": "stdout"
        },
        {
          "output_type": "display_data",
          "data": {
            "image/png": "[encoded data removed]",
            "text/plain": [
              "<matplotlib.figure.Figure at 0x7f5b45c04550>"
            ]
          },
          "metadata": {
            "tags": []
          }
        }
      ]
    },
    {
      "cell_type": "code",
      "metadata": {
        "id": "3vV96-yM_RRN",
        "colab_type": "code",
        "colab": {}
      },
      "source": [
        "%%capture\n",
        "#set sequence length\n",
        "history = 12\n",
        "dataset, trainPredict, trainY, testPredict, testY, scaler = airline_prediction(history)"
      ],
      "execution_count": 0,
      "outputs": []
    },
    {
      "cell_type": "code",
      "metadata": {
        "id": "TdARbSuUAHIM",
        "colab_type": "code",
        "outputId": "77bbbee2-f6b3-4fa1-b94e-9662828af07f",
        "colab": {
          "base_uri": "https://localhost:8080/",
          "height": 381
        }
      },
      "source": [
        "#Display results\n",
        "displayResult(dataset, trainPredict, trainY, testPredict, testY, scaler, history)"
      ],
      "execution_count": 0,
      "outputs": [
        {
          "output_type": "stream",
          "text": [
            "Train Score: 20.20 RMSE\n",
            "Test Score: 62.67 RMSE\n"
          ],
          "name": "stdout"
        },
        {
          "output_type": "display_data",
          "data": {
            "image/png": "[encoded data removed]",
            "text/plain": [
              "<matplotlib.figure.Figure at 0x7f5b474f47f0>"
            ]
          },
          "metadata": {
            "tags": []
          }
        }
      ]
    },
    {
      "cell_type": "markdown",
      "metadata": {
        "id": "-PI_L1sBWD3X",
        "colab_type": "text"
      },
      "source": [
        "Para estos casos, a mayor largo de la secuencia peor rendimiento. sin embargo, este es un factor difícil de medir, debido a la alta volatilidad de resultados bajo las mismas condiciones. Además, el número de épocas de entrenamiento pareciera afectar más a secuencias más largas, que necesitan de mayor número de iteraciones para aprender de la información. Es por esto que solo se puede concluir que secuencias de largo 4 por lo general dan mejores resultados para este caso específico. Sin embargo, cambiar algún aspecto cualquiera tal como número de épocas o batch_size puede hacer que esta situación ya no se cumpla. "
      ]
    },
    {
      "cell_type": "markdown",
      "metadata": {
        "id": "L1h6TLoXaQBj",
        "colab_type": "text"
      },
      "source": [
        "#### Dense 100 layer"
      ]
    },
    {
      "cell_type": "code",
      "metadata": {
        "id": "lLCUYL-aMEZg",
        "colab_type": "code",
        "colab": {}
      },
      "source": [
        "def airline_prediction_100dense(history):\n",
        "    #read training and test sets\n",
        "    trainX, trainY, testX, testY, scaler, dataset=readAirlineData(history)\n",
        "\n",
        "    # create and fit the LSTM network\n",
        "    modelRNN = Sequential()\n",
        "    modelRNN.add(SimpleRNN(20, input_shape=(history, 1), return_sequences=False))\n",
        "    #modelRNN.add(Dropout(0.2))\n",
        "    modelRNN.add(Dense(100, activation='relu'))\n",
        "    #modelRNN.add(Dropout(0.2))\n",
        "    modelRNN.add(Dense(1))\n",
        "\n",
        "    #Train model\n",
        "    modelRNN.compile(loss='mean_squared_error', optimizer='adam')\n",
        "    modelRNN.fit(trainX, trainY, epochs=150, batch_size=5, verbose=2)\n",
        "\n",
        "    # Make predictions\n",
        "    trainPredict = modelRNN.predict(trainX)\n",
        "    testPredict = modelRNN.predict(testX)\n",
        "    return dataset, trainPredict, trainY, testPredict, testY, scaler"
      ],
      "execution_count": 0,
      "outputs": []
    },
    {
      "cell_type": "code",
      "metadata": {
        "id": "6PqQ3Vm0MPmg",
        "colab_type": "code",
        "colab": {}
      },
      "source": [
        "%%capture\n",
        "#set sequence length\n",
        "history = 4\n",
        "dataset, trainPredict, trainY, testPredict, testY, scaler = airline_prediction_100dense(history)"
      ],
      "execution_count": 0,
      "outputs": []
    },
    {
      "cell_type": "code",
      "metadata": {
        "id": "qdADl99lMPmj",
        "colab_type": "code",
        "outputId": "c48f6678-b7f9-48bf-efa6-b64e7f54665b",
        "colab": {
          "base_uri": "https://localhost:8080/",
          "height": 381
        }
      },
      "source": [
        "#Display results\n",
        "displayResult(dataset, trainPredict, trainY, testPredict, testY, scaler, history)"
      ],
      "execution_count": 0,
      "outputs": [
        {
          "output_type": "stream",
          "text": [
            "Train Score: 16.88 RMSE\n",
            "Test Score: 49.04 RMSE\n"
          ],
          "name": "stdout"
        },
        {
          "output_type": "display_data",
          "data": {
            "image/png": "[encoded data removed]",
            "text/plain": [
              "<matplotlib.figure.Figure at 0x7f5b3e29e588>"
            ]
          },
          "metadata": {
            "tags": []
          }
        }
      ]
    },
    {
      "cell_type": "markdown",
      "metadata": {
        "id": "6bRzH7WYao2A",
        "colab_type": "text"
      },
      "source": [
        "Agregar una capa densa de 100 neuronas produce una mejora promedio de los resultados. Esto es logrado una vez que se agranda las dimesiones de la capa interna del módulo RNN de la red, de forma que tener una capa densa de 100 neuronas tenga sentido. "
      ]
    },
    {
      "cell_type": "markdown",
      "metadata": {
        "id": "AhfIOIxnaNNA",
        "colab_type": "text"
      },
      "source": [
        "#### Dropout"
      ]
    },
    {
      "cell_type": "code",
      "metadata": {
        "id": "l3YrTKf8O1XM",
        "colab_type": "code",
        "colab": {}
      },
      "source": [
        "def airline_prediction_dropout(history):\n",
        "    #read training and test sets\n",
        "    trainX, trainY, testX, testY, scaler, dataset=readAirlineData(history)\n",
        "\n",
        "    # create and fit the LSTM network\n",
        "    modelRNN = Sequential()\n",
        "    modelRNN.add(SimpleRNN(50, input_shape=(history, 1), return_sequences=False))\n",
        "    modelRNN.add(Dropout(0.2))\n",
        "    modelRNN.add(Dense(1))\n",
        "\n",
        "    #Train model\n",
        "    modelRNN.compile(loss='mean_squared_error', optimizer='adam')\n",
        "    modelRNN.fit(trainX, trainY, epochs=150, batch_size=5, verbose=2)\n",
        "\n",
        "    # Make predictions\n",
        "    trainPredict = modelRNN.predict(trainX)\n",
        "    testPredict = modelRNN.predict(testX)\n",
        "    return dataset, trainPredict, trainY, testPredict, testY, scaler"
      ],
      "execution_count": 0,
      "outputs": []
    },
    {
      "cell_type": "code",
      "metadata": {
        "id": "c2PmTQqQO1XW",
        "colab_type": "code",
        "colab": {}
      },
      "source": [
        "%%capture\n",
        "#set sequence length\n",
        "history = 4\n",
        "dataset, trainPredict, trainY, testPredict, testY, scaler = airline_prediction_dropout(history)"
      ],
      "execution_count": 0,
      "outputs": []
    },
    {
      "cell_type": "code",
      "metadata": {
        "id": "7-QSPKyfO1Xg",
        "colab_type": "code",
        "outputId": "d683c4dd-e1ad-472f-c2a1-f7db332f0bf7",
        "colab": {
          "base_uri": "https://localhost:8080/",
          "height": 381
        }
      },
      "source": [
        "#Display results\n",
        "displayResult(dataset, trainPredict, trainY, testPredict, testY, scaler, history)"
      ],
      "execution_count": 0,
      "outputs": [
        {
          "output_type": "stream",
          "text": [
            "Train Score: 21.63 RMSE\n",
            "Test Score: 45.43 RMSE\n"
          ],
          "name": "stdout"
        },
        {
          "output_type": "display_data",
          "data": {
            "image/png": "[encoded data removed]",
            "text/plain": [
              "<matplotlib.figure.Figure at 0x7f5b3cf6d748>"
            ]
          },
          "metadata": {
            "tags": []
          }
        }
      ]
    },
    {
      "cell_type": "markdown",
      "metadata": {
        "id": "p9F_Hubn4PUR",
        "colab_type": "text"
      },
      "source": [
        "Añadirle dropout conlleva una mejora significativa de los resultados de test, comparado con la red sin esto.  Esto se debe a el aumento de la capacidad generalizadora de la red provocado por el dropout. Como la capa de 100 neuronas, para que esta tenga un efecto positivo se debe aumentar las dimensiones de la salida del módulo RNN. Esto es debido a que, al usar solo las 5 dimensiones dadas por el enunciado de esta tarea,  al aplicar dropout la información es llevada por muy pocas neuronas, con la consiguiente pérdida de detalle de las predicciones. "
      ]
    },
    {
      "cell_type": "markdown",
      "metadata": {
        "id": "NvZTi4SO831p",
        "colab_type": "text"
      },
      "source": [
        "### Actividad 3"
      ]
    },
    {
      "cell_type": "code",
      "metadata": {
        "id": "ve2kpYSR7E5W",
        "colab_type": "code",
        "outputId": "24a331ed-b578-406a-ff8d-8553ebcb97d7",
        "colab": {
          "base_uri": "https://localhost:8080/",
          "height": 204
        }
      },
      "source": [
        "modelLSTM = Sequential()\n",
        "modelLSTM.add(LSTM(5, input_shape=(history, 1), return_sequences=False))\n",
        "modelLSTM.add(Dense(1))\n",
        "modelLSTM.summary()"
      ],
      "execution_count": 0,
      "outputs": [
        {
          "output_type": "stream",
          "text": [
            "_________________________________________________________________\n",
            "Layer (type)                 Output Shape              Param #   \n",
            "=================================================================\n",
            "lstm_8 (LSTM)                (None, 5)                 140       \n",
            "_________________________________________________________________\n",
            "dense_113 (Dense)            (None, 1)                 6         \n",
            "=================================================================\n",
            "Total params: 146\n",
            "Trainable params: 146\n",
            "Non-trainable params: 0\n",
            "_________________________________________________________________\n"
          ],
          "name": "stdout"
        }
      ]
    },
    {
      "cell_type": "code",
      "metadata": {
        "id": "cDr0xwSlQfLw",
        "colab_type": "code",
        "colab": {}
      },
      "source": [
        "def airline_prediction_LSTM(history):\n",
        "    #read training and test sets\n",
        "    trainX, trainY, testX, testY, scaler, dataset=readAirlineData(history)\n",
        "\n",
        "    # create and fit the LSTM network\n",
        "    modelRNN = Sequential()\n",
        "    modelRNN.add(LSTM(10, input_shape=(history, 1), return_sequences=False))\n",
        "    modelRNN.add(Dense(1))\n",
        "\n",
        "    #Train model\n",
        "    modelRNN.compile(loss='mean_squared_error', optimizer='adam')\n",
        "    modelRNN.fit(trainX, trainY, epochs=1000, batch_size=5, verbose=2)\n",
        "\n",
        "    # Make predictions\n",
        "    trainPredict = modelRNN.predict(trainX)\n",
        "    testPredict = modelRNN.predict(testX)\n",
        "    return dataset, trainPredict, trainY, testPredict, testY, scaler"
      ],
      "execution_count": 0,
      "outputs": []
    },
    {
      "cell_type": "code",
      "metadata": {
        "id": "PKEgF91IQfL1",
        "colab_type": "code",
        "colab": {}
      },
      "source": [
        "%%capture\n",
        "#set sequence length\n",
        "history = 12\n",
        "dataset, trainPredict, trainY, testPredict, testY, scaler = airline_prediction_LSTM(history)"
      ],
      "execution_count": 0,
      "outputs": []
    },
    {
      "cell_type": "code",
      "metadata": {
        "id": "X0Lmnpd7QfL4",
        "colab_type": "code",
        "outputId": "0d6470a6-15c1-40d8-d12d-d66f7525afc2",
        "colab": {
          "base_uri": "https://localhost:8080/",
          "height": 381
        }
      },
      "source": [
        "#Display results\n",
        "displayResult(dataset, trainPredict, trainY, testPredict, testY, scaler, history)"
      ],
      "execution_count": 0,
      "outputs": [
        {
          "output_type": "stream",
          "text": [
            "Train Score: 11.17 RMSE\n",
            "Test Score: 97.13 RMSE\n"
          ],
          "name": "stdout"
        },
        {
          "output_type": "display_data",
          "data": {
            "image/png": "[encoded data removed]",
            "text/plain": [
              "<matplotlib.figure.Figure at 0x7f5b37fce8d0>"
            ]
          },
          "metadata": {
            "tags": []
          }
        }
      ]
    },
    {
      "cell_type": "markdown",
      "metadata": {
        "id": "0F0MJEzi-s8o",
        "colab_type": "text"
      },
      "source": [
        "Se tiene que con LSTM los resultados son iguales o peores, comparándolo con el largo de sequencia respectivo de modelo que usa simpleRNN. Esto se puede deber a dos cosas: una es la mayor cantidad de parámetros por entrenar, lo que necesita más tiempo y data para que produzca resultados aceptables. "
      ]
    },
    {
      "cell_type": "markdown",
      "metadata": {
        "id": "A0cC8K04858E",
        "colab_type": "text"
      },
      "source": [
        "## Parte 2"
      ]
    },
    {
      "cell_type": "markdown",
      "metadata": {
        "id": "SGhtBIcCuM48",
        "colab_type": "text"
      },
      "source": [
        "### Actividad 4\n",
        "El desarrollo de esta sección fue apoyado fuertemente en [este artículo]( https://machinelearningmastery.com/text-generation-lstm-recurrent-neural-networks-python-keras/)\n",
        "\n",
        "Esta diseño de red se caracteriza por ser lo más pequeña posible, pero que a la vez, permita en un principio tener un rendimiento aceptable. Esto además,  da una visión sobre el potencial y las capacidades de las LSTM RNN. \n",
        "\n",
        "Los parámetros se mantuvieron los del ejemplo guía, pues es poco probable que se logre una mejora de rendimiento significativa si se mantiene la estructura original de la red"
      ]
    },
    {
      "cell_type": "code",
      "metadata": {
        "id": "HZ4P7vVGkOeq",
        "colab_type": "code",
        "outputId": "90dcdff5-9659-4441-c55a-6b2d5af73549",
        "colab": {
          "base_uri": "https://localhost:8080/",
          "height": 234
        }
      },
      "source": [
        "# from IPython.display import Image, display\n",
        "# display(Image(\"LSTM.jpg\"))"
      ],
      "execution_count": 0,
      "outputs": [
        {
          "output_type": "display_data",
          "data": {
            "image/jpeg": "[encoded data removed]",
            "text/plain": [
              "<IPython.core.display.Image object>"
            ]
          },
          "metadata": {
            "tags": []
          }
        }
      ]
    },
    {
      "cell_type": "markdown",
      "metadata": {
        "id": "n46I3MLRVrte",
        "colab_type": "text"
      },
      "source": [
        "### Actividad 5"
      ]
    },
    {
      "cell_type": "code",
      "metadata": {
        "id": "2CICazwgDD5U",
        "colab_type": "code",
        "outputId": "0e774dcd-cdff-429a-d61b-a9a2d8f7cde9",
        "colab": {
          "base_uri": "https://localhost:8080/",
          "height": 34
        }
      },
      "source": [
        "import sys\n",
        "import numpy as np\n",
        "from keras.models import Sequential\n",
        "from keras.layers import Dense\n",
        "from keras.layers import Dropout\n",
        "from keras.layers import LSTM\n",
        "from keras.callbacks import ModelCheckpoint\n",
        "from keras.utils import np_utils"
      ],
      "execution_count": 0,
      "outputs": [
        {
          "output_type": "stream",
          "text": [
            "Using TensorFlow backend.\n"
          ],
          "name": "stderr"
        }
      ]
    },
    {
      "cell_type": "code",
      "metadata": {
        "id": "nVEB_GPe874d",
        "colab_type": "code",
        "colab": {}
      },
      "source": [
        "%%capture\n",
        "!  wget --output-document='quijote.txt' 'https://drive.google.com/a/uc.cl/uc?authuser=0&id=16PjMr1c0hvZVZHmZx8WRqp2kvVYkPts1&export=download'"
      ],
      "execution_count": 0,
      "outputs": []
    },
    {
      "cell_type": "markdown",
      "metadata": {
        "id": "hpcAOdVknBJo",
        "colab_type": "text"
      },
      "source": [
        "En esta celda se pule el texto a trabajar. Siendo que el enfoque está en estudiar el potencial de la red, se quitarán todos los símbolos que no correspondan a una letra del alfabeto, y las letras mayúsculas se reemplazarán por su correspondiente minúscula. De esta forma el problema se hace más simple y manejable. "
      ]
    },
    {
      "cell_type": "code",
      "metadata": {
        "id": "OJ9SPTvOvASP",
        "colab_type": "code",
        "colab": {}
      },
      "source": [
        "with open('quijote.txt') as f:\n",
        "    raw_text = f.read()\n",
        "\n",
        "raw_text = raw_text.replace('\\n', ' ')\n",
        "raw_text = raw_text.lower()\n",
        "raw_text = raw_text.replace('  ', ' ')\n",
        "raw_text = raw_text.replace('  ', ' ')\n",
        "\n",
        "weird_chars = '\\.|\\?|\\¿|\\¡|\\!|\"|;|,'\n",
        "\n",
        "import re\n",
        "raw_text = re.sub(weird_chars, '', raw_text)"
      ],
      "execution_count": 0,
      "outputs": []
    },
    {
      "cell_type": "code",
      "metadata": {
        "id": "tp0V17rvxCto",
        "colab_type": "code",
        "outputId": "a2bd3d01-726b-42c2-b85a-c68c4bceeb3d",
        "colab": {
          "base_uri": "https://localhost:8080/",
          "height": 51
        }
      },
      "source": [
        "# prepare the dataset of input to output pairs encoded as integers\n",
        "chars = sorted(list(set(raw_text)))\n",
        "n_categories = len(chars)\n",
        "print('Total distinct characters: ', n_categories)\n",
        "char_to_int = dict((c, i) for i, c in enumerate(chars))\n",
        "int_to_char = dict((i, c) for i, c in enumerate(chars))\n",
        "\n",
        "seq_length = 100 # arbitrary length\n",
        "# this is to make vecotrs of the same length\n",
        "n_chars = (len(raw_text) // seq_length) * seq_length \n",
        "\n",
        "dataX = []\n",
        "dataY = []\n",
        "for i in range(0, n_chars - seq_length, 1):\n",
        "\tseq_in = raw_text[i:i + seq_length]\n",
        "\tseq_out = raw_text[i + seq_length]\n",
        "\tdataX.append(np_utils.to_categorical([char_to_int[char] for char in seq_in], n_categories))\n",
        "\tdataY.append(char_to_int[seq_out])\n",
        "n_patterns = len(dataX)\n",
        "print('Total Patterns: ', n_patterns)\n"
      ],
      "execution_count": 0,
      "outputs": [
        {
          "output_type": "stream",
          "text": [
            "total distinct characters:  31\n",
            "Total Patterns:  300900\n"
          ],
          "name": "stdout"
        }
      ]
    },
    {
      "cell_type": "code",
      "metadata": {
        "id": "vQFPvAtXAvlF",
        "colab_type": "code",
        "colab": {}
      },
      "source": [
        "from keras.callbacks import ModelCheckpoint\n",
        "# reshape X to be [samples, time steps, features (length of one hot encoding)]\n",
        "X = np.reshape(dataX, (n_patterns, seq_length, len(dataX[0][0])))\n",
        "# one hot encode the output variable\n",
        "y = np_utils.to_categorical(dataY)"
      ],
      "execution_count": 0,
      "outputs": []
    },
    {
      "cell_type": "code",
      "metadata": {
        "id": "_-kZ5_7cBT4l",
        "colab_type": "code",
        "colab": {}
      },
      "source": [
        "# define the LSTM model\n",
        "model = Sequential()\n",
        "model.add(LSTM(256, input_shape=(X.shape[1], X.shape[2])))\n",
        "model.add(Dropout(0.2))\n",
        "model.add(Dense(y.shape[1], activation='softmax'))\n",
        "model.compile(loss='categorical_crossentropy', optimizer='adam')"
      ],
      "execution_count": 0,
      "outputs": []
    },
    {
      "cell_type": "code",
      "metadata": {
        "id": "qq6HVashCK9b",
        "colab_type": "code",
        "colab": {}
      },
      "source": [
        "filename = 'weights-improvement-01-1.4287.hdf5'\n",
        "model.load_weights(filename)"
      ],
      "execution_count": 0,
      "outputs": []
    },
    {
      "cell_type": "code",
      "metadata": {
        "id": "YgLCEBd6CWFo",
        "colab_type": "code",
        "colab": {}
      },
      "source": [
        "# define the checkpoint\n",
        "filepath=\"weights-improvement-{epoch:02d}-{loss:.4f}.hdf5\"\n",
        "checkpoint = ModelCheckpoint(filepath, monitor='loss', verbose=1, save_best_only=True, mode='min')\n",
        "callbacks_list = [checkpoint]\n",
        "# fit the model\n",
        "model.fit(X, y, epochs=3, batch_size=128, callbacks=callbacks_list)"
      ],
      "execution_count": 0,
      "outputs": []
    },
    {
      "cell_type": "code",
      "metadata": {
        "id": "LQg52EE_Pfsr",
        "colab_type": "code",
        "colab": {}
      },
      "source": [
        "from google.colab import files\n",
        "if 0:\n",
        "    files.download('weights-improvement-03-1.0974.hdf5')\n",
        "if 0:\n",
        "    files.upload()"
      ],
      "execution_count": 0,
      "outputs": []
    },
    {
      "cell_type": "markdown",
      "metadata": {
        "id": "Ypr6-tCxV25B",
        "colab_type": "text"
      },
      "source": [
        "### Actividad 6"
      ]
    },
    {
      "cell_type": "code",
      "metadata": {
        "id": "J8SzRxzSG9HK",
        "colab_type": "code",
        "outputId": "416bfcb8-d5bd-4011-ecc1-94bdf7807ce4",
        "colab": {
          "base_uri": "https://localhost:8080/",
          "height": 105
        }
      },
      "source": [
        "# 5 epochs\n",
        "import sys\n",
        "if 0:\n",
        "    filename = 'weights-improvement-05-2.1799.hdf5'\n",
        "    model.load_weights(filename)\n",
        "# pick a random seed\n",
        "start = numpy.random.randint(0, len(dataX)-1)\n",
        "pattern = dataX[start]\n",
        "print('Seed:')\n",
        "print(\"\\\"\", ''.join([int_to_char[value] for value in pattern]), \"\\\"\")\n",
        "# generate characters\n",
        "for i in range(1000):\n",
        "\tx = numpy.reshape(pattern, (1, len(pattern), 1))\n",
        "\tx = x / float(n_vocab)\n",
        "\tprediction = model.predict(x, verbose=0)\n",
        "\tindex = numpy.argmax(prediction)\n",
        "\tresult = int_to_char[index]\n",
        "\tseq_in = [int_to_char[value] for value in pattern]\n",
        "\tsys.stdout.write(result)\n",
        "\tpattern.append(index)\n",
        "\tpattern = pattern[1:len(pattern)]\n",
        "print(\"\\nDone.\")"
      ],
      "execution_count": 0,
      "outputs": [
        {
          "output_type": "stream",
          "text": [
            "Seed:\n",
            "\"  andantes tienen damas a quien encomendarse, porque no todos son enamorados    eso no puede ser, res \"\n",
            "pondio don quijote, que eo el caballero  q sue eo el caballoro  q sue eo el caballoro  q sue eo el caballoro  q sue eo el caballoro  q sue eo el caballoro  q sue eo el caballoro  q sue eo el caballoro  q sue eo el caballoro  q sue eo el caballoro  q sue eo el caballoro  q sue eo el caballoro  q sue eo el caballoro  q sue eo el caballoro  q sue eo el caballoro  q sue eo el caballoro  q sue eo el caballoro  q sue eo el caballoro  q sue eo el caballoro  q sue eo el caballoro  q sue eo el caballoro  q sue eo el caballoro  q sue eo el caballoro  q sue eo el caballoro  q sue eo el caballoro  q sue eo el caballoro  q sue eo el caballoro  q sue eo el caballoro  q sue eo el caballoro  q sue eo el caballoro  q sue eo el caballoro  q sue eo el caballoro  q sue eo el caballoro  q sue e"
          ],
          "name": "stdout"
        },
        {
          "output_type": "stream",
          "text": [
            "o el caballoro  q sue eo el caballoro  q sue eo el caballoro  q sue eo el caballoro  q sue eo el caballoro  q sue eo el caballoro  q sue eo el caballoro  q sue eo el caballoro  q sue eo el caballoro  q sue eo el caba\n",
            "Done.\n"
          ],
          "name": "stdout"
        }
      ]
    },
    {
      "cell_type": "markdown",
      "metadata": {
        "id": "bxD-9k1dPKqp",
        "colab_type": "text"
      },
      "source": [
        "Primero se intentó con un modelo que recibe número enteros como input. Sin embargo, los resultados está lejos de los esperados, con mucha repetición y formando palabras que no existen. Por lo tanto se decidió seguir el consejo de la literatura y del enunciado y usar onehot encoding para el input."
      ]
    },
    {
      "cell_type": "code",
      "metadata": {
        "id": "_byU9hkSLT1Q",
        "colab_type": "code",
        "colab": {}
      },
      "source": [
        "def prediction_onehot(pattern, model, length_prediction):\n",
        "    for i in range(length_prediction):\n",
        "        x = np.reshape(pattern, (1, len(pattern), len(pattern[0])))\n",
        "        prediction = model.predict(x, verbose=0)\n",
        "        index = np.argmax(prediction)\n",
        "        result = int_to_char[index]\n",
        "        sys.stdout.write(result)\n",
        "        pattern = np.concatenate([pattern, np_utils.to_categorical([index], n_categories)])\n",
        "        pattern = pattern[1:len(pattern)]"
      ],
      "execution_count": 0,
      "outputs": []
    },
    {
      "cell_type": "code",
      "metadata": {
        "id": "F9sS90pWlUaP",
        "colab_type": "code",
        "outputId": "e932fb7e-c051-4f60-bee5-526c25ca7203",
        "colab": {
          "base_uri": "https://localhost:8080/",
          "height": 105
        }
      },
      "source": [
        "# 3 epochs one hot\n",
        "if 0:\n",
        "    filename = 'weights-improvement-03-1.2062.hdf5'\n",
        "    model.load_weights(filename)\n",
        "# pick a random seed\n",
        "start = np.random.randint(0, len(dataX)-1)\n",
        "pattern = dataX[start]\n",
        "print('Seed:')\n",
        "print(\"\\\"\", ''.join([int_to_char[np.argmax(vector, axis=None, out=None)] for vector in pattern]), \"\\\"\")\n",
        "# generate characters\n",
        "prediction_onehot(pattern, model, 400)\n",
        "print(\"\\nDone.\")"
      ],
      "execution_count": 0,
      "outputs": [
        {
          "output_type": "stream",
          "text": [
            "Seed:\n",
            "\" eo que en nosotros nacio de remedialla si pudieramos os rogamos oh discreto ambrosio a lo menos yo o \"\n",
            "tra merced que el caballero de la mano a la mano a la mano a la mano a la mano a la mano a la mano a la mano a la mano a la mano a la mano a la mano a la mano a la mano a la mano a la mano a la mano a la mano a la mano a la mano a la mano a la mano a la mano a la mano a la mano a la mano a la mano a la mano a la mano a la mano a la mano a la mano a la mano a la mano a la mano a la mano a la mano a la mano a la mano a la mano a la mano a la mano a la mano a la mano a la mano a la mano a la mano a la mano a la mano a la mano a la mano a la mano a la mano a la mano a la mano a la mano a la mano a la mano a la mano a la mano a la mano a la mano a la mano a la mano a la mano a la mano a la mano a la mano a la mano a la mano a la mano a la mano a la mano a la mano a la mano"
          ],
          "name": "stdout"
        },
        {
          "output_type": "stream",
          "text": [
            " a la mano a la mano a la mano a la mano a la mano a la mano a la mano a la mano a la mano a la mano a la mano a la mano a la mano a la mano a la mano a la mano a la mano a la mano a la mano a la mano a la mano a la mano a\n",
            "Done.\n"
          ],
          "name": "stdout"
        }
      ]
    },
    {
      "cell_type": "markdown",
      "metadata": {
        "id": "UYmwEjbvPdZB",
        "colab_type": "text"
      },
      "source": [
        "Al usar onehot para la entrada las cosas mejoraron considerablemente. esto se vio desde la tercera época en la que superó ya con creces el desempeño de el modelo que usa números enteros como entrada. "
      ]
    },
    {
      "cell_type": "code",
      "metadata": {
        "id": "Kl0LNYCT56Kf",
        "colab_type": "code",
        "outputId": "cca97fd3-0b3e-429e-b4a3-bd10af1d88d9",
        "colab": {
          "base_uri": "https://localhost:8080/",
          "height": 153
        }
      },
      "source": [
        "!ls"
      ],
      "execution_count": 0,
      "outputs": [
        {
          "output_type": "stream",
          "text": [
            "datalab\t\t\t\t    weights-improvement-02-1.1641.hdf5\r\n",
            "quijote.txt\t\t\t    weights-improvement-02-1.2316.hdf5\r\n",
            "weights-improvement-01-1.1276.hdf5  weights-improvement-02-1.3265.hdf5\r\n",
            "weights-improvement-01-1.1846.hdf5  weights-improvement-03-1.0974.hdf5\r\n",
            "weights-improvement-01-1.2588.hdf5  weights-improvement-03-1.1430.hdf5\r\n",
            "weights-improvement-01-1.3715.hdf5  weights-improvement-03-1.2062.hdf5\r\n",
            "weights-improvement-01-1.4287.hdf5  weights-improvement-03-1.2903.hdf5\r\n",
            "weights-improvement-02-1.1120.hdf5\r\n"
          ],
          "name": "stdout"
        }
      ]
    },
    {
      "cell_type": "code",
      "metadata": {
        "id": "zKMDo37RWssn",
        "colab_type": "code",
        "outputId": "469c68a1-b068-49ad-c30b-bc3149d45b49",
        "colab": {
          "base_uri": "https://localhost:8080/",
          "height": 105
        }
      },
      "source": [
        "# 10 epochs one hot\n",
        "if 1:\n",
        "    filename = 'weights-improvement-02-1.1641.hdf5'\n",
        "    model.load_weights(filename)\n",
        "# pick a random seed\n",
        "start = np.random.randint(0, len(dataX)-1)\n",
        "pattern = dataX[start]\n",
        "print('Seed:')\n",
        "print(\"\\\"\", ''.join([int_to_char[np.argmax(vector, axis=None, out=None)] for vector in pattern]), \"\\\"\")\n",
        "# generate characters\n",
        "prediction_onehot(pattern, model, 400)\n",
        "print(\"\\nDone.\")"
      ],
      "execution_count": 0,
      "outputs": [
        {
          "output_type": "stream",
          "text": [
            "Seed:\n",
            "\" cuidad de su caballo porque era la mejor pieza que comia pan en el mundo  mirole el ventero y no le  \"\n",
            "parecio que el pastor de la mancha la pastora mas que esta en el mundo y a la mancha la alguna y el caballero andante como el cual se llamaba el cual se le acomete y al caballero del camino y al caballero del cabrero de la mancha que estaba en el mundo y a la mancha la alguna y el caballero andante como el cual se llamaba el cual se le acomete y al caballero del camino y al caballero del cabrero d\n",
            "Done.\n"
          ],
          "name": "stdout"
        }
      ]
    },
    {
      "cell_type": "markdown",
      "metadata": {
        "id": "r6naN12aYtpL",
        "colab_type": "text"
      },
      "source": [
        "El modelo entrenado con 10 épocas fue el con mejor desempeño. Como se puede observar, reconoce el género del sujeto (\"el pastor\", \"la pastora\"). Por cierto, cae en un loop, como la mayoría de los modelos entrenados. Este loop es:\n",
        "\n",
        "\"y el caballero andante como el cual se llamaba el cual se le acomete y al caballero del camino y al caballero del cabrero de la mancha que estaba en el mundo y a la mancha la alguna\"\n",
        "\n",
        "Coomo se puede ver es un loop de 181 caracteres, casi el doble de la sequencia que toma la red para predecir, que es 100 carácteres hacia atrás, lo que se puede interpretar como una buena señal\n",
        "\n",
        "Cabe destacar que todas las palabras escritas existen, y que no hay errores de ortografía.\n",
        "\n"
      ]
    },
    {
      "cell_type": "code",
      "metadata": {
        "id": "h7dKGngCWt_4",
        "colab_type": "code",
        "outputId": "a80ea044-9444-4f93-fa96-c0bbc73c88c8",
        "colab": {
          "base_uri": "https://localhost:8080/",
          "height": 105
        }
      },
      "source": [
        "# 13 epochs one hot\n",
        "if 1:\n",
        "    filename = 'weights-improvement-03-1.0974.hdf5'\n",
        "    model.load_weights(filename)\n",
        "# pick a random seed\n",
        "start = np.random.randint(0, len(dataX)-1)\n",
        "pattern = dataX[start]\n",
        "\n",
        "## uncomment this if it is to be tried with a external sequence of text. \n",
        "## keep in mind it's length has to be of exactly 100\n",
        "# seq_in = 'habia una vez cinco gatos silvestres que estaban en un bosque de forma pues lo unico que tenian que '\n",
        "# pattern = np_utils.to_categorical([char_to_int[char] for char in seq_in], n_categories)\n",
        "\n",
        "print('Seed:')\n",
        "print(\"\\\"\", ''.join([int_to_char[np.argmax(vector, axis=None, out=None)] for vector in pattern]), \"\\\"\")\n",
        "# generate characters\n",
        "prediction_onehot(pattern, model, 200)\n",
        "print(\"\\nDone.\")"
      ],
      "execution_count": 0,
      "outputs": [
        {
          "output_type": "stream",
          "text": [
            "Seed:\n",
            "\" e rocinante al cual tomo de la rienda y del cabestro al asno y se encamino hacia su pueblo bien pens \"\n",
            "aba de hacer la verdad y asi se le acomete de su amo y asi se le acomete de su amo y asi se le acomete de su amo y asi se le acomete de su amo y asi se le acomete de su amo y asi se le acomete de su a\n",
            "Done.\n"
          ],
          "name": "stdout"
        }
      ]
    },
    {
      "cell_type": "markdown",
      "metadata": {
        "id": "C-CNz2g_a9nU",
        "colab_type": "text"
      },
      "source": [
        "Se intentó seguir entrenando la red hasta el límite de su capacidad. Sin embargo, aunque el error de la validación bajó (de 1.16 a 1.09) su desempeño con las pruebas que se le hicieron fue menos satisfactorios. Como se ve en el output superior, el loop es mucho más corto (\"y asi se le acomete de su amo\") . Además, no se advierte un mayor entendimiento del lenguaje con respecto al modelo entrenado con solo 10 épocas. "
      ]
    },
    {
      "cell_type": "markdown",
      "metadata": {
        "id": "vpVVgkzhG5xW",
        "colab_type": "text"
      },
      "source": [
        "## Parte 3"
      ]
    },
    {
      "cell_type": "markdown",
      "metadata": {
        "id": "8OnmHHzsPv_0",
        "colab_type": "text"
      },
      "source": [
        "#### Actividad 7\n",
        "\n",
        "La creación del modelo fue inspirada en [este proyecto](https://github.com/Rahulrt7/Machine-comprehension-Keras) por Rahulrt7. "
      ]
    },
    {
      "cell_type": "code",
      "metadata": {
        "id": "oSfzhZ5iXKCm",
        "colab_type": "code",
        "outputId": "05f7e31e-b770-41ee-baed-0c7a3ea22dc6",
        "colab": {
          "resources": {
            "http://localhost:8080/nbextensions/google.colab/files.js": {
              "data": "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",
              "ok": true,
              "headers": [
                [
                  "content-type",
                  "application/javascript"
                ]
              ],
              "status": 200,
              "status_text": ""
            }
          },
          "base_uri": "https://localhost:8080/",
          "height": 109
        }
      },
      "source": [
        "from google.colab import files\n",
        "files.upload()"
      ],
      "execution_count": 0,
      "outputs": [
        {
          "output_type": "display_data",
          "data": {
            "text/html": [
              "\n",
              "     <input type=\"file\" id=\"files-c832a95b-6237-42df-bd4d-6394274f29d9\" name=\"files[]\" multiple disabled />\n",
              "     <output id=\"result-c832a95b-6237-42df-bd4d-6394274f29d9\">\n",
              "      Upload widget is only available when the cell has been executed in the\n",
              "      current browser session. Please rerun this cell to enable.\n",
              "      </output>\n",
              "      <script src=\"/nbextensions/google.colab/files.js\"></script> "
            ],
            "text/plain": [
              "<IPython.core.display.HTML object>"
            ]
          },
          "metadata": {
            "tags": []
          }
        },
        {
          "output_type": "stream",
          "text": [
            "Saving red3.jpg to red3 (1).jpg\n"
          ],
          "name": "stdout"
        },
        {
          "output_type": "execute_result",
          "data": {
            "text/plain": [
              "{'red3.jpg': b'\\xff\\xd8\\xff\\xe0\\x00\\x10JFIF\\x00\\x01\\x01\\x00\\x00\\x01\\x00\\x01\\x00\\x00\\xff\\xdb\\x00C\\x00\\x03\\x02\\x02\\x02\\x02\\x02\\x03\\x02\\x02\\x02\\x03\\x03\\x03\\x03\\x04\\x06\\x04\\x04\\x04\\x04\\x04\\x08\\x06\\x06\\x05\\x06\\t\\x08\\n\\n\\t\\x08\\t\\t\\n\\x0c\\x0f\\x0c\\n\\x0b\\x0e\\x0b\\t\\t\\r\\x11\\r\\x0e\\x0f\\x10\\x10\\x11\\x10\\n\\x0c\\x12\\x13\\x12\\x10\\x13\\x0f\\x10\\x10\\x10\\xff\\xdb\\x00C\\x01\\x03\\x03\\x03\\x04\\x03\\x04\\x08\\x04\\x04\\x08\\x10\\x0b\\t\\x0b\\x10\\x10\\x10\\x10\\x10\\x10\\x10\\x10\\x10\\x10\\x10\\x10\\x10\\x10\\x10\\x10\\x10\\x10\\x10\\x10\\x10\\x10\\x10\\x10\\x10\\x10\\x10\\x10\\x10\\x10\\x10\\x10\\x10\\x10\\x10\\x10\\x10\\x10\\x10\\x10\\x10\\x10\\x10\\x10\\x10\\x10\\x10\\x10\\x10\\x10\\xff\\xc0\\x00\\x11\\x08\\x01\\xff\\x01\\x19\\x03\\x01\"\\x00\\x02\\x11\\x01\\x03\\x11\\x01\\xff\\xc4\\x00\\x1d\\x00\\x01\\x00\\x03\\x01\\x01\\x01\\x01\\x01\\x01\\x00\\x00\\x00\\x00\\x00\\x00\\x00\\x00\\x05\\x06\\x07\\x08\\x04\\x03\\x02\\x01\\t\\xff\\xc4\\x00S\\x10\\x00\\x00\\x06\\x01\\x02\\x01\\x05\\t\\r\\x04\\x07\\x06\\x05\\x05\\x00\\x00\\x00\\x01\\x02\\x03\\x04\\x05\\x06\\x07\\x11\\x12\\x13\\x14\\x17!V\\x08\\x16\"1u\\x93\\x95\\xd2\\xd4\\x15267ARUW\\x96\\xa4\\xb3\\xb5\\xd3#Qa\\xb4$348qtvBES\\x81\\x91\\xb2\\tCb\\x82\\xa1\\x18rs\\x92\\x94\\xff\\xc4\\x00\\x1b\\x01\\x01\\x00\\x02\\x03\\x01\\x01\\x00\\x00\\x00\\x00\\x00\\x00\\x00\\x00\\x00\\x00\\x00\\x01\\x02\\x03\\x04\\x05\\x06\\x07\\xff\\xc4\\x00?\\x11\\x00\\x02\\x01\\x01\\x05\\x03\\n\\x05\\x02\\x05\\x03\\x04\\x03\\x00\\x00\\x00\\x00\\x01\\x02\\x03\\x04\\x11\\x12Q\\xd1\\x141\\x91\\x05\\x13!ARa\\x81\\x92\\xa1\\xb123S\\xc1\\xd2q\\xf0\\x15\"BC\\xe1\\x064\\xa2DTr\\x82\\xb2\\xc2\\xf1\\xff\\xda\\x00\\x0c\\x03\\x01\\x00\\x02\\x11\\x03\\x11\\x00?\\x00\\xeb\\xcc+\\n\\xc3e\\xe1\\xb42\\xa5bT\\xaf<\\xf5dW\\x1cq\\xc8\\r)KQ\\xb4\\x935\\x19\\x9aw33\\xeb313\\xde\\x16\\x0b\\xd8\\xba/G3\\xea\\x86\\x05\\xf0\\x17\\x1c\\xf2L?\\xc1H\\x9e\\x1dy\\xceX\\x9fI\\xd0\\x94\\x9d\\xef\\xa4\\x81\\xef\\x0b\\x05\\xec]\\x17\\xa3\\x99\\xf5C\\xbc,\\x17\\xb1t^\\x8eg\\xd5\\x13\\xc0+\\x8eY\\x91\\x89\\xe6@\\xf7\\x85\\x82\\xf6.\\x8b\\xd1\\xcc\\xfa\\xa1\\xde\\x16\\x0b\\xd8\\xba/G3\\xea\\x89\\xe0\\x0cr\\xccby\\x90=\\xe1`\\xbd\\x8b\\xa2\\xf4s>\\xa8w\\x85\\x82\\xf6.\\x8b\\xd1\\xcc\\xfa\\xa2x\\x03\\x1c\\xb3\\x18\\x9ed\\x0fxX/b\\xe8\\xbd\\x1c\\xcf\\xaa\\x1d\\xe1`\\xbd\\x8b\\xa2\\xf4s>\\xa8\\x9e\\x00\\xc7,\\xc6\\'\\x99\\x03\\xde\\x16\\x0b\\xd8\\xba/G3\\xea\\x87xX/b\\xe8\\xbd\\x1c\\xcf\\xaa\\'\\x801\\xcb1\\x89\\xe6@\\xf7\\x85\\x82\\xf6.\\x8b\\xd1\\xcc\\xfa\\xa1\\xde\\x16\\x0b\\xd8\\xba/G3\\xea\\x89\\xe0\\x0cr\\xccby\\x90=\\xe1`\\xbd\\x8b\\xa2\\xf4s>\\xa8\\xd54\\xa7\\xe2\\xbb\\x0e\\xf2\\x05\\x7f\\xf2\\xe8\\x14\\x91v\\xd2\\x9f\\x8a\\xec;\\xc8\\x15\\xff\\x00\\xcb\\xa0`\\xb4I\\xb8t\\xe7\\xa9\\x86\\xb3n=%\\xa8\\x00\\x06\\x89\\xacQ\\xb5\\xaa;\\x12\\xf4\\xfd\\xf8\\xb2\\x99m\\xe6^\\xb3\\xa8m\\xc6\\xdcI)+I\\xd8\\xc7#I\\x91\\xf5\\x19\\x19u\\x19\\x18\\xce\\xbb\\xc2\\xc1{\\x17E\\xe8\\xe6}Q\\xa4k\\x17\\xc0e\\xf9Z\\x9f\\xf3(\\xc2\\xaa7\\xec\\xf2j\\x97C\\xeb\\x7fcj\\x8bj\\x1d\\x19\\xe8@\\xf7\\x85\\x82\\xf6.\\x8b\\xd1\\xcc\\xfa\\xa1\\xde\\x16\\x0b\\xd8\\xba/G3\\xea\\x89\\xe0\\x19\\xb1\\xcb3.\\'\\x99\\x03\\xde\\x16\\x0b\\xd8\\xba/G3\\xea\\x87xX/b\\xe8\\xbd\\x1c\\xcf\\xaa\\'\\x801\\xcb1\\x89\\xe6@\\xf7\\x85\\x82\\xf6.\\x8b\\xd1\\xcc\\xfa\\xa1\\xde\\x16\\x0b\\xd8\\xba/G3\\xea\\x89\\xe0\\x0cr\\xccby\\x90=\\xe1`\\xbd\\x8b\\xa2\\xf4s>\\xa8w\\x85\\x82\\xf6.\\x8b\\xd1\\xcc\\xfa\\xa2x\\x03\\x1c\\xb3\\x18\\x9ed\\x0fxX/b\\xe8\\xbd\\x1c\\xcf\\xaa\\x1d\\xe1`\\xbd\\x8b\\xa2\\xf4s>\\xa8\\x9e\\x00\\xc7,\\xc6\\'\\x99\\x03\\xde\\x16\\x0b\\xd8\\xba/G3\\xea\\x87xX/b\\xe8\\xbd\\x1c\\xcf\\xaa\\'\\x801\\xcb1\\x89\\xe6@\\xf7\\x85\\x82\\xf6.\\x8b\\xd1\\xcc\\xfa\\xa3\\xcb7\\x11\\xc5*\\xe5SN\\xad\\xc6*bIj\\xfe\\x9f\\x81\\xe6!6\\xda\\xd3\\xbd\\x83\\x04{))#-\\xc8\\xcc\\xbf\\xc0\\xc5\\xa0F\\xdd\\xff\\x00\\xba|\\xbfM\\xf9\\x8cq*roxRy\\x9b\\x90\\x00\\x0eI\\xa0`8\\x17\\xc0\\\\s\\xc90\\xff\\x00\\x05\"x@\\xe0_\\x01q\\xcf$\\xc3\\xfc\\x14\\x89\\xe1\\xd5\\x9f\\xc4\\xcd\\xf9o`\\x00f:\\xb3\\x9e\\xde\\xe19f\\x10\\xddk\\xdb\\xc0\\x9e\\xbb\\x87,bp\\xa0\\xb9\\xd2#V?!\\xb4q\\x9aMH\\xfd\\xa3i=\\xd3\\xb7\\xf1\\xdc\\xba\\x85\\x1b\\xb8\\xabw\\x1ap\\x0c\\x12Ot\\xd5\\xfd^6W\\xb7\\x1a`\\xd3r\\'c\\xb5\\xb9%\\\\(\\xd7\\x84\\xea\\xdfb\\\\\\xb6c\\x9bN\\xa9L!-:\\x83\\x90\\xd9\\xec\\\\\\xa2U\\xb9\\x97\\x12v\\xdcXbk\\x85\\x9b\\x19\\xac\\r<\\xc8\\xf0\\xd8\\xd0\\xee\\xa4dlQ\\xc8\\xe6\\x96\\xaa\\x93\\x1d\\xb6^\\xaa\\x97=\\xa9(Z\\x98mK\\xdf\\x998\\xd1\\xb6hF\\xc6f\\xa2R\\x88\\x8b\\x8a1\"1#Z\\x01\\x88\\xe3\\x1a\\xcf\\x9d\\xe7\\x1a\\xa2\\x9cV\\x93\\x1d\\xa6\\x83N\\xdc,\\x9d\\xa7\\x1e\\x95=\\xc7^\\xe7U\\xb6\\xea\\xafm\\xdeM,\\x91\\x1a\\x14m\\xa5F\\x8eQ\\'\\xb3\\xcb\\xf0\\x8c\\xdaO)g\\xd0\\xab\\xdc\\xb6\\xf3\\x18\\xbaNi\\x90&\\xea\\xca\\xaf\\'\\xb8\\xaa\\xe7\\x89\\x88\\xdcd\\xad\\xa8\\xf2\\x96\\xda\\x08\\x9bo\\xa9$I\"\"\\xdc\\xd4\\xad\\xb6\\xddJ=\\xcc\\xcaI\\x84\\xef4p\\x18\\xcf|W\\xb9}\\x0eu\\x9c\\xcf\\xd5\\x1b\\xac/\\x1c\\xc7.g\\xc5\\x8e\\xedLZ\\xf5\\xad\\xa8\\x95d\\xe33\\x1ct\\xe5\\xc6\\x7f\\x88\\xd7!\\x0f\\x99\\xecE\\xb2Yd\\x93\\xb1\\x9b\\x86\\xba\\xb67a\\xaew)\\x87\\x86\\xd9\\xea}\\xa5M\\xccLQ\\xcc\\xb2D\\xa7\\xeb+W)n\\xca\\x94\\xeaa\\xc2\\x92E\\x1c\\x99\\xe0a\\xb6M\\x0f\\x1bM\\xb6\\xa5\\xac\\xf7J\\xd0]F\\xc41\\x1d\\x1e\\x03\\x97`\\xebf\\xa2\\xe5\\xd8U\\xde\\xb4\\xd6\\xe4J\\xa8\\xae\\xc5\\x19\\xc7\\xdd^:\\xdc8\\xeb\\x8f`R\\xab\\xa0XK\\xe5\\x9cq\\n}*\\xe4\\xec96\\xf97\\x10ISDj%\\xeed6\\x8dC\\xc9\\xae\\xf0\\xfc\\x8f\\x0b\\xb4bg\\x15%\\xa5\\xc2h-!\\xa9\\xb4\\x19qJA\\x94i\\t^\\xdcd\\xa4>\\x86\\xdb\\xe1\\xdf\\x84\\xd0\\xfa\\xcc\\xc8\\xcd)2)&\\x14\\xaf/@\\x00,H\\x17m)\\xf8\\xae\\xc3\\xbc\\x81_\\xfc\\xba\\x05$]\\xb4\\xa7\\xe2\\xbb\\x0e\\xf2\\x05\\x7f\\xf2\\xe8\\x18m\\x1f\\x07\\x8e\\xa6:\\xdf\\tj\\x00\\x01\\xa4k\\x14\\x9db\\xf8\\x0c\\xbf+S\\xfee\\x18UE\\xabX\\xbe\\x03/\\xca\\xd4\\xff\\x00\\x99F\\x15Q\\xbdC\\xe5x\\xbf\\xb1\\xb5K\\xe0\\xf1\\xd0\\x00\\x00\\xca\\\\\\x00\\xc6u\\x93W\\xaf4\\xb739\\xad2\\xab\\nZ\\xcd=\\xc92i5I46r\\xe4\\xc2\\x93Z\\x96\\xb6t\\xd0\\xa5 \\xc9\\x12\\x1fOW\\x82|{\\x99\\x19\\x91m\\xf9\\xbb\\xd7\\xbc\\xa7\\x1e\\xb4\\x97\\x8b\\xd8\\xe9\\xb4Ed\\x0c\\xd9QCb+\\x17\\xc6\\xb8\\xebj\\xd1\\xc7\\xdbe\\xd5\\xbcq\\xc8\\xd0h\\\\gyD\\x12\\x15\\xb2H\\x8d*Y\\x9e\\xc2\\xb8\\x96\\xe2/F\\xd0\\x03*\\xc3u\\xbaVI\\xa8\\x0c\\xe9\\xb5\\xa6&\\xddu\\xb3%v\\xdd\\x92\\x99\\xb19\\x0c\\xc7z\\x01\\xd6\\xa9)mF\\xd2\\r\\xd4:\\xd5\\xabK\\xe24\\xa0\\xd2h4\\x9aO}\\xca\\xa5\\x83\\xea\\xf6\\xa9k$\\x89\\x8c\\xe3\\x8cQ\\xe2U\\xd6\\x18./\\x93\\xc4\\x9a\\xf4\\x95M\\x91^\\xbb\\x17e\\x1b\\xff\\x00\\xb3S(m\\xc3&\\xa3\\xb8\\x94\\x9a\\x94IJ\\x9amF\\x95\\x93\\x8bClHbGA\\x00\\xcd\\xb47 \\xc92*k\\xd9v\\xb9\\x14\\x9c\\x8e\\x99\\x9b\\x97\\x18\\xc7/eFe\\x87\\xed+\\xc9\\x86L\\xdeRXm\\xb6\\x94\\x9eprP\\x87\\x10\\x84%\\xc6\\xd0\\x85\\x11\\x19\\x19)Y{\\x99\\xbe\\xb5f4\\xf8VeC;9\\xf7\\x0b-\\x89q|\\xe3x\\x85u3\\x8f\\xc4\\x8anD\\xf7.9\\xae\\xc9\\xb57\\xb1\\xc7S\\xce\\xab\\xaf\\x94[\\x86\\xb2O\\x82IA1\\x0cGL\\x80\\xe6{}Y\\xcc/\\xf1|\\xb7<\\xd3\\xddF\\x9b\\xee>\\x9e\\xe1\\x902\\x08\\xa8\\x95]\\x13\\x8f }Q^\\x92\\xef?\\xe2d\\x94\\xd1)\\xb6\\x90\\x8e\\x16\\t\\x83B\\xd4\\xe1\\xf8\\x88\\x90] \\x879\\xfc\\x04\\xba\\xc3\\xae\\xb1\\xceY%!i$\\xf1\\xb7\\xc4\\x9e\\xa3\"Q\\x19n[\\xfc\\xa4e\\xfc\\x0c\\x13\\xbc\\'y\\xe8\\x01H\\xd1\\xfc\\xaa\\xe3)\\xc4\\x1cFH\\xf2\\x1f\\xbb\\xa2\\xb3\\x9dCd\\xfa\\x1b$&K\\xd1$-\\x92\\x90I.\\xa4\\xf2\\xa8J\\x1d\\xe1.\\xa4\\xf2\\x9c%\\xe2\\x17q+\\xa4\\x9d\\xe0F\\xdd\\xff\\x00\\xba|\\xbfM\\xf9\\x8cq$#n\\xff\\x00\\xdd>_\\xa6\\xfc\\xc68\\xb2\\xdeJ\\xden@\\x009f\\x89\\x80\\xe0_\\x01q\\xcf$\\xc3\\xfc\\x14\\x89\\xe1\\x03\\x81|\\x05\\xc7<\\x93\\x0f\\xf0R\\'\\x87V\\x7f\\x137\\xe5\\xbd\\x81T\\xcdt\\xe2\\x8f;\\x9fQao*s.R\\xa6rX(\\xcbBR\\xaeu\\x15\\xc8\\xceq\\xf1%[\\xec\\x87Ti\\xdbm\\x94E\\xbe\\xe5\\xd4v\\xb0\\x14\\xdeT\\xc45_@c\\xdb\\xe0\\x8dV\\xe2\\x8a\\xb4\\x97e\\x02\\x96\\xb3\\x18\\x8c\\xd1\\xcbi\\xa3T\\x16l\"<\\xb7MfI\\xd9\\xe2Ds>\"Q\\x17Q\\xec\\x9d\\xcc\\x84\\xfa\\xb4\\n\\x99\\xc7\\x15m\\'6\\xca\\x1f\\xc8\\xce\\xe9\\x8b\\xd4\\xe4\\x0b\\\\>x\\xdb\\xec\\xc5r#hJ\\n9F&\\xc9\\x87\\x9eG\\x0f#\\xd7\\xca\\xadF|G\\xc45\\x00\\x11\\x85o\"\\xe4e\\xd8\\xe6\\x80Rb3aZc\\x99\\xb6S\\x0etF\\xaf\\x1a\\\\\\x93v#\\xcb\\x93\\xee\\xa4\\xa5KuN\\xf2\\xb1\\xd4F\\xa6\\xe4(\\x9cl\\xd2I\\xebI\\x12\\xf9D\\x9a\\x92r\\xdac\\xa5\\x8ei\\x97\\xba\\xa8F\\xa2d\\xf9\\x1b6\\xf3_\\xb1u\\xab\\x86\\xeb\\xc9-\\xcay\\xc58\\xf3\\xa88\\xb1YV\\xebR\\x8ft\\xa8\\xcd%\\xd5\\xc2I\\x17\\xb0\\x13r&\\xe4d\\xf5zQ\"m\\x06\\x7f\\xa5\\xb9+r\\x9a\\xc6\\xaf\\xae\\xa5[A\\x9d\\x11\\xf6\\x89n\\xb3=\\xe3\\x95&9\\xa5\\\\F\\x95&B\\x9f#\\xdd\\x1c*m\\xd4p\\x99\\xab\\x88\\x91=\\x9f\\xe9%^{b\\xdd\\xc1d\\xd9\\x06?;\\xdc\\xf7\\xea%H\\xa6}\\x96\\xd72\\x03\\xca%.;\\x9c\\xabN\\x11\\x16\\xe9\\xdd+G\\x0b\\x885+\\x85i\\xe2=\\xef@\\x17!r3\\t\\xfd\\xcf\\x98\\\\\\xbb$\\xbd\\n\\xca\\xe6\\xb2\\x9d\\xdfsy\\xfd\\x047\\x9aM}\\x81\\xc0$\\x14Sx\\x94\\xda\\x9d.\\x14\\xb4\\xd2\\x0c\\x9bq\\x04\\xb4\\xb4\\x84\\xac\\x96E\\xb0\\xfcd\\x18&cw\\x90\\xe3\\xd5s\\xe7;>\\x966T\\xf6S*c\\xce7\\xfd\\x19\\x96\\x13\\xbc8\\x08Il\\xa5\\x19\\xbe\\xb49\\xc5\\xc3\\xb2P\\xca\\xd2j5\\x1aMZ\\x90\\x08\\xc2\\x88\\xb9\\x00\\x00\\x16$\\x0b\\xb6\\x94\\xfcWa\\xde@\\xaf\\xfe]\\x02\\x92.\\xdaS\\xf1]\\x87y\\x02\\xbf\\xf9t\\x0c6\\x8f\\x83\\xc7S\\x1do\\x84\\xb5\\x00\\x00\\xd25\\x8aN\\xb1|\\x06_\\x95\\xa9\\xff\\x002\\x8c*\\xa2\\xd5\\xac_\\x01\\x97\\xe5j\\x7f\\xcc\\xa3\\n\\xa8\\xde\\xa1\\xf2\\xbc_\\xd8\\xda\\xa5\\xf0x\\xe8\\x00\\x00e.P\\xf5\\x17F\\xf1\\x8dM\\x93&U\\xf4\\xfbF\\x17+\\x19\\xb4\\xc5VQ\\x1dm$Q\\'\\xb9\\x19o,\\xb8\\x90\\xaf\\xda\\x91\\xc4o\\x84\\xfd\\xe9\\x11\\xabt\\xabr\\xda\\xb1\\xab\\xfa1#*\\xba\\x8d\\x93c\\x92m\\x11gcu\\x8e\\x1c\\xf7#\\xc9e\\xbee\\x12\\xb6D\\x97S!\\x92q=kI\\xcaY\\x9aU\\xc6J\\xe1Ip\\x19q\\x12\\xb60\\x15qL\\x8b\\x932\\xc8\\xbd\\xcf\\xd4PeE\\xb9\\x85\\x9a\\xe5L_7\"\\xc6D\\xbb\\xa4=\\x13\\x9d\\xcf\\xe7\\xc4\\xc1HC\\xa5\\xcd\\xf9$\\xa4\\xca$RO$\\xdbf\\x82a\\x1c&]{\\xc5?\\xdc\\xb3\\x89\\x962\\x9cN\\xa38\\xcb\\xaa`+\\x15\\xa9\\xc4$\\xa6+\\xb0\\x96r\\xe1W:\\xb7#\\x9b\\xbc\\xb4g\\x08\\xd6d\\xeb\\xed\\xac\\x88\\x89\\xb7\\x1byiR\\x0f\\xa8\\xcbh\\x00\\xc2\\x86\\x14W\\xf0\\xdcb\\xd3\\x15\\xafr\\x05\\x9euw\\x93\\x9a\\x96F\\xd3\\xd6\\xac@il \\x92DM\\xa0\\xa1\\xc6a\\x1c=[\\xf8I3\\xeb\\xf1\\xed\\xb1\\x0c\\xe7\\n\\xd1\\xbb\\xf8\\x98U&#+,\\xc9\\xb19XAJ\\xa1\\xac\\xb0\\xa4\\x99\\x18\\xd1cRf\\x8eAKi\\xe6\\xdeo~I\\x0c\\xa4\\xcdM\\xa5\\xd48\\xdb\\x9c\\n$\\xab\\x89{0\\t\\xb9\\x13q\\x92\\xcd\\xeeh\\xc0\\x9e\\x82\\xc5%e\\x9d\\xf5E*\\xa9\\xe2PZU\\xc2\\x94\\xd9\\xb1s_\\x18\\xd6m3(\\xddmn\\x1fS\\xae\\xa5Kmm\\xadiqIR\\x94[\\x11_\\xea+\\xaejedSg\\xdaH\\xb4ft\\xfey]\\x17\\xc0#\\x88\\xc1Ea\\xb3\\x8e\\x83>\\x12\\xd8\\xddi\\xd7\\x0b\\x88\\xfco\\x1e\\xe7\\xb7\\x8al\\x01$\\xb7\\x0b\\x92)\\x1a?\\x8b\\\\b\\xf8\\x8b\\x8b\\xc9\\x19C\\x17w\\xb6s\\xef\\xac\\x98C\\x84\\xb4\\xc6z\\\\\\x85\\xbcQ\\xc9E\\xd4\\xaeI\\nC\\\\E\\xd4\\xa3l\\xd4^1w\\x00\\x05\\xd0\\x17@\\x11\\xb7\\x7f\\xee\\x9f/\\xd3~c\\x1cI\\x08\\xdb\\xbf\\xf7O\\x97\\xe9\\xbf1\\x8e,\\xb7\\x92\\xb7\\x9b\\x90\\x00\\x0eY\\xa2`8\\x17\\xc0\\\\s\\xc90\\xff\\x00\\x05\"xy\\xe84\\xefTh\\xe8\\xab\\xa9}\\xcc\\xc5\\x9e\\xf7>#1y_v\\xa4\\'\\x8f\\x81\\x04\\x9e-\\xb9\\x99\\xed\\xbe\\xdb\\xed\\xb9\\x8fwy\\xfa\\xa3\\xf4.-\\xe9\\xd9\\x1e\\xc6:r\\x9c[n\\xf5\\xc4\\xddr\\x8b{\\xcf\\x88\\x0f\\xb7y\\xfa\\xa3\\xf4.-\\xe9\\xd9\\x1e\\xc6\\x1d\\xe7\\xea\\x8f\\xd0\\xb8\\xb7\\xa7d{\\x18\\xae(\\xe6\\xb8\\x91\\x89f|@}\\xbb\\xcf\\xd5\\x1f\\xa1qoN\\xc8\\xf60\\xef?T~\\x85\\xc5\\xbd;#\\xd8\\xc3\\x14s\\\\F%\\x99\\xf1\\x01\\xf6\\xef?T~\\x85\\xc5\\xbd;#\\xd8\\xc5f|\\xfc\\xee\\xbbPj\\xb4\\xe1\\xecn\\x85V6\\xf0_\\xb0e\\xe4\\xdd\\xbd\\xc8\\xa5\\xb6\\x8c\\x89D\\xa3\\xe6\\xbc\\\\G\\xbfV\\xc92\\xfe!\\x8a9\\xae#\\x12\\xcc\\xb0\\x00\\xfbw\\x9f\\xaa?B\\xe2\\xde\\x9d\\x91\\xeca\\xde~\\xa8\\xfd\\x0b\\x8bzvG\\xb1\\x86(\\xe6\\xb8\\x8cK3\\xe2\\x03\\xed\\xde~\\xa8\\xfd\\x0b\\x8bzvG\\xb1\\x87y\\xfa\\xa3\\xf4.-\\xe9\\xd9\\x1e\\xc6\\x18\\xa3\\x9a\\xe21,\\xcf\\x88\\x0f\\xb7y\\xfa\\xa3\\xf4.-\\xe9\\xd9\\x1e\\xc6\\x1d\\xe7\\xea\\x8f\\xd0\\xb8\\xb7\\xa7d{\\x18b\\x8ek\\x88\\xc4\\xb3>\"\\xed\\xa5?\\x15\\xd8w\\x90+\\xff\\x00\\x97@\\xa7\\xf7\\x9f\\xaa?B\\xe2\\xde\\x9d\\x91\\xecc@\\xc2iecxe\\x0e;9\\xc6\\x9c\\x93WY\\x16\\x13\\xcah\\xcc\\xd0\\xa5\\xb4\\xd2P\\xa3I\\x99\\x11\\x99n\\x93\\xdbr#\\xdb\\xe4!\\x86\\xbc\\x93\\x85\\xc9\\xf5\\x98\\xea\\xb4\\xe3\\xd0M\\x00\\x00\\xd45\\xcaN\\xb1|\\x06_\\x95\\xa9\\xff\\x002\\x8c*\\xa2\\xf7\\xa8\\xb8\\xfd\\xa6O\\x8a=SJqy\\xe7;\\x83)\\xa2\\x94\\xea\\x9bi\\\\\\x84\\xa6\\x9e4\\xa9IJ\\xcd;\\x93fDd\\x93\\xeb2\\x14\\xae\\xf3\\xf5G\\xe8\\\\[\\xd3\\xb2=\\x8cn\\xd0\\x94U;\\x9b\\xeb\\x7fcf\\x94\\x92\\x8d\\xcd\\x9f\\x10\\x1fn\\xf3\\xf5G\\xe8\\\\[\\xd3\\xb2=\\x8c;\\xcf\\xd5\\x1f\\xa1qoN\\xc8\\xf61\\x93\\x14s\\\\K\\xe2Y\\x9f\\x10\\x1fn\\xf3\\xf5G\\xe8\\\\[\\xd3\\xb2=\\x8c;\\xcf\\xd5\\x1f\\xa1qoN\\xc8\\xf60\\xc5\\x1c\\xd7\\x11\\x89f|@}\\xbb\\xcf\\xd5\\x1f\\xa1qoN\\xc8\\xf60\\xef?T~\\x85\\xc5\\xbd;#\\xd8\\xc3\\x14s\\\\F%\\x99\\xf1\\x01_\\xc4\\xe7\\xe7y\\x85\\xdeKE]\\x8d\\xd0\\xb4\\xfe/95\\xf2\\xd4\\xfd\\xdb\\xc4\\x87\\x1c4\\x12\\xb7oh\\xa6f\\x9d\\x8f\\xe5\"?\\xe0,\\xdd\\xe7\\xea\\x8f\\xd0\\xb8\\xb7\\xa7d{\\x18b\\x8ek\\x88\\xc4\\xb3> >\\xdd\\xe7\\xea\\x8f\\xd0\\xb8\\xb7\\xa7d{\\x18w\\x9f\\xaa?B\\xe2\\xde\\x9d\\x91\\xeca\\x8a9\\xae#\\x12\\xcc\\xf8\\x80\\xfbw\\x9f\\xaa?B\\xe2\\xde\\x9d\\x91\\xeca\\xde~\\xa8\\xfd\\x0b\\x8bzvG\\xb1\\x86(\\xe6\\xb8\\x8cK3\\xe2#n\\xff\\x00\\xdd>_\\xa6\\xfc\\xc68\\x98\\xef?T~\\x85\\xc5\\xbd;#\\xd8\\xc7\\xe1x\\x0e\\xa3\\xcf\\x95\\\\\\x89\\xd5\\xf8\\xdcx\\xd1\\xec\\xe0My\\xc6\\xad\\xdfud\\x86$\\xb6\\xf2\\x89(8\\xa9#3&\\xcc\\x8bu\\x11n~1*qN\\xfb\\xd7\\x12T\\xa2\\xba\\xcdt\\x00\\x074\\xd2\\x00\\x00\\x00\\x00\\x00\\x00\\x00\\x00\\x00\\xc6\\xf2\\x8f\\xefO\\x84\\xff\\x00\\xa6l\\xbf\\xefH\\xd9\\x067\\x94\\x7fz|\\'\\xfd3e\\xff\\x00z@\\x1b \\x00\\x00\\x00\\x00\\x00\\x00\\x00\\x00\\x00\\x00\\x00\\x00\\x00\\x00\\x00\\x00\\x00\\x00\\x00\\x00\\x00\\x00\\x00\\x001\\xbd\\x0e\\xf8\\xc5\\xd6\\x0f\\xf53\\x7f\\x80Cd\\x18\\xde\\x87|b\\xeb\\x07\\xfa\\x99\\xbf\\xc0!\\xb2\\x00\\x00\\x00\\x00\\x00\\x00\\x00\\x00\\x00\\x00\\x00\\x00\\x00\\x00\\x00\\x00\\x00\\x00\\x00\\x00\\x00\\xc6\\xf2\\x8f\\xefO\\x84\\xff\\x00\\xa6l\\xbf\\xefH\\xd7,a\\xfb\\xa1_&\\x079~?9el\\xf2\\xcc8hu\\xbe$\\x99q!E\\xd6\\x95\\x16\\xfb\\x91\\xfc\\x86?\\xcc\\xec\\xc2\\xe7]1\\xfd_^/34\\xbf\\x97\\x95VJUD\\x19\\x05-|\\xb3\\x88uE\\xc0M\\x99\\x9e\\xe4\\x97\\tHQ\\x17\\xfe\\xa2\\x00\\x7f\\xa7  \\xb0j;<o\\x10\\xa9\\xa3\\xbb\\xba\\x93oc\\x122\\x13.t\\x97T\\xe2\\xdf|\\xfa\\xd6\\xae%u\\xed\\xc4g\\xb1|\\x89\\xd8\\xbeA:\\x00\\x00\\x00\\x00\\x00\\x00\\x00\\x00\\x00\\x00\\x00\\x00\\x00\\x00\\x00\\x00\\x00\\x00\\x00\\x00\\x00\\x02\\x83\\xaeT9u\\xfe\\x9a[3\\x81\\xdeX\\xd5\\xdf\\xc3G=\\x84\\xe4\\x17\\xd4\\xda\\xde[dfl\\x99\\xa7\\xc6KO\\x12H\\xbc\\\\F\\x93\\xf9\\x00\\x15\\x9d\\x0e\\xf8\\xc5\\xd6\\x0f\\xf53\\x7f\\x80Cd\\x1f\\xe6\\xff\\x00s\\xad\\x86\\xac\\xea\\x0e\\xac3E[\\x9d_\\xc4f\\xcaO\\xbay\\x04\\x86&8\\x858\\xcb[\\x12\\xd4\\xb5\\x11\\xeejW\\x82\\xd9\\x1f\\xc8k!\\xfe\\x90\\x00\\x00\\x00\\x00\\x00\\x00\\x00\\x00\\x00\\x00\\x00\\x00\\x00\\x00\\x00\\x84\\xc8\\xf25\\xd2.$H\\x95\\xe76d\\xd3Y\\xb6\\xd9\\xb9\\xc9\\xa1(G\\x0f\\x1a\\xd6\\xbd\\x8fb.$\\x97Q\\x19\\x99\\xa8\\xba\\x84\\'}\\xf9\\xa7d\\xe9=8\\xef\\xb2\\x86_\\xf0\\xd2\\x8b\\xc9v\\x7f\\x8b\\x08x2\\x19O\\xc1\\xa0\\xb3\\x9b\\x15\\xce\\x07\\xa3\\xc3y\\xd6\\xd5\\xb1\\x1f\\n\\x92\\x832=\\x8f\\xa8\\xfa\\xcb\\xe5\\x1e^\\xd5j\\xb5N\\xd5V\\x9d:\\xae*-$\\x92\\x8ff2\\xeb\\x8b{\\xd9\\xdc\\xb3Y\\xa8:\\x11\\x9c\\xe1{w\\xbd\\xef6\\xba\\x9a\\xc8\\xf7\\xf7\\xdf\\x9avN\\x93\\xd3\\x8e\\xfb(w\\xdf\\x9avN\\x93\\xd3\\x8e\\xfb(\\xe5\\xdd\\r\\xd4\\xdb\\xbb\\xac7\\x1e\\xcf/\\xb5cW\\xf2\\x0b5b\\xc9\\xbc\\xb0\\xa9\\xb6\\xc1Z\\xac\\xa3\\x92\\xf9\\xc1\\xe5\\\\Bg&\\x99\\x92&\\xc9ff\\xda\\x91$\\xf8\\xb8Q\\xb1\\xb8Fd\\xa9\\x89\\x1d\\xd4\\xd9\\x94\\n9\\xf9\\r\\x96\\x90Bf%n\\x17\\x0f?\\x91\\xc3\\x93\\x1a\\xd6\\x8a\\x97\\xb9^6\\xf6\\xe6\\xa5\\xfd-\\x04\\xca\\xcc\\x9a#6\\xd5\\xff\\x00\\x19\\'\\xd4f\\xad\\xe9\\xdc\\xad\\x12\\xe1O\\xef\\x02\\xca\\x16F\\xaf\\xe6\\xd7\\x19}\\xa4tW}\\xf9\\xa7d\\xe9=8\\xef\\xb2\\x8a\\x05\\xc6\\x0f.\\xebW)\\xb5zV!I\\xee\\x95D\\'#\\x13>\\xec\\xbb\\xc0\\xeb\\x87\\xd4\\xd3\\xaa>k\\xef\\x90\\x95:E\\xd4{\\xf1 \\xf7.\\x02\\xdf<\\xa8\\xd7\\x9c\\xde\\x8b#\\xc9\\x17\\x96\\xe3\\xb1\\xe6\\xe215\\x0b\\xbd&\\xed\\xf9\\xfaZ\\x93\\x0b\\x97K\\t\\x8eI\\x8a\\x866y\\x92u\\xe4!N)\\xe2p\\x8d\\xc3\\xf0TI\\xdcCP\\xf7r\\xe1\\xd6\\xf5\\x12o\\x0e\\xba\\x96K/\\xe3R\\xb2Z\\x98t\\xf93\\x16\\x13\\xd4\\xdbJh\\x93\\x16s\\tBy\\x8c\\x879\\xc3\\\\)58\\x92\\xd9\\xd2R\\x92h\\xd8\\xe1.P{\\xab\\xcb\\x85?\\xc0`\\xb1\\xf5\\xc1q\\x96\\xa7M\\xf7\\xdf\\x9avN\\x93\\xd3\\x8e\\xfb(w\\xdf\\x9avN\\x93\\xd3\\x8e\\xfb(\\xe7n\\x9d\\xb5B\\x87Qr\\\\_\\'\\xc3\\xab\\x95f\\xb2\\xc5\\xebhh\\xe3\\xdc\\x12\\xe0\\x9c\\xc9\\xeb\\xb1S\\xcf*q\\xc5K\\xc4\\xdf%\\x14\\x8d\\\\L\\xa8\\xd2l(\\x90\\x93\\xe2\\xe2Uq\\x1d\\xd3Y\\xd6)+,\\xb5\\xcd)\\xa4Js\\x1d\\x8f\\x9aX{\\x8f\\x1alt\\xc7\\xe4\\xea}\\xc9\\xe4\\xd8\\'y\\xb7(\\xe6\\xe71\\xd3m\\xdd\\xd0|+>Q\\xb5\\x19\\xa0\\x9a\\x94\\xad\\xef\\xa3h\\x97\\n\\x7f\\x80\\xc1d_\\xdb_\\xf2\\xd4\\xea\\xce\\xfb\\xf3N\\xc9\\xd2zq\\xdfe\\x0e\\xfb\\xf3N\\xc9\\xd2zq\\xdfe\\x18\\xad\\xa6\\xbf\\xe4\\xb4\\x97S\\xf0\\x9bM9\\x84\\x9c\\xb4\\xa6\\xd2\\xc4\\xac\\x84\\xcd\\xf2\\x97\\x12IYs\\x9eMoI8\\xc4\\xa6y2\\x83)N\\x12Zw\\xa9\\t\\xe15\\xf1u\\\\\\xb4\\x9fQl\\xf5\\x16\\xbe\\xf9\\xdb\\x9cY4\\x13\\xb1\\xeb\\xe9T2#&w;B\\xdca-\\x9a\\x9dC\\x9c\\x08\\xdd\\n5\\xf8;\\xa4\\x8c\\xd3\\xb1\\x99$\\xcc\\xd2Tr\\xb7E^\\xed\\x12\\xe1O\\xf0,\\xa8\\xd9[\\xb9S\\\\e\\xa9\\xa6c\\xf9L\\xab;\\x05\\xd4Z\\xd5\"\\x0c\\xb2c\\x9c7\\xc8\\xc87\\xdau\\x04iJ\\xb6Q\\xa1\\x07\\xbaMI\\xdc\\x8d%\\xef\\x88\\xcb\\xf8X\\x85\\x0e\\xa3\\xe3\\x06\\xb7\\xc8\\xd6?\\x8f\\x0c_\\x07_\\x92m\\x15k\\xd3\\x9a\\xab,N2\\xba\\xfe\\x8b\\xdfB}7$\\xba\\xee\\xdcs-\\xd4\\xa1J\\xa2PW&\\xaf\\xf7_`\\x00\\x03\\xa8i\\x00\\x00\\x00\\x00\\x00\\x00\\x15{\\x8c\\xbe\\xc2=\\x9c\\x9a\\xba:Ff\\xb9\\x0c\\x90O\\xbb&Y\\xc7l\\x96\\xa4\\x92\\x89\\t4\\xb6\\xb33\\xe1Q\\x19\\xf5\\x11u\\x97_\\xee\\xb4\\x0c\\xf1\\x9f\\x85\\x19_\\x95\\x19\\xfeB(\\xe4r\\xc5\\xa2\\xad\\x08S\\x8d\\x19ar\\x95\\xd7\\xab\\xaf\\xbb\\x0c\\x9fZk\\xa9u\\x1b\\xfc\\x9fF\\x15\\xa7.q^\\x92\\xbf\\xd5.\\xaf\\xd4\\xf6\\xf7\\xdf\\x9avN\\x93\\xd3\\x8e\\xfb(w\\xdf\\x9avN\\x93\\xd3\\x8e\\xfb(\\xc9\\xfb\\xa6s\\x1b\\xfc\\'N\\xe0\\xdac\\xb9\\r\\xb5\\x1b\\xd2\\xf2ZJ\\xc9\\x13jk\\x11a5\\xb8\\xb2g\\xb4\\xd3\\xfc\\x84u\\xb0\\xf98\\xe9\\xb6\\xb5\\x12RL\\xadF{l\\x93=\\x88V\\xab5>\\xcf\\x0e\\xa1+J\\xcb\\xfdG\\xd4)W\\x17\\xf5t\\x11\\xe3f\\xf4\\t\\xc6J#\\xb2V\\xb4\\x13\\xad(\\xaa\\xa2\\xa9\\xc4ndn\\x1f\\x03\\xbb\\x12\\x0b\\x87c\\xdc\\x97\\xccN\\xdd(\\xe2V\\x89p\\x87\\xe0t\\x1d+*w:k\\x8c\\xbf#}\\xef\\xbf4\\xec\\x9d\\'\\xa7\\x1d\\xf6P\\xef\\xbf4\\xec\\x9d\\'\\xa7\\x1d\\xf6Q\\xcf\\xaewGe\\xf2+\\xdcj\\xc3\\x01\\x89F\\xa9V9\\x162\\xc4\\xd6.\\xb9\\xe2\\x9a\\xb6\\xac\\x8b-\\xf3Z[Td\\x12\\xe3\\xa9\\x10\\x9d4\\xadF\\x95\\xf1\\x11\\x11\\xb5\\xb1\\xf1\\x08\\x88}\\xd67xV\\rGc\\xabX\\x8c(S\\xeeqz\\xcb\\xaa\\xa9^\\xee6\\x96\\xa7\\xaaD\\x88\\x91\\x16s\\x14\\xa6[n\\x01\\xa5\\xe9\\xb1\\xdcp\\xd2n\\xb6\\x86\\xd6\\xb3%\\x1f\\x07\\t\\xcd\\xdc\\xa1\\xff\\x00q.\\x14\\xff\\x00\\x029\\xbb\\'\\xd3_\\xf2\\xd4\\xd6\\xb4\\xeb\\x07\\x97\\xa6\\xb96Y\\x93\\xd1\\xe2\\x14\\x9c\\xbeS4\\xa4\\x9aN\\xe5\\xd2(\\xad\\xed\\xb9\\xb4\\x8f\\xe8\\xbe\\xf4\\xdcS\\x8b\\xea\\xdb\\xa8\\xd2[x$g\\x7f\\xef\\xbf4\\xec\\x9d\\'\\xa7\\x1d\\xf6Q\\x81\\xe3\\xbd\\xd4\\xa7\\x999\\x17\\x1b\\xc31\\xfcn\\xf7*\\x93~\\xed\\'\\'_\\x95\\x14\\x8acCp\\nj\\xe5\"\\xc1\\xb8\\xeaR\\xdb&\\xd4\\x96\\xf8y\\x02Y=\\xbaL\\x89%\\xc6+\\x98\\xd7tV\\xa7Z\\xe9\\xfc\\xb6 b\\xcdZe1krk\\xdb\\'eOj!\\xd7D\\x8dm6$V\\x9aB\\x18[r_\"\\x8ei$\\xab\\x93B\\xb9\\x035\\xb9\\xba\\xb75\\xd6\\xff\\x00\\xfb\\x89p\\xa7\\xf8\\x0en\\xc9\\xf4\\xd7\\x19jt\\xff\\x00}\\xf9\\xa7d\\xe9=8\\xef\\xb2\\x87}\\xf9\\xa7d\\xe9=8\\xef\\xb2\\x8el\\xc0\\xfb\\xa1\\xb3I\\xaa\\xab\\xa1M\\n\\xb2K\\xbb\\xcb\\xaa\\xdaF\\xd7:\\xc9\\x98Q\\x99qx\\xa4kw^.F)\\xa9\\r\\x9a\\x8d\\xd24\\x99:\\xae%\\x99\\xa4\\xc9<\\r\"a\\xbe\\xe9\\xbb\\xebJ\\xa3\\x91\\x8c\\xe9\\x83V\\x16\\x15t\\xd6\\x97W\\xf0\\xdd\\xbc\\xe4S\\x11\\x10g?\\tmFs\\x90W9qoE\\x91\\xc1\\xc6\\x96RiA\\x1a\\x94\\x93Q$\\x1a\\xb7\\xaf\\xfa\\x89p\\xa7\\xf8\\x05N\\xc8\\xff\\x00\\xb6\\xbf\\xe5\\xa9\\xbe\\'/\\xcc\\x8dDK\\xc5)I;\\xf5\\x99]\\xbafE\\xff\\x00\\xf2\\x8b\\x069zW\\xf0\\x9c}Q\\x17\\x12Dg\\x8e<\\x86\\x14\\xa2W\\x03\\x84D\\xae\\xa5\\x17\\xbe#J\\x92d\\x7f\\xb8\\xcb\\xa8\\xbcB\\x8d\\x86\\xe4=\\xf6\\xe2\\x14y_3\\xe6\\x9e\\xedV\\xc6\\xb0\\xe6\\xfc\\xa7)\\xc9r\\xcd%\\xce\\x0e-\\x8b\\x8bn-\\xb7\\xd8\\xb7\\xdb\\xc4B\\x7fO\\xbf\\xb4\\xe5\\x1eYG\\xf21\\x06K\\x1d\\xa6\\xd5\\x0bL)\\xd5\\xa8\\xe6\\xa4\\xda\\xb9\\xa8\\xf4\\x7f+w\\xff\\x00,V^\\xa6;U\\x9e\\x82\\xa2\\xe7N75vy\\xdd\\xd6\\xdee\\xbc\\x00\\x07\\xa58\\xa0\\x00\\x00\\x00\\x00\\x00R\\xb3>\\x16r\\xca\\tN\\xad(mP\\xe7\\xc5I\\xab\\xa8\\x8d\\xd5\\xae2\\x92\\x92\\xfe&M,\\xf6\\xfe\\x06<\\xd6\\x10\\x9a\\xb2\\x81&\\xb9\\xf5--\\xcael,\\xd0dJ$\\xa9&G\\xb6\\xff\\x00.\\xc6.\\xf3`A\\xb2\\x8e\\xa8\\x960\\x98\\x94\\xc2\\x8c\\x8dM>\\xd9-\\x07\\xb7\\x8br>\\xa1\\t\\xd1\\xd6\\x9fv\\x13\\x1e\\xf4[\\x1e\\xa8\\xf3\\xf6\\x9eM\\xb4\\xbbEJ\\xd4p\\xb56\\x9fKj\\xeb\\xa2\\xa3\\xd4\\xa5~\\xeb\\xfa\\x8e\\xad\\x9e\\xddN\\x14\\xa3Ni\\xf4e\\xfa\\xb7\\x9a\\xcc\\xc4\\xb1M\\x02\\xb1\\xc5q\\xe8\\x18j5\\xd7Pl\\xb1\\xba\\xea\\xbfq\\x9a\\xa8\\x99\\x1e\\x8f\\x918\\x85\\x1c\\xd8B\\x14\\xe3U\\xc8|\\xcd)\\xe12W(Ff\\x92\\xe25\\x16\\xe4~\\x9bN\\xe7\\x8c*\\xdb\\x1e\\xb5\\xc6\\xa4\\xda]\\xa6-\\xc6\\x0e\\xce\\x02\\xfa\\xd0\\xfbD\\xe2k\\xdbK\\xc9K\\xa93l\\xc8\\x9f\\xd9\\xf5\\xee\\xa3#GR|\\x0f\\x1e\\xfb\\'GZ}\\xd8L{\\xd1lz\\xa1\\xd1\\xd6\\x9fv\\x13\\x1e\\xf4[\\x1e\\xa8\\xae\\xc5\\xca\\x1b\\xee\\x87\\x99\\xfe\\x05\\xf6\\xdb6\\xeb\\x9f\\x0f\\xf2b\\xe9\\xeex\\xc6;\\xe7\\x93|\\xf6U\\x93?\\x02nHYl\\x9a\\'_\\x8c\\xaa\\xf7l\\xd2\\x94\\x13n\\x99r<\\xb1%\\x06\\xdbj&\\xc9\\xd2A\\xa9\\tR\\x89G\\xd6\\x10\\xbb\\x9e1\\xc61)\\xda};1\\xcblqI\\x14\\xceP\\xc1\\xa5\\x911\\x94\\xc7\\xab\\x86\\xae\\x12JXSL\\xa1\\xd5-\\xb2B\\t\\xb7\\x1e[\\xabA\\'d\\x99n\\xad\\xf6\\x8e\\x8e\\xb4\\xfb\\xb0\\x98\\xf7\\xa2\\xd8\\xf5FM\\x92a\\xf8\\x93=\\xd2\\xd8u;X\\xbdB H\\xc7l\\x1dz*a4L\\xb8\\xb4\\xac\\xb8T\\xa4p\\xf0\\x99\\x97\\xc8f[\\x90\\x95b\\xe5\\x0e\\xb5\\x1f3\\xfc\\x06\\xdbf\\xeaO\\x82\\xd4\\x84WsE\\x14\\x99v\\x97\\x96z\\x89\\x9aXdVoTJM\\xe3\\xef\\xc2)Q$V\\xa9\\xf3\\x8c\\xeb(Dd\\xc7I\\xf0\\xc9q\\x0bJ\\x9aR\\x16\\x93\\xebO\\x12\\x96\\xa5x\\xdf\\xeeM\\xc0\\xe6@\\xb7\\x87e\\x94\\xe5\\x93]\\xbd\\x85\\x7f\\x0et\\xb7\\xe5G7\\x9c\\xf7c\\x99\\xf3\\xb7Kf\\t)Y\\x1c\\x06\\x8d\\x04I$\\'\\x8de\\xc2i\\xe1$t\\x07GZ}\\xd8L{\\xd1lz\\xa1\\xd1\\xd6\\x9fv\\x13\\x1e\\xf4[\\x1e\\xa8\\x8d\\x8f\\x94r\\x87\\x99\\xfe\\x03l\\xb3d\\xf8-L/W\\xf4\\x89\\x16\\x8fY\\xe7\\xf8\\xe5u\\xf5\\x96K!\\xfa\\x15\\xb4\\xd5e\\x9cH\\x92\"\\x15t\\x89\\nC\\xf1\\x0eSJaO\\x12&\\xc8\\xe2m\\xf3\\xe4\\x9cN\\xc83F\\xe6\\xa3\\xf7\\xf7<\\xe0\\xf9\\x16\\x13\\x8a]\\xaf)b|y\\xf9\\x0eGax\\xa6,%3\"[hyIJyu\\xb0f\\xcf*\\xa2l\\x96\\xa4\\xb4f\\xdaM|(\\xf0RCe\\xe8\\xebO\\xbb\\t\\x8fz-\\x8fT::\\xd3\\xee\\xc2c\\xde\\x8bc\\xd5\\r\\x8b\\x94\\x1cp\\xe1\\x87\\x9a_\\x80\\xdbl\\xeaX\\xbax-HZ>\\x17\\xf3\\xf8\\xcaiiW4\\xa8\\x96\\x87\\x88\\xba\\xcd\\x06\\xeb\\xd1\\x8d\\x1b\\xfe\\xed\\xc9\\xa5\\xed\\xfe\\x02\\xf8<u\\xb4\\xf54\\xcc\\x9cjz\\xb8\\x90Y3\\xdc\\xdb\\x8c\\xc2ZI\\x9f\\x8b\\xc4\\x92\"\\x1e\\xc1\\xd3\\xe4\\xeb$\\xac\\x94\\xe4\\xaa5\\x8aN\\xf7v\\xed\\xc9]\\xc1-\\r\\x1b]uh\\x9e(\\xae\\x84\\xae\\x00\\x007\\xcdP\\x00\\x00\\x00\\x00\\x00\\x03=.\\x16r\\xdc\\x99\\x87\\x16\\x92u\\xf9\\x8c\\xcaB\\x0f\\xc6m\\x1cH\\xed\\x92\\xbf\\x89q6\\xb2\\xdf\\xf8\\r\\x08G\\xda\\xe3\\xf47\\xa4\\x94\\xdd\\xd2@\\xb0$\\x16\\xc9)Q\\x90\\xef\\x0f\\xf8q\\x11\\xec9\\xbc\\xa5c\\x9d\\xb2\\x10\\xe6\\xda\\xbe2\\xbf\\xa7s\\xe8q\\xba\\xfe\\x9b\\xb7\\xe4\\xcd\\xbb\\x1d\\xa26i\\xb7%\\xd0\\xd5\\xde\\xa9\\xfd\\x8c\\xb7St\\xea\\x16\\xa7c\\xacc\\xf2\\xef\\xed\\xa9\\x17\\x12\\xce\\r\\xbcY\\xf5|\\xdf\\x9c1*#\\xe8}\\x95$\\xa44\\xebFD\\xb6\\xd3\\xb9)\\xb5\\x11\\x97P\\x84oF\\xe6\\xcc\\xe6i\\xcc5w3\\xca\\xd1]k\\x06\\xe6\\x1a,\\x99\\xa9d\\x98~*\\xcdi\"\\xe6pX5%FdJ%\\x19\\xf5$\\xb8M=fz\\xdfGZ}\\xd8L{\\xd1lz\\xa1\\xd1\\xd6\\x9fv\\x13\\x1e\\xf4[\\x1e\\xa8\\xe7+\\x0f(%rP\\xf3?\\xc0\\xdev\\xeb;w\\xbb\\xf8-L\\x82f\\x80\\xe1\\xd3\\xa3\\xb1\\x19\\xdb;\\x94\\xa6>As\\x92 \\xd2\\xf3[\\x9c\\x9b(\\xd3#\\xbe\\x83\\xdd\\xbf\\xea\\xd2\\x89\\xef\\x1a\\x0b\\xc6JJ7R\\x88\\x8c\\x95\\r\\x03\\xb9s\\x0c\\x8dZ\\xd5u\\x8e[\\x96[\\x9duT\\x1azI3eG\\xe5\\xe9#\\xc4\\x90\\xd4\\x96\\x0e2\\x9ba\\x1b\\xb8\\x97\\xe3Gp\\xd6\\xf1:\\xa5\\x1b(%\\x19\\xa7t\\x9e\\xf1\\xd1\\xd6\\x9fv\\x13\\x1e\\xf4[\\x1e\\xa8tu\\xa7\\xdd\\x84\\xc7\\xbd\\x16\\xc7\\xaa\\'b\\xe5\\x1c\\xa1\\xe6\\x7f\\x81\\x1be\\x9b\\'\\xc1jdV\\x1a&\\x8bH\\x95\\x8fN\\xd4\\xec\\xd1\\xdb\\xfa{G-\\xa1d*z\\x11\\xccanG8\\xebi-snhL\\xa9\\xa5\\x19\\x1bd\\xc6\\xdc^\\x1f\\xbf\\xf0\\x85y\\x9e\\xe5L6\\r$zJ\\\\\\xdb3\\xacA@\\xb3\\xa9\\x9d\"<\\xd8\\xea\\x91e\\x06t\\xc7e\\xbc\\xc3\\xebq\\x85\\xfb\\xd7^s\\x81\\xc6\\xf8\\x1dI(\\xfc333;.\\x8c\\xe1\\xf8\\x95\\x86}\\xaa\\xd1l1z\\x89,\\xc1\\xc8\\x9bj+oBiia\\x1c\\x89\\x1f\\n\\x08\\xd3\\xb2K~\\xbd\\x8bb\\x1a\\xcfGZ}\\xd8L{\\xd1lz\\xa2]\\x8b\\x94\\x17\\xc2\\xa1\\xe6\\x7f\\x80\\xdbl\\xcfz|\\x16\\xa65\\x8cw;\\xe1X\\x9d\\xcd]\\xe5u\\xa5\\xdb\\x8f\\xd4\\xda\\xb3n\\xca_}\\x93B\\x9ej\\x89\\x14\\xa9J\\x88\\x9a#4sf\\xc9fDd|\\xae\\xe7\\xb9\\'\\xc0\\x19\\xce\\xa8hM\\xd5\\x0c5@\\xd2\\xfa\\x0c\\xbe\\xcdV\\xd59\\x04\\t\\x92\\xebokc)\\xc5XNraF\\x98\\x89M\\xa4\\xca)=%\\xfd\\x9e\\x8c\\xb2\\x90\\xdaH\\xd2D\\xbe#P\\xea\\xbe\\x8e\\xb4\\xfb\\xb0\\x98\\xf7\\xa2\\xd8\\xf5C\\xa3\\xad>\\xec&=\\xe8\\xb6=PV>PN\\xfb\\xa1\\xe6\\x97\\xe0C\\xb6Y\\x9a\\xba\\xe7\\xc1jTp\\x8a\\x07qL.\\x83\\x17}\\xf4<\\xe5=\\\\X\\x0bq\\x1b\\xf0\\xadM4\\x94\\x1a\\x8b\\x7f\\x90\\xf8w\\x16-<\\xe1p\\xb2\\x19\\x8d-+fU\\xbf\\x1bKOY(\\x93\\x16;j\\xd8\\xfe]\\x96\\xda\\xcb\\xab\\xf7\\x0fjt\\xf3\\x00B\\x89h\\xc1\\xb1\\xf4\\xa9\\'\\xb9\\x19V0FG\\xff\\x00\\xea\\'c\\xc7\\x8f\\x11\\x84F\\x8a\\xc3l\\xb2\\xd9p\\xa1\\xb6\\xd2IJK\\xf7\\x11\\x17Q\\x10\\xc9e\\xe4\\xebB\\xaf\\x1a\\xd5\\xf0\\xa5\\x1b\\xdfCn\\xf6\\xd3]i]\\xd0\\xdef;E\\xb6\\x9dJN\\x9d4\\xfas\\xfd\\xb3\\xe8\\x00\\x03\\xbas\\x00\\x00\\x00\\x00\\x00\\x00\\x00\\x00\\x00\\x00\\x00\\x00\\xc6\\xf2\\x8f\\xefO\\x84\\xff\\x00\\xa6l\\xbf\\xefH\\xd7,y\\xff\\x00\\xb9\\xf2}\\xca69\\xef\"\\xbem\\xcb\\x91\\x9b\\\\\\xaf\\t\\xf0q\\x91\\x19\\x1f\\x0e\\xfbo\\xb1\\xef\\xb0\\xff\\x00>\\xb2>\\xea\\xddG\\x8f\\xaa\\xf0\\xf2\\xeb\\x8c>\\x9a-\\xd65\\x1e]2\\xe1\\x1a^\\xe0%){9\\xc5\\xe1\\xef\\xc4JI\\x97Q\\xec\\x00\\xff\\x00C@A`\\xd3\\xb2kLB\\xa6\\xcb1\\x83\\x1a\\x15\\xcc\\xb8\\xc8~\\\\h\\xc4\\xa2C\\x0bW\\x84M\\xec\\xa33\\xdd$dG\\xd7\\xef\\x88\\xf6\\xea\\x13\\xa0\\x00\\x00\\x00\\x00\\x00\\x00\\x00\\x00\\x00\\x00\\x00\\x00\\x00\\x00\\x00\\x00\\x00\\x00\\x00\\x00\\x00(\\xba\\xd7\\x96\\xe6\\x18\\x1e\\x9d\\xd9f8]T\\x1b)u$\\x992#KJ\\xcd*\\x8c_\\xd6)<\\n#\\xdd$d\\xaf\\x1e\\xdc)W\\xcb\\xb0\\x02\\xab\\xa1\\xdf\\x18\\xba\\xc1\\xfe\\xa6o\\xf0\\x08l\\x83\\x81\\xf4K\\xba;S,\\xb5:\\xc2\\xa7\\x18\\xc5\\xa8\\xdf\\x9f\\x9f\\\\7&A<\\x97\\x8d\\x11\\xb6F\\xcbRH\\x96G\\xc0\\x94%J=\\xf7>\\xa3\\x1d\\xf0\\x00\\x00\\x00\\x00\\x00\\x00\\x00\\x00\\x00\\x00\\x00\\x00\\xa5\\xc7\\xd5\\xfc\\x1e\\\\v\\xa5\\xc4v\\xed\\xe6\\x1eB\\\\m\\xc6\\xf1\\xdb\\x15!h2\\xdc\\x94\\x93&622=\\xc8\\xc8}:W\\xc3\\xfem\\xff\\x00\\xd9\\xbb/\\xd0\\x14\\xdd>\\xf8\\x05\\x8d\\xf9\"\\x1f\\xe0\\xa0O\\x8e\\xcc\\xac4#&\\xbax\\xad\\x0elmUZ\\xbf\\xa3\\x83\\xd4\\x93\\xe9_\\x0f\\xf9\\xb7\\xff\\x00f\\xec\\xbf@:W\\xc3\\xfem\\xff\\x00\\xd9\\xbb/\\xd0\\x11\\x80+\\xb1P\\xef\\xe2\\xb4\\'j\\xab\\xdd\\xc1\\xeaI\\xf4\\xaf\\x87\\xfc\\xdb\\xff\\x00\\xb3v_\\xa0\\x1d+\\xe1\\xff\\x006\\xff\\x00\\xec\\xdd\\x97\\xe8\\x08\\xc0\\r\\x8a\\x87\\x7f\\x15\\xa0\\xda\\xaa\\xf7pz\\x92}+\\xe1\\xff\\x006\\xff\\x00\\xec\\xdd\\x97\\xe8\\x0e{\\xcb\\xf4\\xdf\\x03\\xc8\\xfb\\xa3j58\\xa3\\\\\\xfb\\x82\\xa6\\xf9\\xfd\\xab\\x07\\x8eXxs\\xd8\\xe1&\\x8b\\x87\\x90\\xeb%\\xf8\\n>\\xa3/\\xd9/~\\xb5\\x96\\xfb\\x88\\x06\\xc5C\\xbf\\x8a\\xd0mU{\\xb8=I>\\x95\\xf0\\xff\\x00\\x9b\\x7f\\xf6n\\xcb\\xf4\\x03\\xa5|?\\xe6\\xdf\\xfd\\x9b\\xb2\\xfd\\x01\\x18\\x01\\xb1P\\xef\\xe2\\xb4\\x1bU^\\xee\\x0fRO\\xa5|?\\xe6\\xdf\\xfd\\x9b\\xb2\\xfd\\x00\\xe9_\\x0f\\xf9\\xb7\\xff\\x00f\\xec\\xbf@F\\x00lT;\\xf8\\xad\\x06\\xd5W\\xbb\\x83\\xd4\\x93\\xe9_\\x0f\\xf9\\xb7\\xff\\x00f\\xec\\xbf@:W\\xc3\\xfem\\xff\\x00\\xd9\\xbb/\\xd0\\x11\\x80\\x1b\\x15\\x0e\\xfe+A\\xb5U\\xee\\xe0\\xf5$\\xfaW\\xc3\\xfem\\xff\\x00\\xd9\\xbb/\\xd0\\x16j\\xbb87U\\x90\\xeek\\x1f\\xe5\\xa1\\xcfa\\xb91\\xdc\\xe14\\xf1\\xb4\\xb4\\x92\\x92\\xad\\x94De\\xb9\\x19\\x1e\\xc6Db\\x8c&\\xf4\\xb7\\xe2\\xcb\\x11\\xf2\\x0c\\x0f\\xe5\\xd05\\xedVzt\\xa1\\x8a\\x17\\xef\\xeb\\xff\\x00\\xf1\\x19\\xa8V\\x9dIa\\x95\\xdf\\xbf\\x12\\xd0\\x00\\x03@\\xdb#\\xef\\xaf\\xaa\\xf1\\xaa\\xb7..\\x1eq\\xa8\\xad-\\xb6\\xd4\\xa6\\xd8q\\xe5\\x9a\\xdcq-\\xa1)CiR\\x94f\\xb5\\xa4\\x88\\x88\\x8f\\xc6+\\xfd+\\xe1\\xff\\x006\\xff\\x00\\xec\\xdd\\x97\\xe8\\x06\\xab\\xfc\\x0f/+\\xd3\\xfee\\x18F\\x0e\\x85\\x9a\\xcdJ\\xad,s\\xbe\\xfb\\xda\\xe8\\x7f\\xa7s\\xcc\\xd3\\xaf^t\\xe7\\x867n\\xd7\\xbc\\x93\\xe9_\\x0f\\xf9\\xb7\\xff\\x00f\\xec\\xbf@:W\\xc3\\xfem\\xff\\x00\\xd9\\xbb/\\xd0\\x11\\x803\\xecT;\\xf8\\xad\\x0c[U^\\xee\\x0fRO\\xa5|?\\xe6\\xdf\\xfd\\x9b\\xb2\\xfd\\x00\\xe9_\\x0f\\xf9\\xb7\\xff\\x00f\\xec\\xbf@F\\x00lT;\\xf8\\xad\\x06\\xd5W\\xbb\\x83\\xd4\\x93\\xe9_\\x0f\\xf9\\xb7\\xff\\x00f\\xec\\xbf@|\\xdf\\xd4\\xfc\"S\\x0eE\\x92\\xc5\\xe3\\xac\\xbc\\x83m\\xc6\\xd7\\x8dX\\x9aV\\x93-\\x8c\\x8c\\xb9\\x0e\\xb22\\x1e\\x00\\r\\x8a\\x87\\x7f\\x15\\xa0\\xda\\xaa\\xf7pz\\x98\\x8e\\x80i\\xfe\\x13\\xa4\\x9a\\x83\\x96\\xe5R\\xd1x\\xeb\\x0b}Q1\\xe3<v\\xc5JD5\\xec\\xe2\\x94\\x7f\\xb0\\xeaWZ[\\xdc\\xf6?\\xd9\\xac\\xfcJ!\\xd0=+\\xe1\\xff\\x006\\xff\\x00\\xec\\xdd\\x97\\xe8\\x08\\xc0\\r\\x8a\\x87\\x7f\\x15\\xa0\\xda\\xaa\\xf7pz\\x92}+\\xe1\\xff\\x006\\xff\\x00\\xec\\xdd\\x97\\xe8\\x07J\\xf8\\x7f\\xcd\\xbf\\xfb7e\\xfa\\x020\\x03b\\xa1\\xdf\\xc5h6\\xaa\\xbd\\xdc\\x1e\\xa4\\x9fJ\\xf8\\x7f\\xcd\\xbf\\xfb7e\\xfa\\x01\\xd2\\xbe\\x1f\\xf3o\\xfe\\xcd\\xd9~\\x80\\x8c\\x00\\xd8\\xa8w\\xf1Z\\r\\xaa\\xafw\\x07\\xa9\\'\\xd2\\xbe\\x1f\\xf3o\\xfe\\xcd\\xd9~\\x80\\xfd3\\xaa\\x98k\\xd2c\\xc57m\\xd9\\\\\\xa7\\xda\\x8c\\xd2\\x9f\\xa2\\x9e\\xcbf\\xeb\\x8b$!&\\xb5\\xb2IN\\xeaRKs2-\\xccE\\x08\\x8c\\x97\\xfb5o\\x97\\xa9\\xbf1\\x8e\\x1b\\x15\\x07\\xd1\\xd3\\xc5h6\\xaa\\xbd\\xdc?\\xc9\\xad\\x00\\x00\\xe4\\x1d\\x13\\x1d\\xd3\\xef\\x80X\\xdf\\x92!\\xfe\\n\\x04\\xf8\\x80\\xd3\\xef\\x80X\\xdf\\x92!\\xfe\\n\\x07>kN\\xa9\\xe6\\xb4:\\x95\\x9e\\xd4U\\xea\\x16yT\\xde9\\x8b\\xd6YR\\xd6\\xe3\\xd8\\x83V\\xd0\\xdf\\x98\\xf7=\\xe3\\xe7\\xaf\\x1c\\x17\\x8d\\x94\\x19\\xb0\\xc9n\\xb7\\xd8I\\'\\x8c\\xc9E\\xb1\\xa9>\\x86\\xb4\\x94d\\xdb\\xcc\\xe3\\xd2\\x8b\\x92I\\x1dD\\x03\\x02\\x87\\xaf\\xb9\\x1f},b\\xb5\\xb5\\x10\\xf2\\x0b\\xdb\\xd2\\xa4b\\xb5\\x84\\xdc6\\xcdO)\"\\xb2L\\xe9\\x0f\"Cq\\xdcq,\\x93qVd\\xa3\\xe5\\xcdfm\\x92I\\x04fb\\xabO\\xdd/\\x99\\xd0\\xd4X\\xe4\\x19mD\\xdb)U\\xd1\\xf3I\\xaeT\\xb7&3M\\x92k\\xb26\\xa0\\xb1\\x1f\\x891\\xf8\\x94\\xb6\\xdat\\x90\\x97\\tiJ\\x89&kJ\\xd4\\xa2Z1s\\x91/\\xcd\\xc8\\xeap\\x1c\\xf5\\x99\\xf7[W\\xe9\\xeeC7\\x1b\\xcb\\xeb1H\\x131\\xe8\\xf0_\\xbf\\x8c\\xe6^\\x84JI\\xc9>.\\n\\xe6\\x1ca+\\x9em\\xb4hq{\\xf2>\\xfb\\x85\\x1cj-\\x87\\xbf\\'\\xd7}DV\\x07\\x9a\\xe7Xn\\x9a\\xc2z\\x86\\x92&B\\x8a\\xeby\\x17dN\\x1c\\x9a\\xb3y\\xb5\\xb8\\xfcSgt2\\xb7c\\xbaM\\x9a\\x1cqJ\\xd9\\x1cim+5&y\\xc8\\x8c\\x127`\\x18$=u\\xcc\"\\xe5}\\xe6\\xbd\\x8c\\xb1c\\x94[.\\x9e\\x1c\\n\\xe3\\xb8Ku\\xad>\\xfd|\\xa9\\x92\\x1c\\xe7\\x05\\x0c\\x9eCij*\\xcc\\xcdHt\\xd4\\xa3BR\\x94\\x11\\x98\\xf4\\xc4\\xee\\x89\\xca.\\xec\\xe2c8\\xe6\\x99C~\\xf4\\xa1d\\x12,\\xe3\\xcc\\xbf6#\\xc3z\\xa6c\\x11^i/&3\\x86\\xea\\\\S\\xe9Sk\\xe0I\\x9av\\xe2JL\\xcc\\x92\\xe7\"F\\x06n@0<\\x8b\\xba\\xb6\\x05\\x14\\x1cc\":\\nf\\xa8\\xf2*\\xba[d\\x15\\x86Q\\x1e-\\xab\\xadX-)\"\\x89\\x00\\x90\\xb5H6IiR\\xf8\\x96\\xd1\\x1e\\xe6H\\xe321)\\x13P\\xf3\\x07t\\x0bS3W.7\\xba\\xc7\\xe6f\\xcdWI\\xe6\\xed~\\xc1\\x10\\'Nj!pp\\xf0+\\x81\\x0c4^\\x11\\x1f\\x17\\x0e\\xea\\xe23368\\xbe\\x8403h\\x01\\x9cf\\xb7\\x9a\\x8b\\xd0\\x9bw\\xd8\\x14wgd\\xefB\\xaex\\xf9\\x16Z[\\xe6\\xd2\\xdcg\\x9d\\xb8\\xcbn\\x1aZ[\\xc9aO\\xad\\xb4+d\\xa9\\xc4\\xa1&[\\x1e\\xc2\\xa7\\xa7\\xb67\\x1a\\x84W\\xd8\\xc5ot\\x1ep\\xc4\\xb8\\x1c\\xceI\\xb5c\\x8b\\xc0\\xac\\xc8k\\xb8\\xb9bZ]nL\\x02a\\xd8\\xce\\x1aS\\xc0\\xb4\\xc6\\xdf\\x89\\xa5\\xec\\xea\\xc8\\xf6)r\\xb9\\xdc\\x14oW\\x9b\\x98\\x0e>V\\xa2\\xeb\\x969\\xdc\\xf5\\xa6\\xba\\xb1\\x13Tor{\\xdc\\xae]m\\x85\\x8c\\t\\xb5\\x95Ii\\xc8\\xcd\\xc0\\x972T8\\xc9\\x8f\\x11\\xa5\\'\\x97&\\t\\x04\\xa5)KI\\x928T\\x9f\\x0b\\x8bK\\xad\\xd6\\x0c\\x87*\\xee\\x99\\xaa\\xc5\\xf1\\x8b\\xb6\\x9e\\xc0\\xbb\\xdc\\x92\\xa7I\\xb6[QL\\xb3\\xe4\\xe2J%\\x93\\x86\\x9e2J#M\\x8adIQ\\x11\\x9b\\xea\\xe2#\\xe1!UQ2\\\\\\x19\\xbb\\t\\xbd-\\xf8\\xb2\\xc4|\\x83\\x03\\xf9t\\x08A7\\xa5\\xbf\\x16X\\x8f\\x90`\\x7f.\\x81\\x82\\xdb\\xf2\\xbc~\\xcc\\xcbe\\xf9\\x9e\\x1a\\x16\\x80\\x00\\x1c\\xa3\\xa0S\\xf5_\\xe0yy^\\x9f\\xf3(\\xc20I\\xea\\xbf\\xc0\\xf2\\xf2\\xbd?\\xe6Q\\x84`\\xeb\\xd8\\xbeG\\x8b\\xf6G:\\xd5\\xf3|\\x17\\xbb\\x009\\x1f\\x01\\xd6|\\xf2nC\\x8c\\xc9\\x97\\xa9\\x19t\\xf9\\x17\\x19\\xc5\\x9d\\x1d\\x8du\\xc6*\\xcc<y\\x98-\\xcd\\x98\\xc3I\\x8dbPY%\\xbf\\xb3L%\\tL\\xa7\\x94\\xb7\\x0c\\xd2i?\\x0b\\x86B\\xf7\\xbaWP$\\xe8\\xfekc\\x81\\xe3\\xea\\x97m\\x8ba\\xb6Y\\x05\\x85\\xbc\\xfb&\\x12\\xf4\\x05)\\xeb\\x16\\xa2\\x1b,\\xa6!5)h\\xe6\\x0e8\\xa4)-$\\x90\\x94\\x11\\x9b\\x8aQ\\xef\\x95U\\x8d\\xd7\\x94\\xe6\\xd9\\xd5\\x000\\xa8\\x1a\\xe5\\x94\\x16f\\xee\\x15W\\x8c\\x9d\\xe4\\xeb\\x0c\\xbaE\\x13\\x0b\\x9fj\\xdcV\"4\\xc5<9\\xce8F\\xd4SW\\x06\\xcf9\\xb2TN/\\x8c\\xfd\\xf9!DM\\xd7\\xa2wq`k)vr\\x98\\xa5v\\xab\\x99\\\\M\\x80\\xd5fD\\xcc\\xdbu\\x15{n:i\\x95\\x00\\x90\\x93\\x8b\\xca\\xb6\\xcb\\x8al\\xf9E\\xff\\x00\\xb2\\x95\\xf0\\x1a\\x88\\x84\\xf3\\x91\\xcc\\x8c\\x12:X\\x06\\'\\x91j\\x96\\xb7TZ\\xe1\\x95V\\x1aaCP\\xf5\\xeeQ\\x1e\\xa9\\xf5\\x9eFr\\xa3\\xbd\\x15\\xc82\\xa4(\\x9bq1R\\xb4\\xba\\x83\\x8ed\\xa2Sd\\x9d\\xf8\\t\\x0bY-Jn\\x06\\x8b\\xbaS#\\x7f\\x14\\xb0\\xb4\\xa8\\xc2\\\\\\xc8{\\xd5\\xa5\\x7f\"\\xc8\\xde\\x9dr\\xd4g\\xdb\\x89\\xcf&\\xb6\\xdbQ\\xd2\\xd4RnC\\xc6\\x88\\x0f\\xa8\\x90\\xa2e$D\\xd9\\x1b\\x86\\xa5\\x1a\\x83\\x9c\\x89\\x18\\x19\\xd1@1f\\xfb\\xa1\\xecd]\\xceT\\\\\\x16;\\x98\\xc5~]W\\x88\\xb9jv\\xe6R\\x1cv{0\\xd6\\xc3\\xed\\xc6\\xe464\\x12\\xa7\\xb2\\x95\\x12\\x9dI\\x91n\\xa2\\xe2\\xdb\\x84Tu\\x1b\\xba\\x96\\xda\\xb2\\xb7<\\xc7+\\xe1\\xd0\\xd4\\xde\\xc0\\xc5\\xf2\\x8b\\x1ag\\xa0\\xe4qm\\'\\xc2\\x93Z\\xc2\\xd4\\xda\\xa7CKf\\xdc~2\\xd9\\xc4\\'\\x94x\\xbc\\x1e\\x15\\x92Ot\\x83\\xa9\\x14J\\x84\\x99\\xd2\\xe03\\x8dK\\xcb\\xb2\\x1c}\\xed5EE\\x877,\\x83,\\x89Yc\\xfb$/\\x97\\x8c\\xb8R\\x9cR<$\\x9f\\x0e\\xebi\\x07\\xbav?\\x07m\\xf63#\\x8d\\xd7+\\xdd@\\xa5\\xb1\\xc6\\xce\\x86NU]\\x8a\\xba\\x99\\xa7{g\\x8aS1ii\\x19\\xe4\\x93<\\xd5%\\x1d\\xd6_3eDrMjm\\x87\\x16F\\x86\\x88\\xb8IFb\\\\\\x92!F\\xf3Y\\x01\\xcdY\\xa6E\\x9c\\xcd\\xd1\\x8a\\xadF\\xc2\\xfb\\xa3\\xae\\x9fy\\xab\\x8a\\xeaW$\\xd5\\xd2V0\\xcc\\xa4H\\xbbj\\x1a\\xd5!\\x89p\\xddq\\xa9m\\xb4\\xf1\\xa1iI\\xb6\\x92u\\xbd\\xf9$\\x96\\xe8\\x12O\\xe7Y\\xee\\x9c\\xf7Bcx\\x05\\xeeya\\x91b2\\xa8\\xa3\\xc7\\x9d&\\xd6$\\x16\\xe4\\x15\\x94\\xc93\\x95\\x1aK\\x8b\\x8a\\xc3)$\\xff\\x00CDRJR\\x94\\x99\\xbc\\xd9\\x99\\x1a\\xb7Y\\xd7\\x9cD\\xe0gA\\x88\\x8c\\x97\\xfb5o\\x97\\xa9\\xbf1\\x8e2\\xae\\xe6\\xadK\\xccu:F{o\\x93X\\x13\\xd5\\xa9\\xbdi\\xecq\\x82\\x8e\\xdb|\\xde\\xa2DF_\\x8aFiI)f\\xb6\\x9cC\\xa6k327\\x0c\\x88\\xf6\"!\\xaa\\xe4\\xbf\\xd9\\xab|\\xbdM\\xf9\\x8cq\\x92\\x12R\\xb9\\xa2\\xb2Xz\\x19\\xad\\x00\\x00\\xf3\\xe7\\\\\\xc7t\\xfb\\xe0\\x167\\xe4\\x88\\x7f\\x82\\x81T\\xc9tUwy\\xa5\\xbeoK\\xaa\\x99\\x9e/&\\xfa\\xbe%m\\x94j\\x82\\xad6d5\\x18\\xde6\\x8f\\x8aL7\\x9dm_\\xd2].&\\xdcI\\xf5\\x97\\x88\\xc8\\x8cZ\\xf4\\xfb\\xe0\\x167\\xe4\\x88\\x7f\\x82\\x81>=\\x15T\\x9c\\xdd\\xf9\\x9cjn\\xe8\\xa3\"Gs\\x1e\\x07\\\\p^\\xc5\\xae/\\xf1\\xc9T\\xc5V\\x9ay5\\xef\\xb0\\xa7+J\\x04\\'\\xa14M\\x13\\xec\\xb8\\x95\\x92\\xa3\\xc8u\\xb5\\x93\\xa9p\\x95\\xc5\\xbfQ\\x91\\x18\\xf35\\xdc\\xad\\x80\\xb7N\\xed3\\x99\\x06N\\xfa\\x1f\\x87s\\r\\xd7\\xde\\x96\\xca\\xdep\\xac\\xec\\x9a\\xb1\\x92\\xb5(\\xd9\\xeb_.\\xcaI\\'\\xb7RT\\xa22Q\\xec\\xa2\\xd9\\x80c\\xc1\\x1c\\x8b\\xe3\\x96e\\x1a\\xe7I\\xe2X\\xe5\\xb2r\\xea\\xac\\xcb%\\xc7\\xde\\xb3(\\xa9\\xb7\\x8bT\\xfb\\r\\xb3dQ\\xcc\\xf9#t\\xdcen\\xb6|\\'\\xc0jem)H\"#3\\xd8\\xb6\\x86{\\xb9\\xeb\\x18\\x90W\\x95\\xce\\xe5yW{\\xd7\\x89\\xb65\\xe3\\xc8\\x9a\\xd3u\\xf1\\xdd\\xb2\\'\\nc\\xad\\x92Z\\'Tk7\\xdeY!\\xd7\\x1cm\\x0bqJB\\x12{m\\xa9\\x00aL\\x8cL\\xca\\x0b\\xb9\\xd6\\x80\\x9fE\\xb9\\xe6\\xd9Q\\xe4\\x11\\xdc\\xaf~-\\xef)\\x08\\xa5\\xc7z$g\\xe3!\\xc4\\xa4\\xa3\\x13\\x06kbK\\xcd\\xad*iHQ+\\xa9$dF$\\xf1\\x8d\\r\\xc4\\xf1[8w0\\xacm\\xe4N\\x8f]o\\x01\\xe7\\xe4\\xbe\\xda\\xd51VR\\xd9\\x95.K\\xdb \\xb7uN\\xb0\\x93.\\x1e\\x14$\\x94i$lI$\\xd1u\\xe3\\x01\\xc65\\x13-,^\\x96\\x99V:\\x81:\\xba/7\\xb6yf\\xa6\\xf0\\xf8)}fV,\\x99\\xff\\x00Q!j\\xe5\\t\\xb2oe\\xbe\\xb6\\x88\\x94|\\x9bKR*2q\\xaa\\xac\\x17U\\xa6j\\x92i\\xf4\\xab-\\x93{\\xa8\\xadT\\x13\\x9e\\xe3\\x12\\xf2\\x1a\\xf9\\x12\\x10\\xd3\\x08J\\'\\x1a\\xcf\\x81L\\x11\\x12\\xd6\\xc97\\xd4\\xd7(\\xa2p\\xbcC\\x1b\\xb9=\\xc6E{[\\xcb\\xf3\\xbd\\xc9\\xb8_{\\xee\\xe2\\xd0sl\\xc6\\x05\\\\\\x9az\\x9a\\x89LF\\x91\\x10\\x8eA\\xd6\\xb2\\x86\\xa1\\xc8R\\xd5\\x18\\xd6N \\x9bmF\\x94\\xa8\\x99R\\x93\\xe14dj#\\xbb\\xc3\\xd2L~&\\x9d\\xe4Zjvv\\x8fW\\xe4\\xee];:K\\x8e5\\xceIvo\\xbe\\xf4\\x83A\\xa5\\xb2Bv\\\\\\x978<\\x03\\xd8\\x89;\\xf1l{\\xe0=\\xca|\\xbdM\\xa6\\x01owU\\x8dI\\xbe\\xd4\\\\2e\\xb5\\x95\\x95ko\\xb5fR\\xd9v!\\xc9\\xf7IJuH\\x96\\xb3y\\xf5$\\x96hA\\xc7ZT\\xca\\x08\\xd2\\xa31\\xd6\\xa2\\xd0Qj\\xfb\\x88\\x9bi\\xddy\\x99B\\xd19\\xcd\\xe3\\xae\\xe3\\x17\\x1a\\xd1\\x9f\\\\CKq\\x93\\x01O*\\xb2#\\xd5\\xceGZV\\xd3\\xac\\xb9\\x0e\\x13*R\\x88\\xd0\\x924\\xban!E\\xb9)*#=\\xe6p\\xcd0\\x8d\\x89\\xdf\\xd8e\\xd6ym\\xfeS\\x7fc\\x11\\x9a\\xf7,\\xaeU\\x15.7\\x11\\xa5\\xadhe\\xb6\\xe2\\xb2\\xcb(O\\x1b\\xabQ\\x997\\xc4\\xa32\\xdc\\xcfb\\xda\\xe8\\x02\\xd8R)\\x89\\x94*]\\x18\\xc5\\xa8\\xf1<\\x0f\\x0e\\x8b:\\xd1\\xc8Zx\\xfb\\x12+\\x16\\xeb\\xad\\x9b\\xaf)\\xa8\\xafFI>d\\x82%\\x11\\xa1\\xf5\\x99\\xf0\\x92<\"O\\x88\\xb7#\\xf0\\xe9\\xff\\x00s\\xf6\\t\\xa6j\\xc7O\\x18v\\xcd\\x08\\xc6Qh\\xd44<\\xfa\\x16KD\\xe7\\x1aR\\xd2\\xe1\\xf0\\x11\\x994\\x96\\x19i\\xa2#.\\x16\\xd0\\x94\\x9f\\x16\\xc4cK\\x00\\xc2\\xb2\\x18\\x98\\x13z[\\xf1e\\x88\\xf9\\x06\\x07\\xf2\\xe8\\x10\\x82oK~,\\xb1\\x1f \\xc0\\xfe]\\x03Z\\xdb\\xf2\\xbc~\\xcc\\xcfe\\xf9\\x9e\\x1a\\x16\\x80\\x00\\x1c\\xa3\\xa0S\\xf5_\\xe0yy^\\x9f\\xf3(\\xc20I\\xea\\xbf\\xc0\\xf2\\xf2\\xbd?\\xe6Q\\x84`\\xeb\\xd8\\xbeG\\x8b\\xf6G:\\xd5\\xf3|\\x17\\xbb2\\x1a\\x9e\\xe6\\xfa\\x9a\\xdek[/Rs;<n\\r\\xf2\\xb2H\\xf8\\xec\\xa5W&\\n&\\xf3\\xe5NA\\x9a\\xd9\\x88\\x89+B$\\xab\\x94J\\x16\\xf2\\x8bt\\xa4\\x95\\xc4E\\xb0\\x8f\\xb4\\xeeM\\xc2g\\xd0Yc0\\xb3<\\xc2\\xa6\\x05\\xed#\\xf8\\xfd\\xca \\xca\\x8a\\x93\\xb3\\x86\\xb7\\xe4\\xbc\\x94\\xbak\\x8e\\xae\\x13msdp\\xa9\\xbe\\x034\\xaf\\x85|i\\xea\\x1bp\\x0c\\xd8#\\x91\\x8b\\x1c\\x8c\\xfa\\xafD\\xf1Z\\x9c\\xc1\\x19\\xac{\\x0beNn\\xe6M\\xe16\\xb7[6\\xb9w\\xeb\\x99\\x80\\xb4\\xecM\\x91\\xf0\\x13Q\\xd0\\xa2-\\xf7\\xe35\\x19\\x99\\x96\\xc9/\\x1c]\\x02\\xc6\\x99\\xab\\xb3\\xc5%\\xe4\\xd9,\\xdcF\\xca\\x1c\\xf8%\\x8c\\xbd%\\x94\\xd7\\xc6fg\\x17,\\x94\\x1bm%\\xf5\\x11q\\xac\\x90N:\\xb2l\\x95\\xe0\\x12vN\\xdah\\t\\xc2\\x88\\xc4\\xcc\\xbf\\xa0x\\xcf\\xb7\\x01\\xfb]O\\xce,\\xedk-\\xa2[\\xc3\\xb4\\x99*\"\\xdfaQ\\xd9u\\x944\\x96\\x8a1G$)\\xb9\\x0f\\xa5g\\xc9r\\x8b\\xe58\\x8df\\xa4\\xa5I\\x8d_r\\xfe\\x18\\x8a\\xb7\\xa9\\xabr\\xac\\xaa\\xb6%\\x8dk\\x94\\xb7(\\x89&:N\\xde\\x02\\xe4H\\x7f\\x90}J`\\xcd$\\x95L\\x92\\x94\\xad\\x93i\\xc2K\\xaa.3\\xea2\\xd8\\x874\\xafO\\xb1{\\x8c\\xf2\\xe3.\\xd3\\xb8\\xadTC\\xc7\\xca\\xfd9&e1\\xd37.f\\xbe\\xcb\\xcd\\xae\\x12\\x9d\\xf7\\xefF\\x8a\\xe2\\xcdj5x\\r.;m4Fip\\x91Y$\\xba\\x8bE\\xb7\\xd6j\\xae\\xe8\\x8e\"\\xe3\\x16q\\x91*\\xc9\\x96\\xad2\\xba\\xcc\\xc1\\xc46\\xe3dM\\xcb\\x82P\\xc9\\x96\\x90\\\\\\x1dL\\x99W\\xb3\\xc4\\x93\\xdd^\\x12\\xf6Qn\\\\4\\xdb\\x0e\\xe4|6\\xca\\x91\\x18\\xdb\\xf9\\xe6h\\x9a\\xc8\\xd0\\xad\\xea\\xe1FnD\"DHVL\\xb8\\xd4\\xa6\\x13\\xfd\\x17u\\xef\\xca\\x12\\x89\\xc7x\\xdd%6\\x9f\\x0c\\xc8\\xd6K\\xc2-i\\x93\\xa4\\x981\\xe9\\xae5C\\xa5\\xc4\\xbc\\x82\\x83\\x1c\\x95\\'#\\xc4\\xeaN\\xac\\xdc\\xaaU\\xc4\\x08r\\x93=\\xe4-ky\\xa7Y\\x90\\xe2\\xcaA)\\x1b\\xa12\\x0f\\x81&\\x9d\\xc7Fw<\\xc5\\x87\\x8e\\x9eq\\xa7\\xd1(\\xb1\\xda\\xf2\\xc5\\xf2\\x040\\xe2\\xf1\\xc8\\xce\\xc4\\xad}OA\\x8c\\xfe\\xedD[\\xae\\x94E$\\x9cI-\\xa4,\\xd2j\\xfd\\xa7\\xbeqD*\\x9a\\x93\\xb9\\xa2\\xcd8\\xab\\xd3-z\\x89\\xa615\\n\\xae\\x8e\\x07}7x\\xfc\\x9cv\\xcd\\x9bj\\xfb\\n\\xaejo\\xb6\\xfbm8\\xd1n\\x99,<\\xd2\\x92iy{\\x91\\xb6}{m\\xb0\\x8d\\x93\\xa4V\\xf2\\x9a\\xae\\x94\\xe6\\xb5g\\xa9\\xbc\\xac)\\r\"\\xe9\\xb3\\xacC\\xef0\\xf1\\xa0\\xd4\\xcb\\xb1\\xca\\x11CZH\\xdbI\\xa5G\\x1f\\x94O^\\xcb\\xf0\\x8f}\\x14\\x06\\\\(\\xc7{3\\xd4\\xe8~&X\\x02\\xb4\\xf5v\\x16\\xeeF~\\xe5\\x8c\\x82\\\\\\xf7$!S%\\xcfn\\xc1\\xb9\\xc6\\xeb\\x8b4pxo4\\x92Q%\\t\"A\\x9aPH\\xd9;~u\\x1bB\\xf0\\xedO;\\xf5dS-\\x9aVCO\\n\\x9d\\xe5C\\x90\\x86\\x95\\x1d1%9)\\x87\\xd9Q\\xa0\\xcd\\x0f%\\xe78\\x89Ff^\\x02|\\x1e\\xa3\\xdfD\\x01\\x18V\\xeb\\x86&V\\xf1L\\x02\\x87\\x0c\\xb3\\xbc\\xb3\\xa3\\'\\x9b\\xf7y\\xd8\\xae\\xbb\\x1c\\xcd<\\x8b\\x05\\x1e+Q[CDI#Jy6Q\\xd4f}{\\xf5\\x91lE\\xed\\xc9\\x7f\\xb3V\\xf9z\\x9b\\xf3\\x18\\xe2\\\\Dd\\xbf\\xd9\\xab|\\xbdM\\xf9\\x8cqx\\xab\\x99\\r\\xdek@\\x00<\\xf1\\xd81\\xdd>\\xf8\\x05\\x8d\\xf9\"\\x1f\\xe0\\xa0O\\x88\\r>\\xf8\\x05\\x8d\\xf9\"\\x1f\\xe0\\xa0O\\x8fGS\\xe3\\x7f\\xa9\\xc5\\x87\\xc2\\x80\\x00\\n\\x16\\x00\\x00\\x00\\xa6\\xe5Z-\\xa3\\x99\\xdd\\xb1\\xdff\\xfaM\\x86\\xe46f\\xdaY9\\xb6\\xb41e\\xbem\\xa7~\\x14r\\x8e\\xa1J\\xe1-\\xcfb\\xdfb\\xdc\\xc4\\x9at\\xff\\x00\\x02FU\\xdf\\xd20\\x8a\\x04\\xe4\\x9c\\x9f#\\xee\\xc9V\\xb2S\\xb9>\\x1e\\x1e\\x1e_\\x87\\x94\\xe1\\xe1\\xea\\xdb\\x8bm\\xba\\x84\\xf8\\x08\\xc2\\x89\\xbd\\x90\\x94\\xd8>\\x15\\x8e[\\xd9d\\x18\\xf6!IWir\\xbeR\\xcal:\\xf6\\x98\\x915{\\xef\\xc4\\xf3\\x88I)\\xc3\\xdc\\xcc\\xf7Q\\x9f\\x8cM\\x80\\t\\xdc@\\x00\\x00\\x00\\x00\\x00\\x017\\xa5\\xbf\\x16X\\x8f\\x90`\\x7f.\\x81\\x08&\\xf4\\xb7\\xe2\\xcb\\x11\\xf2\\x0c\\x0f\\xe5\\xd05-\\xbf+\\xc7\\xec\\xcd\\x8b/\\xcc\\xf0\\xd0\\xb4\\x00\\x00\\xe5\\x1d\\x02\\x9f\\xaa\\xff\\x00\\x03\\xcb\\xca\\xf4\\xff\\x00\\x99F\\x11\\x82OU\\xfe\\x07\\x97\\x95\\xe9\\xff\\x002\\x8c#\\x07^\\xc5\\xf2<_\\xb29\\xd6\\xaf\\x9b\\xe0\\xbd\\xd8\\x00\\x01\\xb2`\\x00\\x00\\x00\\neN\\x8ah\\xd5\\x06FY\\x8d\\x16\\x92au\\xd7\\xe9u\\xd7\\xca\\xd6%\\x0cVf\\x13\\x8e\\x12\\x89\\xc5\\xf2\\xc9l\\x97\\xc4\\xa2Z\\xc9G\\xbe\\xe6JV\\xfb\\xeeb\\xe6\\x02\\x1aOx\\xbe\\xe2\\xb5I\\xa6zo\\x8dB\\xb3\\xad\\xc74\\xff\\x00\\x1a\\xaa\\x89tJ+8\\xf0\\xaaXa\\xb9\\xbcDd|\\xb2P\\x82\\'7%(\\x8f\\x8b\\x7f\\x19\\xfe\\xf1#\\x8d\\xe2\\xb8\\xc6\\x19R\\xdd\\x0e\\x1f\\x8eU\\xd1V2\\xa5)\\xb8U\\xb0\\xdb\\x8a\\xc2\\rG\\xb9\\x996\\xd9\\x12H\\xcc\\xfa\\xcfb\\x12\\x80\\x17$M\\xec\\x00\\x00\\x92\\x00\\x00\\x00\\x02#%\\xfe\\xcd[\\xe5\\xeao\\xccc\\x89q\\x11\\x92\\xff\\x00f\\xad\\xf2\\xf57\\xe61\\xc4\\xad\\xe1\\x9a\\xd0\\x00\\x0f<v\\x0c\\xfe\\xbfH\\x93U\\x025d\\rA\\xc9\\xda\\x8d\\r\\x940\\xca8+\\xd5\\xc2\\xda\\x12IInqL\\xcfb\"\\xeb3\\xdcz:1\\x93\\xf5\\x8f\\x93\\xf9\\xba\\xefd\\x17\\x80\\x1b.\\xd9Y\\xf4\\xb7\\xe8\\xb40l\\xd4\\x97W\\xb9G\\xe8\\xc6O\\xd6>O\\xe6\\xeb\\xbd\\x90:1\\x93\\xf5\\x8f\\x93\\xf9\\xba\\xefd\\x17\\x80\\r\\xae\\xb6~\\x8bA\\xb3\\xd3\\xcb\\xdc\\xa3\\xf4c\\'\\xeb\\x1f\\'\\xf3u\\xde\\xc8\\x1d\\x18\\xc9\\xfa\\xc7\\xc9\\xfc\\xddw\\xb2\\x0b\\xc0\\x06\\xd7[?E\\xa0\\xd9\\xe9\\xe5\\xeeQ\\xfa1\\x93\\xf5\\x8f\\x93\\xf9\\xba\\xefd\\x19\\xfd\\xcdvE_\\xadx\\xe6\\x9d\\xb1\\xa8\\x17\\x87YmO2{\\xee*<\\x03x\\x9ciDI$\\xab\\x9blI\\xeb\\xeb#I\\xff\\x00\\x88\\xde\\x067\\x94\\x7fz|\\'\\xfd3e\\xff\\x00zCk\\xad\\x9f\\xa2\\'g\\xa7\\x97\\xb9l\\xe8\\xc6O\\xd6>O\\xe6\\xeb\\xbd\\x90:1\\x93\\xf5\\x8f\\x93\\xf9\\xba\\xefd\\x17\\x80\\r\\xae\\xb6~\\x8bB6zy{\\x94~\\x8cd\\xfdc\\xe4\\xfen\\xbb\\xd9\\x03\\xa3\\x19?X\\xf9?\\x9b\\xae\\xf6Ax\\x00\\xda\\xebg\\xe8\\xb4\\x1b=<\\xbd\\xca?F2~\\xb1\\xf2\\x7f7]\\xec\\x81\\xd1\\x8c\\x9f\\xac|\\x9f\\xcd\\xd7{ \\xbc\\x00mu\\xb3\\xf4Z\\r\\x9e\\x9e^\\xe5\\x1f\\xa3\\x19?X\\xf9?\\x9b\\xae\\xf6Ai\\xa0\\xa6\\x8b\\x8e\\xd1Wc\\xf0\\x9cuq\\xeb\"3\\r\\x95:dkR\\x1bA!&\\xa3\"\"3\\xd9%\\xbe\\xc4E\\xbf\\xc8=\\xe01\\xd4\\xafR\\xaa\\xbal\\xbc)B\\x9b\\xbe(\\x00\\x00\\xc4d\"r\\x9cr6WJ\\xe5,\\xa9\\x92\\xa2!o0\\xfa_\\x8ch\\xe5[q\\x97\\x90\\xea\\x0c\\xb8\\xd2\\xa4\\xfb\\xe6\\xd3\\xb9\\x1aL\\xb6\\xdcWz1\\x93\\xf5\\x8f\\x93\\xf9\\xba\\xefd\\x17\\x80\\x19\\xa9\\xda*RXb\\xfa\\x0cs\\xa3\\t\\xbb\\xe4\\x8a?F2~\\xb1\\xf2\\x7f7]\\xec\\x81\\xd1\\x8c\\x9f\\xac|\\x9f\\xcd\\xd7{ \\xbc\\x00\\xbe\\xd7[?E\\xa1M\\x9e\\x9e^\\xe5\\x1f\\xa3\\x19?X\\xf9?\\x9b\\xae\\xf6@\\xe8\\xc6O\\xd6>O\\xe6\\xeb\\xbd\\x90^\\x006\\xba\\xd9\\xfa-\\x06\\xcfO/r\\x8f\\xd1\\x8c\\x9f\\xac|\\x9f\\xcd\\xd7{ tc\\'\\xeb\\x1f\\'\\xf3u\\xde\\xc8/\\x00\\x1b]l\\xfd\\x16\\x83g\\xa7\\x97\\xb9\\x83\\xe9\\xbdvE\\x97e\\x99\\xed\\x1d\\x9e\\xa0^\">1p\\x88\\x10\\xcd\\x98\\xf0\\x12\\xb56m\\x12\\xb7p\\xce1\\x91\\xabs\\xf1\\x91\\x17\\xf8\\r\\x03\\xa3\\x19?X\\xf9?\\x9b\\xae\\xf6AS\\xd0\\xef\\x8c]`\\xff\\x00S7\\xf8\\x046@\\xda\\xebg\\xe8\\x89\\xd9\\xe9\\xe5\\xeeQ\\xfa1\\x93\\xf5\\x8f\\x93\\xf9\\xba\\xefd\\x0e\\x8cd\\xfdc\\xe4\\xfen\\xbb\\xd9\\x05\\xe0\\x03k\\xad\\x9f\\xa2\\xd0\\x8d\\x9e\\x9e^\\xe5\\x1f\\xa3\\x19?X\\xf9?\\x9b\\xae\\xf6@\\xe8\\xc6O\\xd6>O\\xe6\\xeb\\xbd\\x90^\\x006\\xba\\xd9\\xfa-\\x06\\xcfO/r\\x8f\\xd1\\x8c\\x9f\\xac|\\x9f\\xcd\\xd7{ \\xfe\\x16\\x95\\xa1\\xc7\\xe2\\xbb;9\\xc8\\xa65\\x16\\\\y\\x84\\xc3\\xa9\\x82\\x948\\xb6]K\\xa8%\\x1a#%[q!;\\xec\\xa2=\\xbeQy\\x00\\xda\\xebg\\xe8\\x89\\xd9\\xe9\\xe5\\xee\\x00\\x00k\\x19\\x80\\x00\\x00\\x00\\x00\\x00\\x00\\x00\\x03\\xcfc3\\xdc\\xfa\\xf93\\xf9\\xab\\xf2y\\xb3+{\\x91a$\\xa7]\\xe1I\\x9f\\n\\x08\\xcc\\x88\\xd4{lE\\xb9u\\x98\\xe3\\xbb\\xbe\\xeb\\x1d.\\x9f\\xad\\xf8\\xe6\\xa0\\xb3\\x1a\\xf0\\xab*i\\xe6@\\x90\\x95DA;\\xca\\xba\\xa24\\xf0\\xa7\\x94\\xd8\\xcb\\xab\\xac\\xf7\\x1d\\x988\\x83P\\xbb\\x96\\xdf\\xb2\\xee\\x9f\\x85M_\\rm\\xe2\\xd9*\\xd7y!\\xc6\\xcbd\\xb0\\xca\\x14G)\\xa22\\xf1\\x19\\xadI$\\xed\\xd4\\\\\\xba?q\\x80;\\x1b\\x0e\\xca!f\\xd8\\xbdnY[\\x0edh\\x96\\xac\\x14\\x98\\xed\\xccl\\x9bw\\x93?z\\xa3I\\x19\\x91\\x12\\x8be\\x17_\\x88\\xc8L\\x8f\\x9b\\x0c1\\x15\\x86\\xe2\\xc6i\\r2\\xca\\t\\xb6\\xdbAl\\x94$\\x8bb\"/\\x90\\x88\\x87\\xd0\\x00\\x00\\x00\\x00\\x00\\x00\\x00\\x00\\x00\\x00\\x00\\x00\\x00\\x00\\x00\\x00\\x00\\x00\\x00\\x00\\x05WR\\xf5\\x1a\\x97J\\xf1gs\\x0c\\x8a\\x15\\x8c\\x8a\\xf6\\x1em\\xa7\\x8e\\x0b)qmq\\x9e\\xc9Z\\x88\\xd4\\x9d\\x93\\xc5\\xb2w\\xdf\\xc6\\xa2\\x16\\xa1\\x17\\x93\\xe3\\x95y~;e\\x8b\\xdd\\xb1\\xcbA\\xb4\\x8c\\xe4W\\xd3\\xf2\\xf0\\xac\\xb6\\xdc\\x8f\\xe42\\xf1\\x91\\xfc\\x86D`\\x0eQ\\xd2\\x0e\\xe9\\xfd<\\xac\\xd4\\x0c\\xd1g]\\x7f)\\xcc\\xd2\\xfd\\x97\\xaa\\x99\\x8f\\x11\\nq|HKiJ\\x88\\xdc-\\x94j\\xea\\xdbs\\x1d\\x848\\xc3\\xb9[\\xb9\\xda\\xd3\\x1e\\xd6\\x1c\\x86\\xe7.\\x89\\xbbXL\\x95\\xc1\\x84\\xa5#dH\\x94\\xb4\\xee\\x97RG\\xf2\\x13*J\\xcb\\xf7\\x1b\\xa8?\\x19\\x0e\\xcf\\x00\\x00\\x00\\x00\\x00\\x00\\x00\\x00\\x00\\x00\\x00\\x00\\x00\\x00\\x01\\x96j\\xf9\\xa6\\xcb%\\xc6\\xb1\\x99\\xc9S\\xb5\\xd2a\\xd8\\xd8=\\x1c\\xd5\\xfb7\\x9caq\\x10\\xd98\\x9f\\xf6\\xd2E!g\\xb1\\xf5o\\xb1\\xec{\\x10\\xa6tm\\xa7]\\x81\\xc7=\\x14\\xc7\\xaa.:\\xa5\\xf1\\x8b\\x8ay\\x16\\xeb\\xf1\\xeb\\x87\\x84s+$\\xea\\xca\\xff\\x00\\xdfB=\\x8f\\'NT\\xect\\xf0;\\xafO\\xff\\x00\\x931\\xdc\\x9b-\\xeeq\\xc4/\\xac1\\xcb\\xdcJ\"%\\xd44\\xcb\\xf6.\\xc7\\xc2eJ\\x8b\\t\\xb7RjB\\x9f\\x94\\xccU\\xb0\\xd1\\x1aH\\xcfu\\xac\\xb6\"3=\\x85\\xe2\\x0e\\t\\xa5\\xd6p\\xa3\\xd9V\\xe1\\x98\\xb4\\xa8\\x92\\xdaC\\xf1\\xdff\\xba:\\xdbu\\xb5\\x11\\x1aV\\x95\\x12vRL\\x8c\\x8c\\x8c\\xba\\x8c\\x8cf\\xaef\\x07\\xa7\\x9a\\xc9\\xa93l\\xf0\\x9c\\xd2\\xd0\\xae\\xa2\\xd3\\xaa\\xb158\\xc4\\xe9\\xac\\xcdSQ\\xdcJ\\xdb)-\\xb4q\\xdb2R\\x88\\x8f\\x95q\\x04[\\xf5\\x99\\x17X\\xcd)t3<\\xaa\\xa2\\xbd\\x88\\x8cmM\\xe5\\xf5zA\\n\\xba\\x86SE\\xfb(6\\xae=pk\\x8d\\x12A\\xf8\\ty\\xa4Hm\\x92ZL\\x8d(p\\xbcI_\\\\sP\\xc8\\xbe\\xdb];\\xafo\\x7f[\\xe8\\xbbS\\xa7:6\\xd3\\xae\\xc0\\xe3\\x9e\\x8ac\\xd5\\x0e\\x8d\\xb4\\xeb\\xb08\\xe7\\xa2\\x98\\xf5G)\\xe78\\xf63\\x1a\\xd6%\\x86)\\xa67T\\xba|\\xf5\\xbe#\\x1ee;\\x942 \\x1c\\xd9\\xc8\\x99%R\\r\\x10\\xdcBV\\xf2\\x8a:\\x9bK\\xaaJ\\x15\\xcb\\x97\\n\\x08\\xdd4\\xecS\\xb5\\xb8\\x8ct\\xdc\\xc4\\xb4\\xca\\xb4\\xce\\xe6^\\x93\\x9d\\xfe@\\xfdv<\\xbcjL\\x82\\x8b\\xca\\xb1\\x011\\x1e]Y4n\\xa1\\xa3u\\xabSA)\\x9f\\x00\\xe4\\xa1FI\\xdc\\x8c\\x9c\\xd4F\\xddZ\\xfb\\xaf|_\\xee\\xe3\\xa3\\xfa6\\xd3\\xae\\xc0\\xe3\\x9e\\x8ac\\xd5\\x1e8\\x18n\\x93\\xda=:=~\\x1d\\x8b\\xc8r\\xb2O3\\x96\\x94V0|\\x8b\\xdc\\x9a\\x1c\\xe0W\\x81\\xe3\\xe0q\\x07\\xff\\x00\\xb8\\x871Yc\\xba\\x85\\x8fi\\x96mSy\\x85\\xe5\\x96\\x16yV\\x8d\\xb5\\x8f\\xd4\\xb1\\x1a\\xb6D\\xf7JKn\\xdc\\x1a\">\\xe3D\\xb2m\\xd6\\xd9\\x9d\\x10\\x8f\\x94Qq\\x19(\\x92jQ\\x19\\r\\xb7A\\xb1\\x98X\\xc6M\\xaa\\x0c\\x16 \\xe5<\\xe9\\xf9:lW(\\xeaW\\x1d\\xb9\\xf1\\xdd\\x88\\xc9\\xb6\\xb4H\\xe0$?\\xb3\\xa5\\'\\x88\\x92\\xa5\\x1a\\x16\\xa5q\\x12M~\\x11\\xd2\\x8aW\\x93\\x0bmi\\xb4\\xafk\\xc5\\xf7\\xe8{s\\t\\xba\\x13\\x83[\\xc3\\xa0\\xbb\\xc0\\x99\\x91e:3\\x93\\x19\\x8bQ\\x84J\\xb5s\\x90B\\x92\\x858\\xa4\\xc3\\x8c\\xef\\x02IKIn\\xad\\xb73\\xea\\xdcZ\\xe3\\xe9\\xee\\x9b\\xc9\\x8e\\xd4\\x96\\xf0\\n\\x02C\\xa8J\\xd2NS4\\xda\\xc8\\x8c\\xb7.$\\xa9\\x04\\xa4\\x9f\\xef#\"2\\xf9He\\x1a\\xb4t\\x17\\xb6\\x91\\xf3\\x07q\\xbd^\\x89b\\xed\\x14\\xea\\xfa\\xb9x\\xe4{\\x06\\x16\\x99\\x08\\x90|-<\\xd4b\\xe5\\x10\\xa5-\\tZ\\x15 \\x8a2\\xd3\\xb1\\xa8\\xcc\\xb6\\x1b&\\x12Y)a\\x94\\x05\\x9a\\x1bg\\x90\\x95\\\\_u\\x8d\\xad\\xb8\\x0eg$\\x9e_\\x87\\x87\\xabnS\\x8bm\\xba\\x84:qKqxZ\\xabJM9;\\xbfVL\\xe9\\xacx\\x98\\xe6\\xa23AI\\x19\\x10\\xab\\xeci&Jv+\\x04H`\\x9c\\x8e\\xf4D!Il\\x8b\\x85*\\xe1\\x90\\xb23-\\xb7\"-\\xf7\\xd8\\x86\\xc81\\xec?\\xe3v\\xa7\\xfd7o\\xfc\\xd5p\\xd8F\\xe5\\x97\\xe0k\\xbc\\xf3\\xbc\\xb3\\xd3hR\\xebk\\xee\\xc0\\x00\\r\\x93\\x92\\x00\\x00\\x00\\x00\\x00\\x00ayUu^]\\x9d\\xe5,\\xe4\\xb5\\xccY\\xb3S2=|V&6\\x97\\x99i\\xb3\\x85\\x19\\xf34\\xb6\\xa24\\x92\\x8do+s\\xdbs\\xd8\\xba\\xfa\\x88\\x86\\xe81\\'\\xbe\\x1f\\xe7\\x9eZ\\x8d\\xf9T\\x11\\xabj\\xf8R\\xef\\xfb3\\xb5\\xc8}\\x15\\xa7%\\xbdG\\xff\\x00\\xb4Hn\\x8d\\xb4\\xeb\\xb08\\xe7\\xa2\\x98\\xf5FsC\\x9dw2dvP\\xab+\\xf1\\xda\\xe6Ug)P`I\\xb0\\xc3$\\xc1\\x876BT\\xa4\\x9bLJ\\x91\\x19\\x0c<\\xb3R\\x14D\\x94,\\xcdF][\\x8d\\xa4r\\x85\"\\xee\\xb2m\\x0e\\xa7\\xd0\\xca\\xec\\x13/k$v\\xe9\\x07&E\\x8676\\x0c*\\xb6\\x9b\\xb79*\\x96r\\xa44\\x86\\\\4\\xb6\\x8e$\\x13JZ\\x94\\xb3A\\x11x\\xcc\\xb5#N/\\xa8\\xee\\xd5\\xb5V\\x83WI\\xf5\\xe7\\xdd\\xd1\\xbc\\xe8\\xce\\x8d\\xb4\\xeb\\xb08\\xe7\\xa2\\x98\\xf5C\\xa3m:\\xec\\x0e9\\xe8\\xa6=Q\\xcfMi\\x9b5\\xd5l\\xded:y:uL\\xddS\\xc8\\xac2\\xd8i\\xa7vT\\x8b\\n\\xc3\\x93jU\\xeb\\\\t\\xa1NI\\x8c\\x97\\xdf\\x8e\\xf2[JV\\x9f\\xdar\\xa4\\x93.#:tlz\\x9a\\x0eXps\\xbd2\\xbd\\xb4\\xa8{\\x18\\xc9\\\\\\xc7)\\x8a\\x8d\\xf9\\xaf\\xc1\\x8a\\xed\\xbf\\x14\\x14\\x1cT!K\\x8e\\xaeH\\xff\\x00f\\xa5%<\\x82TH3k\\xc4\\'\\x9a\\x89Gn\\xac\\xb7\\xb7\\xc5\\x9dm\\xd1\\xb6\\x9dv\\x07\\x1c\\xf4S\\x1e\\xa8\\xfc\\xb9\\xa7Zn\\xd3ju\\xdc\\x13\\x1aB\\x10F\\xa5)Ul\\x11\\x11\\x17\\x8c\\xcc\\xf8G2\\xbd\\x82f\\xe8\\x83*\\x1eg\\x88\\xdd[jc\\xcc\\xe2\\xa9\\xc6/\\xdb\\xafzJ+\\xcd\\x98\\xb0\\xd3/i\\xc9#n)&[s\\x9dt\\x94\\xb4r\\xa8p\\x8bg8\\x89#\\xdfi\\x8d_Z\\xb1M\\xa7\\x12p+\\xd9n\\xc7\\xd4\\xbc\\xca\\xd6z\\x9f\\xa6x\\xeb\\xf9\\x84\\xe8\\xd7\\xca\\x8e\\xb3}H\\xe4\\\\C\\xa59\\x84\\xf5(\\xc8\\x94\\xae\\x15p\\x9e\\xc4nf#n\\xad\\xdf\\xc5\\xe7\\xfbgA\\xd5\\xe1:WwY\\x0e\\xe6\\xab\\x0b\\xc6d\\xc2\\x9e\\xc3r\\xa3>\\x8a\\xb68]ii%!e\\xe0x\\x8d&G\\xff\\x001V\\x89i\\xa0\\xd3\\xf2\\xe98D\\x0c\\x012\\xac\\xa1L\\xe6\\x12]c\\x04\\x98\\xe4\\x16$\\x12\\x12\\xe1\\xa1sS\\x14\\xe3$\\xc9+I\\x9e\\xee\\x91\\x17\\x11\\x11\\xf5\\xf5\\x0f\\xbe\\x8c\\xc9\\xae\\xc3{\\x9e\\xf1\\'Z\\xc4\\xad\\xab\\x9b\\xa9\\xa2\\x8c\\xdc\\x9a\\x96h\\x9fbb$\\xa1$\\x99\\x04Q\\r\\xb4\\xb8j7\\xb9EnI\\xf0\\xf75\\x91\\xa8\\x94J:$\\xda\\x89\\x95Z\\xa2E\\x80Tj]vE34fm\\xa1\\xc9T\\xb5c\\xf2j\\xd6H\\xe7oq\\x16\\xf0xT\\xcaL\\x90[\\xf3\\x94\\xbaH-\\x89$!S\\x8d\\xef\\xa0\\xb4\\xadu\\x94b\\xd4\\x9fO{\\xf46\\x84i\\xce\\x9e\\xb6\\xb4\\xb8\\xde\\t\\x8e\\xa5I24\\xa8\\xaa\\xd8##\\xfd\\xe5\\xe0\\x8d\\x07E\\xe48\\x9a\\xdc\\x82\\x91.:\\xa8\\xb4\\xb7G\\x0e\"\\\\p\\xd7\\xc9\\xb4\\xa8q\\x9f\\xe0#>\\xb2I)\\xf5\\x91\\x17\\xc8[\\x17\\x88\\x88\\x84\\x00\\x9b\\xd1\\x8f\\xeb3\\x7f\\xf5\"?+\\x802Y\\xd2\\x8dEq\\xad\\xca\\x92\\x95K,\\xb1\\xbb\\xee\\xbb\\xdd\\x1a@\\x00\\x0e\\x89\\xe4\\x80\\x00\\x00\\x00\\x00\\x00\\xa6j\\x06\\x1bk\\x90\\xcb\\xab\\xbb\\xa0~\\x1al*\\xd2\\xfb\\x1c\\x94\\xb3R[y\\x87\\x8d\\xb3q<iJ\\x94\\x85q2\\xd9\\x91\\x92L\\xba\\x8c\\x8c\\xba\\xf7*\\x8fz\\x1a\\xbb\\xd9\\xfcC\\xed\\x14\\xafa\\x1b\\x08\\x0c3\\xa1\\x19\\xbcGF\\x87)\\xd6\\xb3\\xd3T\\xd2M-\\xd7\\xf1\\xeah\\xc7\\xbb\\xd0\\xd5\\xde\\xcf\\xe2\\x1fh\\xa5{\\x08w\\xa1\\xab\\xbd\\x9f\\xc4>\\xd1J\\xf6\\x11\\xb0\\x80\\xa6\\xcd\\x1c\\xd9\\x97\\xf8\\xcdn\\xcc}u0\\xbb\\xdd+\\xd4,\\x95\\x10Qw\\x89b\\x12S[9\\x8b(\\xa5\\xdf4\\xc4rrYW\\x13k\\xf0a\\x16\\xfb\\x1f\\xc8{\\x91\\xfc\\xa4b\\'P\\xa7j\\xc6\\x9dS\\xa7 \\x9b\\xa75\\x96\\xb0\\x10\\xaf\\xe9n\\xd5]\\xbc\\xf2\\xa27\\xff\\x00\\x11\\xc4*\"Vh/\\x19\\x9a\\t[\\x11\\x19\\x99\\x10\\xe8\\xa0\\x13\\xb3G6C\\xe5z\\xcftW\\xae\\xa6\\x11\\x8b7\\x9df\\xd4\\xb1\\xf2,R>\\x0fg]$\\xb7m\\xf62IF[\\xfc\\xa9Qs\\x1d\\xd2\\xa2\\xf9RdF_)\\tn\\xf45w\\xb3\\xf8\\x87\\xda)^\\xc2?\\xb9V\\x8b[c\\xf7R3\\xfd\\n\\xb4c\\x1d\\xbdx\\xf9I\\xd5.\\xa4\\xfd\\xca\\xb7\\xdb\\xafg[/\\xea\\xdc?\\x91\\xc4m\\xe3?\\x11\\x99\\xa8Ki\\xce\\xb6Ue\\xf6na\\x99E[\\xf8\\xaei\\x11?\\xd2i\\'\\x99\\x12\\x9c\\xdb\\xff\\x002;\\x9e\\xf5\\xe6\\xcfc24\\xf5\\xecF{m\\xd6q\\xb3G6O\\xf1\\x9a\\xdd\\x98\\xfa\\xeaDw\\xa1\\xab\\xbd\\x9f\\xc4>\\xd1J\\xf6\\x10\\xefCW{?\\x88}\\xa2\\x95\\xec#a\\x00\\xd9\\xa3\\x9b\\x1f\\xc6kvc\\xeb\\xa9@\\xc1\\xf0l\\x86\\xbb!VS\\x94\\xae\\xb5\\xa9\\rA\\\\\\x18\\xb1`\\xba\\xb7\\xd2\\x84\\xb8\\xb6\\xd6\\xea\\x94\\xea\\xd0\\x83Q\\x99\\xb2\\xd9\\x11\\x12H\\x88\\x93\\xf2\\xef\\xd5\\x7f\\x00\\x19\\xa1\\x05M\\\\\\x8d\\x0bE\\xa2v\\x99\\xe3\\x9e\\xf0\\x00\\x02\\xe6\\x00\\x00\\x00\\x00\\x00\\x00\\x034\\xca0\\x1c\\xb4\\xb2K;\\xecL\\xa9\\xe5\\xb7n\\xa6\\x9f~4\\xf9.E6\\xdfCM\\xb3\\xc4\\x97\\x1bi\\xde$\\x9bm#\\xa8\\xd2FF\\x9f\\x1e\\xc7\\xd5\\xa5\\x80\\xa4\\xe9\\xaa\\x8a\\xe6lY\\xadU,\\x93s\\xa7\\xd7\\xd1\\xfb\\xe0c\\xdd\\xe8j\\xefg\\xf1\\x0f\\xb4R\\xbd\\x84;\\xd0\\xd5\\xde\\xcf\\xe2\\x1fh\\xa5{\\x08\\xd8@a\\xd9\\xa3\\x9b7\\xbf\\x8c\\xd6\\xec\\xc7\\xd7S\\x1e\\xefCW{?\\x88}\\xa2\\x95\\xec\"\\xb3\\x93a\\xf96#&N\\xaad\\xb4\\x98T\\x17kk\\x17\\t\\xeb\\x07ry\\x84H\\x8an\\x13\\x86\\xd9#\\x99p\\xa8\\xcdd\\x9d\\xb6I\\xa8\\xcfb/\\x1e\\xc3t\\xc92J<B\\x8efI\\x92Y3\\x02\\xb6\\x03f\\xeb\\xef\\xba{\\x12K\\xf7\\x17\\xcafg\\xb1\\x11\\x17Y\\x99\\x91\\x16\\xe6c\\x14\\xc71\\xcb\\xde\\xe8\\xbb\\xd8\\x9a\\x87\\xa8u\\xcfW\\xe0\\x95\\xee\\x93\\xf8\\xe68\\xf9l\\xa9\\xea/{6Z|FF^\\xf1\\x1e-\\x8f\\xe6\\x99\\x9b\\x93\\xb3G6?\\x8cV\\x7f\\xd3\\x1f]O\\x86\\x9f?\\xaa\\xfa\\x85\\x8c\\xc7\\xca\\xe2`\\x14\\xd5Q&\\x19\\xaa*,\\xef\\x1ei\\xd7\\x9a\\xff\\x00e\\xd2J\"+d+\\xe4\\xe2\\xd8\\xcc\\x8b}\\xb623\\xb2w\\xa1\\xab\\xbd\\x9f\\xc4>\\xd1J\\xf6\\x11\\xb0\\x11\\x12H\\x92\\x92\"\"\\xea\"!\\xfd\\r\\x9a\\x19\\xb0\\xb9b\\xba_\\n\\xf5\\xd4\\xc7\\xbb\\xd0\\xd5\\xde\\xcf\\xe2\\x1fh\\xa5{\\x08w\\xa1\\xab\\xbd\\x9f\\xc4>\\xd1J\\xf6\\x11\\xb0\\x80\\x8d\\x9a9\\xb1\\xfcf\\xb7f>\\xba\\x98\\xfa0\\xfdZ5\\xa4\\x9c\\xa0\\xc4R\\x9d\\xcb\\x88\\xcb!\\x92fE\\xfc\\x0b\\x98\\x96\\xff\\x00\\xf5\\x17}>\\xc4\\xe6b\\x95s\\n\\xd2Tw\\xecm&\\xaa|\\xb5GI\\x93I_&\\xdbIB7\\xeb2Km6\\\\G\\xd6fF{\\x17\\x88\\xad /\\n\\x11\\x83\\xbd\\x18-\\x1c\\xa3Z\\xd3\\x0enI%\\xdd\\xfe[\\x00\\x003\\x1a\\x00\\x00\\x00\\x00\\x00\\x00\\x00\\x00\\x00\\x00\\x00\\x00\\x00\\x00\\x01P\\xd4m+\\xc45B\\xb5\\xb8Y$%\\xa6LUr\\x90lb\\xaf\\x92\\x99\\t\\xcf\\x19-\\xa7K\\xad\\'\\xb9\\x11\\xec{\\x91\\xec[\\x91\\xecB\\xde\\x00\\x0c&6\\xa2j\\x0e\\x86\\xc9n\\x97Z\\x12\\xed\\xfe*\\xa5\\x93P\\xf3(l\\x19\\xad\\x823\\xd9)\\x9c\\xd2w4\\x9f\\x88\\xb9B\\xdf~\\xaf|ff[mm\\x95u\\xcc\\x06-jg12\\x1c\\xa4\\x13\\xacHa\\xc2[n \\xfcJJ\\x8b\\xa8\\xc8}%E\\x8d:3\\xb0\\xe6\\xc7jDw\\xd0m\\xba\\xd3\\xa8%\\xa1\\xc4\\x19liRO\\xa8\\xc8\\xcb\\xc6F1\\x1b=)\\xcd\\xf4\\x82{\\xf9N\\x81<\\x995N\\xac\\xdf\\xb0\\xc2\\xe6\\xbce\\x19\\xe3?|\\xb8\\x8b?\\xea\\\\\\xff\\x00\\xd3\\xefO\\xf8\\x91\\x12\\x00\\x1b\\x98\\n.\\x99k\\x1e%\\xaa\\x0c>\\xc5b\\xdf\\xaf\\xbb\\x81\\xba,i\\'\\xa3\\x92\\x9b\\rd{\\x19)\\x07\\xd6i\\xdf\\xab\\x88\\xba\\xba\\xcb}\\x8f\\xa8^\\x80\\x00\\x00\\x00\\x00\\x00\\x00\\x00\\x00\\x00\\x00\\x00\\x01\\x17\\x93d\\xd4Xu\\x14\\xcc\\x97%\\xb2j\\x05l\\x06\\xcd\\xd7\\xdft\\xfa\\x92_!\\x11x\\xcdF{\\x11\\x11u\\x99\\x99\\x11u\\x98d\\xd95\\x16\\x1dE3%\\xc9l\\x9a\\x81[\\x01\\xb3u\\xf7\\xdd>\\xa4\\x97\\xc8D^3Q\\x9e\\xc4D]ffD]f1<k\\x1a\\xbe\\xee\\x8b\\xbe\\x89\\xa8\\xba\\x8b\\\\\\xf5~\\x0b^\\xef/\\x8d\\xe3o\\x96\\xc78\\xff\\x00\\xd9\\x99->##/z\\x8f\\x16\\xc7\\xf3w7\\x00\\xfdcx\\xe5\\xf7t]\\xec=C\\xd4J\\xe7\\xab\\xf0J\\xf7\\t\\xfcs\\x1b|\\xb6T\\xf5\\x17\\xbd\\x99->##/x\\x8f\\x16\\xc7\\xf3L\\xcd\\xcd\\xf4\\x88\\x92D\\x94\\x91\\x11\\x17Q\\x11\\x01\\x11$\\x89)\"\".\\xa2\"\\x1f\\xd0\\x00\\x00\\x00\\x00\\x00\\x00\\x00\\x00\\x00\\x00\\x00\\x00\\x00\\x00\\x00\\x00\\x00\\x00\\x00\\x00\\x00\\x00\\x00\\x00\\x00\\x00\\x00\\x00\\x00ft\\xfa\\x9d\\x9a\\xdd\\xd4A\\xb9\\x89\\x84R!\\x89\\xf1\\x9a\\x94\\xda\\\\\\xc8\\x1e%\\x92\\x16\\x92Q\\x12\\x88\\xa1\\x99o\\xb1\\xf5\\xecf=}\\xfdg\\xbd\\x8b\\xa0\\xfbB\\xf7\\xb1\\x8d\\xc7`\\xae\\x9d\\xcd.+S]Z\\xe9>\\xbfG\\xa1\\xf3\\xd4\\xed\\x14\\xc7u\\r\\xf62\\x18r\\xe4c\\xd9d\\x0e\\xb8\\x17\\xf5\\xc7\\xc1%\\xa3\"\\xeaK\\x9bm\\xca\\xb7\\xf2\\x1aU\\xf2\\x19\\x91\\x19n{\\xe1\\xda\\xa7\\xdd)\\xab:C\\x8eN\\xd3\\xec\\xd6\\x9a\\'~n\\xb2\\x9fr\\xf2\\x08*B\\xa2\\xc9\\x8c\\xa34\\x9c\\x93h\\xfa\\xd0\\xe9p\\x99\\x12L\\xb8M]{\\x11\\x16\\xca\\xdd{\\xfa\\xcf{\\x17A\\xf6\\x85\\xefc\\x18.\\xaa\\xf7=\\xce\\xd5\\\\\\x9a^af\\x87#\\xd9\\xcb\\xe1I\\x91\\xe4\\x86\\xeb\\r!=IB\\x10u\\xe4iI\\x17\\xc9\\xc5\\xfc|{\\xef\\x1b\\r|\\x97\\x15\\xa8\\xda\\xa9g\\xe8\\xf4:\\x13Fu*\\x0e\\xac\\xe9\\xddVg\\x14\\x90\\x87\\xe47\\xc8\\xcea\\'\\xfdD\\xa4u8\\x8f\\xf0\\xdf\\xc2/\\xfd*I\\xfc\\xa2\\xee9_@t\\xdbTt&e\\xb3Q\\xe5\\xd0]S\\xdb%\\x0b8NO}\\x854\\xf2\\x0f\\xc1q+\\xe4\\x14^\\xf4\\xcd*.\\x12\\xdf\\xc1\\xf1p\\xec{?\\x7fY\\xefb\\xe8>\\xd0\\xbd\\xeca\\xb0\\xd7\\xc9qZ\\x8d\\xaa\\x96~\\x8fCA\\x01\\x9fw\\xf5\\x9e\\xf6.\\x83\\xed\\x0b\\xde\\xc6\\x1d\\xfdg\\xbd\\x8b\\xa0\\xfbB\\xf7\\xb1\\x86\\xc3_%\\xc5j6\\xaaY\\xfa=\\r\\x04\\x06}\\xdf\\xd6{\\xd8\\xba\\x0f\\xb4/{\\x18w\\xf5\\x9e\\xf6.\\x83\\xed\\x0b\\xde\\xc6\\x1b\\r|\\x97\\x15\\xa8\\xda\\xa9g\\xe8\\xf44\\x11\\x82wc\\xea\\x95\\xa6\\x9b\\xe9\\xcc(\\xd8\\xdd\\xa3\\xb0.\\xaelZLw\\x99W\\x0b\\x8d\\xb4\\xc9\\x93\\xae,\\x8f\\xff\\x00\\xb8\\x9aI\\x91\\xf5\\x198d}B\\xf5\\xdf\\xd6{\\xd8\\xba\\x0f\\xb4/{\\x18\\xc6\\xf5\\x8bI\\xf2\\xadm\\xcc+o2\\xa6+\\xe3T\\xd5\\xc3\\xe6\\xec\\xd6\\xc2\\xbbq+7\\x14\\xb3R\\xdc7W\\rD\\\\E\\xc0\\x9d\\x89\\x1e$\\x17Xl5\\xf2\\\\V\\xa3j\\xa5\\x9f\\xa3\\xd0\\x84\\xd1\\xac\\xc5\\x1d\\xd5\\x99\\x94u\\xea\\xad\\xcc\\x02c\\x16e\\xa9\\x10\\xf1f\\x12\\xa45a \\x8be\\xcct\\x95\\xd4\\xe1$\\xff\\x00\\xf2\\xcbr.-\\x8fb\\xdf\\x8f\\xaf\\xc8\\x89$II\\x11\\x11u\\x11\\x10\\xc0\\xb0\\x0c\\x0e\\x97L\\xdcnV%\\xa3X\\xa3\\x13\\x9a#$\\xce\\x7f }\\xf9$f[\\x19\\x93\\x8eC3F\\xe4fFI\\xd8\\xba\\xfcB\\xfb\\xdf\\xd6{\\xd8\\xba\\x0f\\xb4/{\\x18l5\\xf2\\\\V\\xa3j\\xa5\\x9f\\xa3\\xd0\\xd0@g\\xdd\\xfdg\\xbd\\x8b\\xa0\\xfbB\\xf7\\xb1\\x8bn-w\\xdf.1Q\\x91\\xf3nm\\xee\\xac\\x08\\xf3y\\x1e>>O\\x95m+\\xe1\\xe2\\xd8\\xb7\\xdb\\x8bm\\xf6-\\xf6\\xf1\\x10\\xc7V\\xcdR\\x8a\\xc55\\xd1\\xfa\\xa7\\xec^\\x15\\xa1Q\\xdd\\x17\\xeeJ\\x00\\x00\\xc0e\\x00\\x00\\x00\\x00\\x00\\x00\\x00\\x00\\x00\\x00\\x00\\x00\\x00\\x00\\x00\\x00\\x00\\x00\\x00\\x00\\x00\\x00\\x00\\x00\\x00\\xc7t\\xfb\\xe0\\x167\\xe4\\x88\\x7f\\x82\\x81> 4\\xfb\\xe0\\x167\\xe4\\x88\\x7f\\x82\\x81>=\\x1dO\\x8d\\xfe\\xa7\\x16\\x1f\\n\\x00\\x00(X\\x00\\x00\\x00\\x00\\x00\\x00\\x00\\x00\\x00\\x00\\x00\\x00\\x00\\x00&\\xf4\\xb7\\xe2\\xcb\\x11\\xf2\\x0c\\x0f\\xe5\\xd0!\\x04\\xde\\x96\\xfcYb>A\\x81\\xfc\\xba\\x06\\xa5\\xb7\\xe5x\\xfd\\x99\\xb1e\\xf9\\x9e\\x1a\\x16\\x80\\x00\\x1c\\xa3\\xa0\\x00\\x00\\x00\\x00\\x00\\x00\\x00\\x00\\x00\\x00\\x00\\x00\\x00\\x00\\x00\\x00\\x00\\x00\\x00\\x00\\x00\\x00\\x00\\x00\\x01\\x8e\\xe9\\xf7\\xc0,o\\xc9\\x10\\xff\\x00\\x05\\x03\\x98u\\x9bO\\xa6g:\\xcb\\xaa\\xea\\xae\\xd2\\xed?\\xc9%D\\xc2\\xe8\\xd2\\xcd\\xb6K8\\xe3I\\xa5R\\xfd\\xd3\\xd9\\xe8j(\\xaex^\\x0f\\x11\\x9f-\\x1fcm\\x1e\\x19{\\xe4\\xf4\\xf6\\x9f|\\x02\\xc6\\xfc\\x91\\x0f\\xf0P#\\xf2}\\x1d\\xd2<\\xda\\xe5\\x19\\x1eg\\xa5\\x98\\x85\\xf5\\xb3M\\xa1\\xa4O\\xb3\\xa3\\x8b*BP\\x833JI\\xc7\\x10j\"#32-\\xf6#3\\x1e\\x82\\xbcqI\\xae\\xf3\\x8fJXR\\xfd\\x0es\\xc656\\xff\\x00 \\xcc\\xf1\\xea\\\\K*\\x9bM]\\x9c\\xa7\\x17h\\xef\\xde\\xac\\x86V\\xa5\\x1dt\\x13\\xe7$\\x9cS\\xad\\xb8\\x85>\\xea\\xe36\\x9f\\xda\\x93\\x84\\x92S\\x84\\x82\\xdc\\xc8\\xc5B\\x9b<\\xcb\\xf1\\x1cj\\xda\\xdb\\x15\\xc8\\xab\\x9f\\xb5\\x8f\\x07Q\\xa6F\\xb9\\xf763\\x86\\xeb\\xe9\\xcc#\\xb6\\x97H\\xcd&d\\xda\\xc9\\xc5(\\xdbJ\\x89\\n\\xdd\\'\\xb1\\x9aPe\\xd9W\\x1a{\\x80\\xe4Q\\xa6B\\xc80|~\\xce=\\x8f!\\xcf\\x1a\\x99X\\xcb\\xc8\\x91\\xc8\\xef\\xc8\\xf2\\x89ZL\\x97\\xc1\\xb9\\xf0\\xef\\xbf\\x0e\\xfd[\\x0f\\xc3zm\\xa7MD\\xe6\\r`8\\xe2#rO\\xb1\\xc8\\xa6\\xa9\\x82o\\x92}\\xe4\\xbc\\xf28xv\\xe1q\\xd4!\\xc5\\x97\\x89KJT{\\x99\\x11\\x8c<\\xdc\\xb32\\xf3\\x8b#\\x01\\xcc\\xf5\\x0b\\\\\\xe8\\xb3l\\x97\\x19\\xc6&\\xe4w%\\x83\\xc5\\xa8[/;\\xde\\xf4hv\\xab\\x91\\xbb\\x8e.\\xc5r\\x16\\xc3\\xad\\xa1}l\\xb6q\\x10\\x82I\\xb6\\xa33q[\\xa4|2\\xfc\\xcf;\\xbf\\xd2}@\\xcc\\xe4k:\\xe9$<\\xd6mW\\x13\\x19n\\x1c4\\xad\\x93\\xac9\\x8d\\xb2Q\\x9c4\\x13\\xe4\\xf97\\x15.\\xba\\xa5\\xa9\\xc4\\x9a]W\\x02[\\xf0\\x16]\\x17s\\x81\\xe0\\xd9\\x1d\\xc4\\x0c\\x8b!\\xc3(\\xad-j\\x8c\\x8e\\x04\\xe9\\xb5\\xcc\\xbf\"!\\x92\\xb8\\x88\\xdaqi57\\xb2\\xba\\xfc\\x13.\\xbe\\xb1\\xf8-=\\xc0Sya\\x93\\xa7\\x07\\xc7\\xca\\xe6\\xde9\\xc4\\xb0\\xb1*\\xc6y\\xcc\\xc6\\x0c\\x88\\x8d\\xb7]\\xe1\\xe3q\\x06DE\\xc2\\xa32\\xd8\\x88K\\x83\\xcc\\x8ck#\\x9db\\xe5Y\\x9dn\\xa6\\xc6\\xd3\\xda\\xec\\xc9\\xd8%\\x90\\xcb\\xc7\\xaa\\xe5\\xe4\\xbe\\xe7@9\\xe9o\\xdck\\t~\\xfc\\xd8\\xe4\\x96\\xeb\\x8eEm\\xb4\\x9b\\x8d\\xa9)%\\xa8\\x92\\x92Q\\x90\\xf5cz\\x81\\xab\\x19\\xaeO\\x13\\rkS%W\\xc7\\x83[\\x99\\xf2\\x96\\xd0k`\\xa9\\xeb7*\\xed\\xa2\\xc4\\x8a\\xf9\\x93\\xac\\xad\\xa4\\x9f\\x03\\xae\\x13\\x84\\x84\\x12T\\xb4\\xab\\x84\\x91\\xd5\\xc3\\xa1d3\\xbb\\x9eq;\\x07\\xf4\\x92f\\x9b3$\\xde\\x81\\x02D\\xba\\x8a}?\\x97g\\x11\\x11\\r\\xc7\\x91\\x13\\x97\\xe6\\x91\\x1ce\\t%\\xb2\\xff\\x00\\x02\\\\2\\xe1\\xe0Q\\x91\\x11u\\x8b\\x1d=\\xde\\x8e1\\x9e\\xa7K\\xe8\\x18\\xa3o&\\xa2\\xa4w\\x82\\x04J\\xe2I\\xc0\\xadR\\xd8\\xe5\\x18\\'\\x12\\x8eM\\xa4\\x99\\xae*\\x8d\\x8e\"3#iF\\x9d\\xb8LB\\x8b\\xcc\\x96\\xfb\\x8e|\\xbb\\xee\\x88\\xd4\\x17\\xf1\\n-C\\xa9\\xc8\\xed\\xb8\\xe2\\xd2b3n+\\xe1\\xd6V7R\\xd4\\xab.I\\xc7\\x9b\\x94\\xf4\\xa79\\xd3\\xa6\\xe3O\\x17&\\x98\\x84\\x9eO\\xc15\\x1a\\xcc\\xf6+\\x9c\\x0f\\xee\\xb3\\xac\\xbeQ\\xd4\\x8f\\xcc\\xec\\xc5\\xa7\\x18\\x91\\xdc\\xbf\\xa9\\xd7)\\xa4\\xa2\\xc3\\xf1kI\\x91\\xe9\\x95\\x12\\x19\\xc9\\xc5y&\\xa4\\xd44d\\xc2\\x91\\r\\xe7\\x98Krb#\\x94Kg\\xc8)m\\x118\\x92\\xea%\\x16\\xfat|S\\x17\\x89I\\'\\x1a\\x89\\x8d\\xd5\\xb3Q7\\x9cs\\x9a\\xf6\\xe1\\xb6\\x98\\xcfr\\xeaR\\x9f\\xe3h\\x8b\\x85\\\\\\xa2\\x96\\xb3^\\xe5\\xe1\\x1a\\x94g\\xbe\\xe6\\x11\\x8b}7\\xde\\x1c\\x92\\xe8\\xb8\\xcc\\xf5\\x16\\xae%\\xefs\\xc5}\\x0c\\xbc\\xba\\x0e6V1i\\x18nd\\xf3W5y\\xceZ9\\xa6#\\xfc*J\\x8d\\xa9\\x06\\x92\\x8e\\xb2%\\x11\\x9a^Q\\x17Y\\xec*\\x9am\\x80i\\xad\\x8eW\\x94\\xe9\\x0ew\\xa0X-t\\xa8\\xf0k.\\xa4\\xd6U\\xa9\\x16X\\xf4\\x84\\x1a\\xe4\\xb4\\xcc\\x84Du\\x96\\xd1\\x16N\\xe9t\\x95\\xfb\\x12R\\x93\\xc1\\xfbG\\t>\\x0e\\xadC\\xa2:1\\x8b1a\\x1b\\x18\\xd2,*\\xa1\\x9bf9\\xad\\x83p(\"GL\\xb6w\\xdf\\x93t\\x90\\xd9\\x13\\x88\\xdf\\xaf\\x85[\\x90\\x99\\xc4\\xf0L#\\x02\\x84\\xedv\\x0b\\x86\\xd1\\xe3\\x91\\x1f_*\\xeb\\x155\\xcc\\xc3mk\\xdbn%%\\xa4\\xa4\\x8c\\xf6\\xf9L[\\x03m6W\\x15\\xca\\xe4q\\x8c\\r\"\\xc7\\xcf\\xb9sCW\\xa6\\xb8\\xb5\\x15\\x06W{aSb\\x9b\\x080\\x19\\x8c\\xec\\xbbH\\xd53\\xe4CrK\\x88I)\\xde\\x17\\xc8\\x8c\\xcdFg\\xb2\\x97\\xd7\\xd6b\\xfb\\xa7y\\x8a5\\x7f\\xba[\\x13\\xd6H$\\xfbT\\xb3\\xf1\\x8bJj\\x86\\x1d\\xdc\\xb8R\\xca+\\xdf\\x94\\xb3/\\x91|\\xe2S\\x91\\xd6G\\xe28_ \\xe9\\x98\\xd8\\xae/\\x0e\\r]\\\\<n\\xad\\x88TjJ\\xea\\xe3\\xb7\\r\\xb4\\xb5\\x05IB\\x9bI\\xb0\\x82-\\x9a2B\\xd6\\x924\\x91l\\x95(\\xbcFc\\xf9\\x07\\x14\\xc5\\xea\\xdc\\x8a\\xf5n7U\\x11\\xc8<\\xe7\\x9a\\xa9\\x88m\\xb6ls\\x879I\\x1c\\x06\\x92.\\x1eUdK^\\xdbq(\\xb7V\\xe6*\\xa9]w\\x81gR\\xf2TM\\xe9o\\xc5\\x96#\\xe4\\x18\\x1f\\xcb\\xa0B\\t\\xbd-\\xf8\\xb2\\xc4|\\x83\\x03\\xf9t\\x0cV\\xdf\\x95\\xe3\\xf6e\\xec\\xbf3\\xc3B\\xd0\\x00\\x03\\x94t\\x00\\x00\\x00\\x00\\x00\\x00\\x00\\x00\\x00\\x00\\x00\\x00\\x00\\x00\\x00\\x00\\x00\\x00\\x00\\x00\\x00\\x00\\x00\\x00\\x001\\xdd>\\xf8\\x05\\x8d\\xf9\"\\x1f\\xe0\\xa0O\\x88\\r>\\xf8\\x05\\x8d\\xf9\"\\x1f\\xe0\\xa0O\\x8fGS\\xe3\\x7f\\xa9\\xc5\\x87\\xc2\\x80\\x00\\n\\x16\\x00\\x00\\x00\\xe6\\xfd{\\xa6\\x93\\x1b\\'\\xc9\\xee\\xb0\\xba}Q\\x8f\\xa864\\x10\\xd8\\xc6g\\xd1\\xaeY\\xd3\\xc9\\x9a\\xca\\xe4\\x1cv\\xe4\\xf2\\x1b\\xc7J\\x1bq\\xe37Jn\\xcd\\x9bn\\x19\\xa3s\\xdfi\\xdb<\\xb2\\x1c^\\xe9\\xeaG\\x1c\\xc6r\\xe51\\x1f\\x18\\xb1\\xa5\\x95>>\\x1fj\\xe4\\x02\\x9d\"]{\\x8d\\xa7\\x9d&1\\xb2h42\\xe1\\x9b\\xbcf\\x84\\xf0\\x19)D}Cs\\x01L\\x19\\x17\\xc4`\\xba3\\x92D\\xd4\\x1c\\xf59\\xa5\\xfe5\\x96P\\xd9\\xc4\\xac\\x93Y\\x8fQ\\xce\\xc3-kbSV-\\xd6\\x94\\xe19&Dd0\\xe4\\xa7\\x8d\\x88\\xe6\\xa4\\xa1|(KiCd\\xae\\x15\\xb8\\xe6\\xf4\\x00&*\\xe4U\\xbb\\xc0\\x00\\x0b\\x10\\x00\\x00\\x00\\x13z[\\xf1e\\x88\\xf9\\x06\\x07\\xf2\\xe8\\x10\\x82oK~,\\xb1\\x1f \\xc0\\xfe]\\x03R\\xdb\\xf2\\xbc~\\xcc\\xd8\\xb2\\xfc\\xcf\\r\\x0b@\\x00\\x0eQ\\xd0\\x00\\x00\\x00\\x00\\x00\\x00\\x00\\x00\\x00\\x00\\x00\\x00\\x00\\x00\\x00\\x00\\x00\\x00\\x00\\x00\\x00\\x00\\x00\\x00\\x00\\xc7t\\xfb\\xe0\\x167\\xe4\\x88\\x7f\\x82\\x81>&\\xfa-\\xd3/\\xab\\xacc\\xd1\\x11\\xfd@\\xe8\\xb7L\\xbe\\xae\\xb1\\x8fDG\\xf5\\x07^V\\xeaRm\\xdc\\xfd59\\xca\\xc94\\xae\\xbd\\x10\\x80&\\xfa-\\xd3/\\xab\\xacc\\xd1\\x11\\xfd@\\xe8\\xb7L\\xbe\\xae\\xb1\\x8fDG\\xf5\\x05v\\xda]\\xfe\\x9a\\x93\\xb2\\xcf\\xbb\\xf7\\xe0B\\x00\\x9b\\xe8\\xb7L\\xbe\\xae\\xb1\\x8fDG\\xf5\\x03\\xa2\\xdd2\\xfa\\xba\\xc6=\\x11\\x1f\\xd4\\r\\xb6\\x97\\x7f\\xa6\\xa3e\\x9fw\\xef\\xc0\\x84\\x017\\xd1n\\x99}]c\\x1e\\x88\\x8f\\xea\\x0c\\x9f#\\xc10\\x86{\\xa5p\\xfaVp\\xda4W\\xc8\\xc7\\xac\\x1ez\"k\\x99&\\\\q+.\\x15)\\x1c<&\\xa2\\xf9\\x0c\\xcbr\\r\\xb6\\x96O\\xf7\\xe2N\\xcb>\\xe2\\xfa\\x02o\\xa2\\xdd2\\xfa\\xba\\xc6=\\x11\\x1f\\xd4\\x0e\\x8bt\\xcb\\xea\\xeb\\x18\\xf4D\\x7fP6\\xda]\\xfe\\x9a\\x91\\xb2\\xcf\\xbb\\xf7\\xe0B\\x00\\x9b\\xe8\\xb7L\\xbe\\xae\\xb1\\x8fDG\\xf5\\x03\\xa2\\xdd2\\xfa\\xba\\xc6=\\x11\\x1f\\xd4\\r\\xb6\\x97\\x7f\\xa6\\xa3e\\x9fw\\xef\\xc0\\x84\\x017\\xd1n\\x99}]c\\x1e\\x88\\x8f\\xea\\x07E\\xbae\\xf5u\\x8cz\"?\\xa8\\x1bm.\\xff\\x00MF\\xcb>\\xef\\xdf\\x81\\x08&\\xf4\\xb7\\xe2\\xcb\\x11\\xf2\\x0c\\x0f\\xe5\\xd0\\x1d\\x16\\xe9\\x97\\xd5\\xd61\\xe8\\x88\\xfe\\xa0\\xb1\\xc5\\x8b\\x16\\x0cVaB\\x8c\\xd4x\\xf1\\xdbKL\\xb2\\xd2\\t\\x08m\\t-\\x92\\x94\\xa4\\xba\\x88\\x88\\x88\\x88\\x88\\xba\\x88\\x86\\xbd\\xa6\\xd3\\n\\xb0\\xc3\\x1b\\xf7\\x99\\xa8\\xd0\\x959b\\x91\\xf5\\x00\\x01\\xa4m\\x00\\x00\\x00\\x00\\x00\\x00\\x00\\x00\\x00\\x00\\x00\\x00\\x00\\x00\\x00\\x00\\x00\\x00\\x00\\x00\\x00\\x00\\x00\\x00\\x00\\x00\\x00\\x00\\x00\\x00\\x00\\x00\\x00\\x01\\x8d\\xe5\\x1f\\xde\\x9f\\t\\xff\\x00L\\xd9\\x7f\\xde\\x91\\xaeX\\xf3\\xff\\x00s\\xe4\\xfb\\x94ls\\xdeE|\\xdb\\x97#6\\xb9^\\x13\\xe0\\xe3\"2>\\x1d\\xf6\\xdfc\\xdfa\\xfe}d}\\xd5\\xba\\x8f\\x1fU\\xe1\\xe5\\xd7\\x18}4[\\xacj<\\xbae\\xc24\\xbd\\xc0JR\\xf6s\\x8b\\xc3\\xdf\\x88\\x94\\x93.\\xa3\\xd8\\x01\\xfe\\x86\\x80\\x82\\xc1\\xa7d\\xd6\\x98\\x85M\\x96c\\x064+\\x99q\\x90\\xfc\\xb8\\xd1\\x89D\\x86\\x16\\xaf\\x08\\x9b\\xd9Fg\\xbaH\\xc8\\x8f\\xaf\\xdf\\x11\\xed\\xd4\\'@\\x00\\x00\\x00\\x00\\x00\\x00\\x00\\x00\\x00\\x00\\x00\\x00\\x00\\x00\\x00\\x00\\x00\\x00\\x00\\x00\\x00\\x00\\x00\\x00\\x00\\x00\\x00\\x00\\x00\\x00\\x00\\x00\\x00\\x00\\x00\\x00\\x00\\x00\\x01\\x15\\x90\\xe5\\x14X\\xacV\\xa5\\xde\\xcf(\\xe8}\\xc2e\\x94\\xa5\\xb5\\xba\\xe3\\xab2\\xdf\\x85\\r\\xa0\\x8dk=\\x88\\xcfb#\\xea-\\xc5c\\xa6\\xdc\\x03\\xe7d\\x7fem}\\x9cDj\\x92\\xd4z\\x81\\x8a2{\\x1a=\\xc8\\xb8wc\"=\\x94O@\"2\\xfd\\xc7\\xb2\\xd4_\\xf31\\x1e4\\xeaW\\x9cf\\xe3\\x1b\\xba?y\\x9d\\xfb\\x1f&Y\\xea\\xd0\\x8dZ\\x97\\xdf+\\xf74\\xba\\xda\\xc9\\xe4Y\\xfam\\xc0>vG\\xf6V\\xd7\\xd9\\xc3\\xa6\\xdc\\x03\\xe7d\\x7fem}\\x9c`\\x97\\x1a\\xa5\\xa9\\n\\xce\\xb2|O\\x07\\xd3\\x1a\\x8b\\xd8\\xd8\\xa3\\x10\\x9e\\x94\\xec\\x8c\\x95p\\xa5\\xc89\\r\\xa9\\xc2C\\x0c\\x9cE\\xb6\\xa3\"A\\x97\\x86\\xfa\\x08\\xcc\\xcb\\xac\\xbcc\\xd9E\\xdd\\x0b\\xa5\\x97\\xacW-\\xbb\\xc91]\\xb0\\xa1FJ\\xb6\\xa4\\xc0}%\\n\\x02\\x89\\xfe\\'e:\\x94\\x1bL\\x12\\x15\\x15\\xf4(\\xd6\\xb2$\\xad\\x04\\x9d\\xf7Z8\\xab\\xcf\\xd5\\xee\\xe1\\xfeL\\xbf\\xc3\\xac7\\xdd|\\xb8\\xaf\\xc4\\xdb\\xfam\\xc0>vG\\xf6V\\xd7\\xd9\\xc7=\\xe5\\xf8v\\x9ad}\\xd1\\xb5\\x1a\\x9cM^\\xfb\\x82\\xa6\\xf9\\xfd\\xab\\x07\\x8bY\\xf8s\\xd9\\xe1&\\x8b\\x87\\x9b\\xf5\\xa5~\\x02\\x95\\xd4e\\xfb%\\xef\\xd6\\xb2\\xdec\\xff\\x00\\xa8-\\'L\\x17\\'\\xbf\\x90N\\x8cM\\xc8\\x87\\x1b\\x9b\\xca\\xa4\\x9e\\xc4\\xa5\\xaeY\\xa91M\\x11\\xdcd\\x9eZ^R\\x16\\x96\\xd6\\x94\\x1aV\\xa4\\x9aH\\xcc\\xcba\\xeas[\\xb4\\xd9\\xba\\xc8\\xd6i\\xb7\\x9e\\xf1\\xcc\\x98\\xfd{P\\x98\\xa6\\x9c\\xf5\\x81\\xc8`\\xb7y\\xb5BC\\'%&\\x84\\xec\\xa5q6D\\x92RL\\xfa\\x94Fn~\\xb6K\\x83\\xd4\\x9f\\xe1\\xb6\\x0c\\xe5\\xe6\\x8f\\xe2l]6\\xe0\\x1f;#\\xfb+k\\xec\\xe1\\xd3n\\x01\\xf3\\xb2?\\xb2\\xb6\\xbe\\xce2N\\x99t\\xd0\\xea-/\\x9b\\xcaYz\\xbe\\x9b\\x1ck-\\x9b!\\x96\\x1dq\\r\\xd4\\xbaR\\r\\x12\\x08\\xd2\\x83\\xe3\\xdf\\x9aH\\xf0\\x13\\xba\\xcb\\x93\\xebIn\\x9d\\xfe\\xb8\\x1e\\xa6Rj\\r\\x9eS[O\\n\\xcd\\x93\\xc5m\\x8e\\xa6C\\xb2\\xe0>\\xc3o\\xb8M!f\\xa6\\x94\\xe2\\x12\\x95\\x96\\xeb2\\xf0L\\xfa\\x89*\\xf7\\xae \\xcd\\xcf\\xd5\\xee\\xe0\\xf5\\x0b\\x93,-\\xdc\\x9c\\xbc\\xcb\\xf15n\\x9bp\\x0f\\x9d\\x91\\xfd\\x95\\xb5\\xf6p\\xe9\\xb7\\x00\\xf9\\xd9\\x1f\\xd9[_g\\x1c\\xff\\x00\\xaa\\xba\\xdf+O\\xb3J\\xac.\\x0c\\\\-.\\xd9W;`r\\xf2\\x9c\\xb4\\xe8\\xd8#K\\xc8i\\x0c\\xb4e\\x15\\xf3u\\xc5\\x1a\\x94{x=H?\\x18\\xd5c-\\xf7#\\xb4\\xb9-\\xb6\\x87\\x94\\x84\\x9b\\x89m\\xc3Z\\x12\\xad\\xba\\xc9*2#Qo\\xe2=\\x8b\\x7f\\xdc^ u\\xea\\xae\\x9e\\x8e\\x1f\\xe4\\x95\\xc9\\x96)6\\x96.\\x8e\\xf5\\xf8\\x9aV5\\x9bcYi\\xbe\\xdd\\x1c\\xf7\\x1cz1%O1\"+\\xb1\\x9em*\\xf7\\xaa6\\x9eJVD{\\x1f^\\xdbu\\x19|\\x82td\\x18r\\xd4\\x8dZ\\xadm;\\x12]\\xc7m\\x14\\xbe\\xa2\\xddF\\x9908w?\\x1fW\\x1a\\xbf\\xeac_\\x1b4j:\\x91\\xbd\\x9c~P\\xb3B\\xcbW\\x0c/\\xb9\\xab\\xfa\\x7fk \\x00\\x03)\\xa2\\x00\\x00\\x00\\x00\\x00\\x00\\x00\\x00\\x00\\x00\\x00\\x00\\x00\\x00\\x00\\x00\\x00\\x00\\x00\\x00\\x00\\x00\\x00\\x00\\x00\\x00\\x00\\x00\\x00\\x00\\x19f\\xa8\\xa1g\\xa8X\\xab\\x84\\x93\\xe1*k\\x925m\\xd4Fo\\xd7l_\\xfc\\x1f\\xfd\\x04x\\xd0\\xf2\\xdc.\\xab/n\"\\xa6\\xc8\\x97\\x12T\\x05\\xa9\\xc8\\xb2\\xe2-)u\\xae\"\\xd9I\\xf0\\x92\\xa4\\xa9*\"-\\xd2\\xa4\\x99\\x1e\\xc4~2#\\x15~\\x86\\x1c\\xfa\\xd2\\xcb\\xfc\\xdd_\\xb1\\x8d*\\xb4f\\xe6\\xe4\\x96\\xf3\\xd1X\\xb9B\\xcf\\x0b<)\\xceW8\\xdf\\xd4\\xf3o\\xaa\\xfc\\xcc\\x16\\xcb\\x15\\xd6\\x9a\\x1dH\\xcc\\xb2|\\x02\\xb3\\x0b\\x95\\x0f+\\x8f\\\\\\xdb2\\xad\\xee%2\\xf4\\x17#\\xb2\\xb6\\xcdG\\x19\\xa8\\xabK\\xc5\\xba\\xf7\"\\xe5\\xdb\\xdfm\\xb7-\\xf7\\x101;\\x98\\x9f\\x89\\x8ed\\xd8R26\\x97_y\\xa70\\xb0\\xd4X-\\x06rNj\\x1e\\xb1q\\xf9N5\\xb7\\x0f\\x02\\xd55\\x0b\\xe1%\\x9e\\xe6KI\\xecDFz\\xa6\\xae\\xd2Zam\\xd5\\xe38v\\xa1e\\x16\\xb9\\x9eH\\xff\\x006\\xa8\\x80\\xf3u\\xa6\\xdaH\\xba\\xdc\\x90\\xf7\\x0c22i\\t\\xdc\\xcc\\xf7-\\xff\\x00\\xe4fW\\xc8\\x1a-f\\x881\\xd1i\\xab\\x19C\\xb3\\x12\\xd2JC\\x8cG\\xadm\\xb59\\xb7\\x84hJ\\xa2(\\xd2\\x93=\\xf6#Q\\x99\\x17\\xcab9\\xba\\xb9\\x19\\x1d\\xae\\xc6\\xdfL\\xf3\\xea}{\\xfa\\x8eO\\xd5lCSW\\x90\\xd0\\xea>F\\xc61\\x16\\xf1\\xfb\\xec^\\x9a\\xbe\\xbe\\x0c\\xd9\\x12\"/\\x9b\\xcd}\\xf5\\xb8\\xf3\\xcbe\\xb5\\xa3\\x94S\\xc4\\x92$\\xb6\\xbeL\\x92j\\xdd\\xc3=\\x8a\\xcdQ\\xa4:\\x9dC\\x96\\'U\\xe2#\\x17\\x95\\x93\\xcb\\xb3\\xb8\\x936\\x9d\\xdb)\\r\\xc0n<\\xe6`4\\x94\\xb5,\\xa3)f\\xe3eW\\x1dF\\xa3`\\x89\\\\\\xa3\\xa5\\xb2z\\x8ct\\x97C\\x0e}ie\\xfen\\xaf\\xd8\\xc3\\xa1\\x87>\\xb4\\xb2\\xff\\x007W\\xeca\\xcd\\xd5\\xc8\\x8d\\xaa\\xc7}\\xfc\\xe7\\xa3\\xd0\\xe4\\xcb\\x1e\\xe7\\x1dK\\xad\\xc2r<O\\x16\\xb4\\xc6f\\xbf\\x97\\xe9\\xf1\\xe26\\x12\\xa7\\xc8\\x91\\x191%\\x1b\\xd6/)\\xe6[CNq\\xb4\\xa5Y\\xb8\\x92J\\x94\\x93A6\\x93\\xf0\\xf74\\x8dsL\\xf0\\xec\\x93\\x0e\\xb9\\xcdJ\\xd8\\xab\\\\\\xad\\xbc\\xbaE\\xc5s\\xf1\\xe4\\xb8\\xa7\\xcf\\x8e+-:\\xdb\\xcd)\\xb4\\xa5\\x1c*`\\x8d*J\\xd7\\xc6K\\xeb$\\x1a|-_\\xa1\\x87>\\xb4\\xb2\\xff\\x007W\\xecc\\xf8z0\\xee\\xc7\\xb6\\xa9e\\xfb\\xff\\x00\\xf8\\xaa\\xfd\\x8cC\\xa7U\\xf5{\\x13\\x1b]\\x8e\\x0e\\xf5?G\\xa1\\x88\\xe6\\xb8\\xde\\xae_FR\\xa1c\\x9as5\\xeb*\\xa9\\xb5\\x13\\x9b\\xb1zAst8\\xe1\\xf2n!\\xe2\\x8e\\xb5>\\xd9\\xb7\\xc2nGR[#Yu9\\xb7X\\xbda8\\xe7y\\xd8m\\x0e#\\xcf\\xdd\\x9d\\xee\\x1ddZ\\xdet\\xe9xo\\xf2-%\\xbeQ^>\\xb5p\\xee}~3\\x11:}E\\x90\\xcc\\xcc\\xae\\xb4\\xbfQ\\xf5\\x1f!\\x83\\x93W\\x19\\xcb\\x80\\xe48\\xf5\\xcd\\xc6\\xb4\\xaeQ\\xf8\\x0f\\xb4K\\x8a\\xa3%\\'\\xc4\\xb4\\xf1\\x1e\\xc7\\xe2\\xdfc\\xdbK\\xe8a\\xcf\\xad,\\xbf\\xcd\\xd5\\xfb\\x18:57\\\\Z6\\xfb\"x\\xb1\\xf4\\xfe\\x8fB\\x1f\\x0fB\\xcfV\\xaa\\x9c$\\x9f\\tc\\x96\\xc4j\\xdb\\xa8\\x8c\\xe4\\xd7\\xec_\\xfc\\x1f\\xfd\\x06\\xc0*\\xf8\\x9e\\x9fU\\xe2\\x93\\x1e\\xb4++\\x1bK\\x17\\xd9LuK\\x9e\\xb6\\xcdih\\x8f~\\x04\\xa5\\xa4!\\t#2#=\\x92FfE\\xbf\\x88\\xb6\\xb4\\r\\x9a\\x10p\\x8d\\xcc\\xe3r\\x8d\\xa2\\x16\\x9a\\xaaT\\xf7%w\\xbb\\xfb\\x80\\x00\\x19\\x8d\\x00\\x00\\x00\\x00\\x00\\x00\\x00\\x00\\x00\\x00\\x00\\x00\\x00\\x00\\x00\\x00\\x00\\x00\\x00\\x00\\x00\\x00\\x00\\x00\\x00\\x00\\x00\\x00\\x00\\x00\\x00\\n\\xf6}\\x9c\\xd0\\xe9\\xc6)?/\\xc8\\xe4\\x1bp\\xe0\\xb7\\xc5\\xc0\\x9e\\xb5\\xbc\\xe1\\xf5!\\xa4\\x17\\xca\\xa5\\x1e\\xc4E\\xff\\x003\\xd8\\x88\\xccO<\\xf3Q\\xda\\\\\\x89\\x0e\\xa1\\xa6\\x9bI\\xadkZ\\x89)JH\\xb733?\\x11\\x11|\\xa3\\n\\xc6\\x19w\\xba\\x1b?kP\\xac\\x9a_G\\xf8\\x9c\\xa5#\\x1b\\x8a\\xe2L\\x93k9\\x07\\xb2\\xe7-\\'\\xe3B\\x0fro\\x7f\\x94\\xbeC\\xe2#\\x02\\xc1\\xa3\\x18E\\xeb\\xb3\\'k\\x0e\\xa3\\xc7\\xe1\\xcb\\xf2f\\xc8\\x9b\\x8a\\xae\\xb2\\xa8\\xaf\\xdfv\\xa2#\\x7f\\x11\\xed\\xb2\\x97\\xe23W\\x8f\\xac\\x8c\\xcfX\\x00\\x00\\x00\\x00\\x00\\x00\\x00\\x06w\\xac\\xbam37\\xa9\\x89y\\x8a\\xcaM~e\\x8d:s\\xa8gu\\x16\\xce\\x91xL,\\xfeV\\x9c\"\\xe1Q\\x1fW\\x88\\xcfr##\\xf7\\xe9.\\xa5\\xc3\\xd4\\xfcX\\xady\\xaa\\xab\\xed\\xa0\\xba\\xa87\\x15\\x8eu9\\x06b:\\x9cmD}{o\\xd6\\x93\\xf9K\\xf8\\x91\\x91]F%\\xaa\\xd4\\x96\\xba[\\x96\\x16\\xbe\\xe10\\x9c\\x91\\x1b\\x93D|\\xc6\\xad\\x82\\xfe\\xdb\\t=E-\\t\\xff\\x00\\x8a\\xc9u\\xef\\xf2\\xa4\\xbcd\\\\[\\x81\\xb6\\x80\\xf0\\xd1\\xdd\\xd5d\\x94\\xf0\\xef\\xe8\\xe6\\xb72\\x05\\x83)\\x91\\x1d\\xf6\\xcft\\xad\\n-\\xc8\\xff\\x00\\x87\\xf8\\x1fY\\x1fQ\\x8fp\\x00\\x00\\x00\\x00\\x00\\x00\\x00\\x00\\x00\\x00\\x00\\x00\\x00\\x00\\x00\\x00\\x00\\x00\\x00\\x00\\x00\\x00\\x00\\x00\\x00\\x00\\x00\\x00\\x00\\x00\\x00\\x08\\xeb,\\x86\\x8e\\x9em}u\\xad\\xach\\x92m]S\\x10[y\\xc2A\\xc8p\\x8bsB7\\xf1\\xabo\\x93\\xc6bDqG\\xfe \\x99\\n\\xd7\\x91a\\xd8\\xc3\\x0e\\x9aW\\x0e$\\x8b\\x05\\x12O\\xc2\\xdd\\xd7\\x12\\x84\\x1f\\xfc\\xb9\\x15\\xed\\xfe&\\x00\\xd9uF\\xe2\\xcbW\\xb3#\\xd0\\\\:c\\x8c\\xd5\\xc6$H\\xcd-\\x18V\\xdc\\x84c=\\xd3\\t\\n\\xff\\x00\\x88\\xee\\xde\\x17\\xee-\\xfcdK!\\xb3\\xd4\\xd4\\xd6\\xd0\\xd5\\xc4\\xa5\\xa7\\x86\\xd4H0YDx\\xec4[%\\xb6\\xd2[%%\\xfe\\x04C\\x9c;\\x8b\\xa2\\xea\\x9dM\\x04\\xf8yf\\n\\x984\\xf6\\x0f\\xae\\xc5\\xbbyj6\\xa7K}{o\\xca6\\xad\\xd6\\xe9\\x19ld\\xb3\\xe1\\xea\\xf9U\\xbfWM\\x00\\x00\\x00\\x00\\x00\\x00\\x00\\x00\\x00\\x00\\xfc\\xad\\x08u\\nm\\xc4%hY\\x1aT\\x95\\x16\\xe4d~22\\x1f\\xa0\\x00`\\x94n\\xb9\\xdc\\xe7\\xa8h\\xc3\\xa6\\xa9H\\xd3\\x9c\\xc6Z\\x95H\\xfa\\x8f\\xc0\\xa6\\xb1Y\\xee\\xa8\\x8a?\\xf6Zp\\xf74|\\x84\\x7f\\xfb\\xd46\\xa6r\\x1a9\\x17\\x921\\x96-c9k\\x11\\x84I~\\x1a\\x1c#u\\xa6\\x94{%JI{\\xd2?\\x93\\x7f\\x18\\xc8{\\xac\\xe1\\xea-\\xce\\x9aI\\xc7p\\x8c\\x0e6C\\x16q\\x7fOp\\xd5\\xcaH\\x8a\\x94\\x99)*e\\x8e\\xa3Z\\xf7\"\\xd9I32\\xd8\\xfc\\x13\\xdfr\\xe6\\xce\\xe2\\xbc\\x92\\xc6\\xbf_$\\xd7]?!S/k\\xa5\\xc5\\x7f\\x9d)F\\xea\\x9fA\\xa5\\xe35qu\\x9a\\xc8\\x9a^\\xfb\\xf5\\xf5\\x98\\x03\\xfd\\x02\\x00\\x00\\x00\\x00\\x00\\x00\\x00\\x00\\x00\\x00\\x00\\x00\\x00\\x00\\x00\\x00\\x14JWr+*h\\x16/\\xe5\\xd6IrTV\\x9eY!\\x88\\x84\\x92R\\x90F{n\\xcf\\x8b\\xac{9\\x0b\\xde\\xd8Zy\\x98\\x9f\\xa0<\\xf8\\xaf\\xc1z\\x7f\\xf2\\x11\\xff\\x00\\r\"PxJ5j\\xca\\x9c[\\xa9-\\xcb\\xfa\\xa5\\xa9\\xdc\\x9c \\xa4\\xd2\\x8a\\xe0\\xb4<|\\x85\\xefl-<\\xccO\\xd0\\x0eB\\xf7\\xb6\\x16\\x9ef\\'\\xe8\\x0f`\\x0c\\xb8\\xea\\xfdIy\\xa5\\xa9\\\\1\\xec\\xae\\x0bC\\xc7\\xc8^\\xf6\\xc2\\xd3\\xcc\\xc4\\xfd\\x00\\xe4/{ai\\xe6b~\\x80\\xf6\\x00c\\xab\\xf5%\\xe6\\x96\\xa3\\x0c{+\\x82\\xd0\\xf1\\xf2\\x17\\xbd\\xb0\\xb4\\xf31?@9\\x0b\\xde\\xd8Zy\\x98\\x9f\\xa0=\\x80\\x18\\xea\\xfdIy\\xa5\\xa8\\xc3\\x1e\\xca\\xe0\\xb4<|\\x85\\xefl-<\\xccO\\xd0\\x0eB\\xf7\\xb6\\x16\\x9ef\\'\\xe8\\x0f`\\x06:\\xbfR^ij0\\xc7\\xb2\\xb8-\\x0f\\x1f!{\\xdb\\x0bO3\\x13\\xf4\\x05rN\\x99\\xd3M\\xcb\\xd3\\x9e\\xcf\\x9f*]\\xf3L\"33$G\\x88\\xea\\x98m\\x06\\xa3I6Jd\\xd2\\x83\\xddJ>$\\x91\\x19\\xee}b\\xde\\x01\\xceU\\xfa\\x92\\xf3KQ\\x86=\\x95\\xc1hx\\xf9\\x0b\\xde\\xd8Zy\\x98\\x9f\\xa0\\x1c\\x85\\xefl-<\\xccO\\xd0\\x1e\\xc0\\x0cu~\\xa4\\xbc\\xd2\\xd4a\\x8fepZ\\x1e>B\\xf7\\xb6\\x16\\x9ef\\'\\xe8\\t\\xccbd\\x9b\\x0cn\\xa6\\xc2c\\x9c\\xa3\\xf2`\\xb0\\xf3\\xab\\xd8\\x8b\\x89jm&\\xa3\\xd8\\xba\\x8b\\xac\\xcf\\xc4#\\xc7\\xab\\x0c\\xf8\\x1fE\\xe4\\xc8\\xbf\\x84\\x91\\xd3\\xe4\\x99\\xcd\\xda\\x1ce&\\xd5\\xcf{o\\xadf\\xd9\\xabk\\x8cT\\x13I.\\x9c\\x912\\x00\\x03\\xd1\\x9c\\xf0\\x00\\x00\\n%+\\xb9\\x15\\x954\\x0b\\x17\\xf2\\xeb$\\xb9*+O,\\x90\\xc4BI)H#=\\xb7g\\xc5\\xd6=\\x9c\\x85\\xefl-<\\xccO\\xd0\\x1e|W\\xe0\\xbd?\\xf9\\x08\\xff\\x00\\x86\\x91(<%\\x1a\\xb5eN-\\xd4\\x96\\xe5\\xfdR\\xd4\\xeeN\\x10RiEpZ\\x1e>B\\xf7\\xb6\\x16\\x9ef\\'\\xe8\\n\\xe5\\x8e\\x99\\xd3Z\\xe5\\x15\\xf9\\xb4\\xb9\\xf2\\xbd\\xde\\xabY\\xae5\\x8bq\\xe26\\xf9n\\x83A\\xa5JK%\\xc6\\x9e\\x15(\\xb8U\\xb9u\\xf5\\x0bx\\x0c\\xbc\\xe5_\\xa9/4\\xb5+\\x86=\\x95\\xc1hx\\xf9\\x0b\\xde\\xd8Zy\\x98\\x9f\\xa0\\x1c\\x85\\xefl-<\\xccO\\xd0\\x1e\\xc0\\x0cu~\\xa4\\xbc\\xd2\\xd4a\\x8fepZ\\x1e>B\\xf7\\xb6\\x16\\x9ef\\'\\xe8\\x07!{\\xdb\\x0bO3\\x13\\xf4\\x07\\xb0\\x03\\x1d_\\xa9/4\\xb5\\x18c\\xd9\\\\\\x16\\x87\\x8f\\x90\\xbd\\xed\\x85\\xa7\\x99\\x89\\xfa\\x01\\xc8^\\xf6\\xc2\\xd3\\xcc\\xc4\\xfd\\x01\\xec\\x00\\xc7W\\xeaK\\xcd-F\\x18\\xf6W\\x05\\xa1\\xe3\\xe4/{ai\\xe6b~\\x80r\\x17\\xbd\\xb0\\xb4\\xf31?@{\\x001\\xd5\\xfa\\x92\\xf3KQ\\x86=\\x95\\xc1hx\\xf9\\x0b\\xde\\xd8Zy\\x98\\x9f\\xa0\\x1c\\x85\\xefl-<\\xccO\\xd0\\x1e\\xc0\\x0cu~\\xa4\\xbc\\xd2\\xd4a\\x8fepZ\\x1e>B\\xf7\\xb6\\x16\\x9ef\\'\\xe8\\x0ck\\xa5\\xfdD\\xed\\x0f\\xdd\\x18\\xf5\\x06\\xe29py\\xce_\\xb7Z\\xec\\xbc\\xdf3Zj\\xfb\\xef\\xfeyww\\x9b\\xf6\\x1a\\x14\\xaab\\xc7\\x04\\xf7u.\\xf3\\xa3\\xf1_\\x82\\xf4\\xff\\x00\\xe4#\\xfe\\x1aD\\xa0\\x8b\\xc5~\\x0b\\xd3\\xff\\x00\\x90\\x8f\\xf8i\\x12\\x83\\xb9C\\xe5G\\xf4^\\xc6\\x9c\\xfe&\\x00\\x00e*\\x00\\x06\\x07\\x88wHf\\xd68\\xbe+\\xa8\\xf9\\xae\\x94V\\xd4ayd\\xa8\\x90\\xd8\\xb2\\xab\\xc9Wa\"\\x02\\xe5\\xbeLFT\\xb8\\xeeD`\\x90\\xda\\x9d[h56\\xe3\\xbc&\\xb23.\\x125\\x15\\xe3\\tO\\xa5\\x15rKy\\xbe\\x00\\xa11\\xae\\x9a[&\\xeam\\x0b9#\\xa7\"\\x07=%\\xba\\xaa\\xe9I\\x8a\\xf2\\xe1\\xef\\xce\\x9bbI\\xb7\\xc8\\xc8u\\xae\\x15\\xf1\\xb6\\xd2\\xd6\\xb4\\xf0/r.\\x15m\\xe1\\x85\\xdd\\x1d\\xa3\\xb6\\x15\\x8f\\\\F\\xc9\\xe5\\xf3V\\xe1\\xc3\\x9e\\xd1\\xb9K=\\xb5\\xcd\\x8f-\\xd2f3\\x91\\x10\\xa6Ir\\xc9\\xc7T\\x84\\'\\x90\\'7R\\xd0^5\\x16\\xeeny1\\x89fi`3\\xd9Z\\xf9\\xa5\\xf0\\xea\\xa1Z\\xbdkl~\\xe8=&;\\x10[\\xc7\\xac\\\\\\xb1\\xe3\\x8f\\xb1\\xc8\\xe3\\x82\\x96\\x0eKd\\xd9)\\x06\\xb5-\\xb2$\\x92\\xd0fdJN\\xfe{\\xddf(\\x19v\\x9cTPcGu\\x8e\\xea\\x1c\\x9en\\xc6H\\xd5\\x83I\\x8a\\xdf\\x1d|\\xc9\\xac\\x9bH\"R\\xdf\\xe2n\\x12\\xb7\\xf7\\x89$\\xba\\xd9\\x92\\x94fi\\'7,\\x86$i@\\x00(X\\x00\\x00\\x00=Xg\\xc0\\xfa/&E\\xfc$\\x8f(\\xf5a\\x9f\\x03\\xe8\\xbc\\x99\\x17\\xf0\\x92:|\\x91\\xfe\\xe5\\xff\\x00\\xe2\\xfd\\xd1\\xabk\\xf9~:\\x93 \\x00=)\\xce\\x00\\x00\\x00\\xa4b\\xbf\\x05\\xe9\\xff\\x00\\xc8G\\xfc4\\x89A\\x17\\x8a\\xfc\\x17\\xa7\\xff\\x00!\\x1f\\xf0\\xd2%\\x07\\x82\\xa1\\xf2\\xa3\\xfa/c\\xbb?\\x89\\x80\\x00\\x19J\\x80\\x01\\x81\\xe2\\x1d\\xd2\\x19\\xb5\\x8e/\\x8a\\xea>k\\xa5\\x15\\xb5\\x18^Y*$6,\\xaa\\xf2U\\xd8H\\x80\\xb9o\\x93\\x11\\x95.;\\x91\\x18$6\\xa7V\\xda\\rM\\xb8\\xef\\t\\xac\\x8c\\xcb\\x84\\x8dEx\\xc2S\\xe9E\\\\\\x92\\xdeo\\x80(Lk\\xa6\\x96\\xc9\\xba\\x9bB\\xceH\\xe9\\xc8\\x81\\xcfIn\\xaa\\xbaRb\\xbc\\xb8{\\xf3\\xa6\\xd8\\x92m\\xf22\\x1dk\\x85|m\\xb4\\xb5\\xad<\\x0b\\xdc\\x8b\\x85[xawGh\\xed\\x85c\\xd7\\x11\\xb2y|\\xd5\\xb8p\\xe7\\xb4nR\\xcfmsc\\xcbt\\x99\\x8c\\xe4D)\\x92\\\\\\xb2q\\xd5!\\t\\xe4\\t\\xcd\\xd4\\xb4\\x17\\x8dE\\xbb\\x9b\\x9eLbY\\x9aX\\x0c\\xf6V\\xbei|:\\xa8V\\xafZ\\xdb\\x1f\\xba\\x0fI\\x8e\\xc4\\x16\\xf1\\xeb\\x17,x\\xe3\\xecr8\\xe0\\xa5\\x83\\x92\\xd96JA\\xadKl\\x89$\\xb4\\x19\\x99\\x12\\x93\\xbc\\x1e\\xa2k\\xad\\xce#N\\xe6s\\x8c`ldx4\\x1a\\x88\\xb7\\x93/\\x93t\\x96\\nLg\\xd4|)\\xafh\\x9as\\x9d\\xbaH$\\xac\\xd2\\xa5\\xb2\\x93\\'\\x1b$\\xa9JV\\xc4T\\xa6\\xdd\\xd7\\x07$\\x8dx\\x00\\x05\\x0b\\x00\\x00\\x00\\x07.\\x0e\\xa3\\x1c\\xb8<\\xa7\\xfa\\x9f\\xfb_\\xfb}\\x8e\\x97\\'\\x7fW\\x87\\xdc\\xe8\\xfcW\\xe0\\xbd?\\xf9\\x08\\xff\\x00\\x86\\x91(\"\\xf1_\\x82\\xf4\\xff\\x00\\xe4#\\xfe\\x1aD\\xa0\\xf4\\xd4>T\\x7fE\\xecs\\xe7\\xf10\\x00\\x03)P9\\xaf\\x0f\\xd1=l\\x7fN\\xb0\\xdd\\x15\\xceZ\\xc2\\xab1<f]|\\xab\\x19\\xd57\\x12\\xe7\\xcd\\xb6D)H\\x94\\xcb)i\\xc8\\x8c\"2V\\xebMq\\xab\\x94t\\xf8\\tI\"\\xf0\\xb8\\x8b\\xa5\\x00^3p\\xdcU\\xc53\\x991\\xee\\xe5\\x9b\\xeaI\\x8e\\xd6<\\xd4\\x19\\xb5\\xf5\\xd2o\\xa7SY\\xca\\xccn\\x9eR\\x1d\\x9e\\xdc\\xb46ET\\xa3\\xe6Q\\x94\\x84Mq\\xb5\\xba\\x93s\\x89<fM\\xa5Nx2\\xb6\\xfd\\xcf\\xb9t\\x9a\\xfcu\\x83\\x81\\x88]\\xb7M\\x81\\xc0\\xc5\\xe4\\xd7Y\\xca\\x94\\xcb2e1.+\\xc6\\xa6\\xdei\\xbe66(\\xeaSo\\x92Mm\\xb8M\\xab\\x93=\\xba\\xba\\x18\\x05\\xf9\\xf9\\xb7y\\x1c\\xda\\xdcr\\xfa\\xfb\\x9b\\xb5IR(r\\x99\\xd7^\\xea\\xd9\\xd3\\x15\\xcc\\x06*\\x17\\xa8W\\x90\\xb9\\xa5t\\xd5\\xc3q\\xb6\\x8a\\xe5\\x86\\xcad\\xa3i\\xc8f{<\\xd6\\xca\\'\\xf63#e\\n;\\x0eA\\xa5\\x9a\\xb3I\\x17I(\\xb4\\xd3\\x0f\\xc1\\x1e\\xa9\\xd3YMZ8\\x99\\xf9U\\x843y\\xff\\x00s\\'A\\\\f\\x92\\xa8R\\xd6M\\x17=K\\x89u\\xc7\\x96\\xb3\\xe04\\x1aK\\xdf\\x8d\\xfc\\x01\\xd7\\x93\\xde0%\\xb8\\xfe\\'\\x88\\xd2F\\xb2\"V\\xdddG\\xb9\\x11\\x8f\\xe8\\x00\\xc2\\\\\\x00\\x00\\x00=Xg\\xc0\\xfa/&E\\xfc$\\x8f(\\xf5a\\x9f\\x03\\xe8\\xbc\\x99\\x17\\xf0\\x92:|\\x91\\xfe\\xe5\\xff\\x00\\xe2\\xfd\\xd1\\xabk\\xf9~:\\x93 \\x00=)\\xce\\x00\\x00\\x00\\xa4b\\xbf\\x05\\xe9\\xff\\x00\\xc8G\\xfc4\\x89A\\x17\\x8a\\xfc\\x17\\xa7\\xff\\x00!\\x1f\\xf0\\xd2%\\x07\\x82\\xa1\\xf2\\xa3\\xfa/c\\xbb?\\x89\\x80\\x00\\x19J\\x81\\xcdx~\\x89\\xebc\\xfau\\x86\\xe8\\xaer\\xd6\\x15Y\\x89\\xe32\\xeb\\xe5X\\xce\\xa9\\xb8\\x97>m\\xb2!JD\\xa6YKNDa\\x11\\x92\\xb7Zk\\x8d\\\\\\xa3\\xa7\\xc0JI\\x17\\x85\\xc4](\\x02\\xf1\\x9b\\x86\\xe2\\xae)\\x9c\\xc9\\x8fw,\\xdfRLv\\xb1\\xe6\\xa0\\xcd\\xaf\\xae\\x93}:\\x9a\\xceVct\\xf2\\x90\\xec\\xf6\\xe5\\xa1\\xb2*\\xa5\\x1f2\\x8c\\xa4\"k\\x8d\\xad\\xd4\\x9b\\x9cI\\xe32m*s\\xc1\\x95\\xb7\\xee}\\xcb\\xa4\\xd7\\xe3\\xac\\x1c\\x0cB\\xed\\xbal\\x0e\\x06/&\\xba\\xceT\\xa6Y\\x93)\\x89q^56\\xf3M\\xf1\\xb1\\xb1GR\\x9b|\\x92km\\xc2m\\\\\\x99\\xed\\xd5\\xd0\\xc0/\\xcf\\xcd\\xbb\\xc8\\xe6\\xd6\\xe3\\x97\\xd7\\xdc\\xdd\\xaaJ\\x91C\\x94\\xce\\xba\\xf7V\\xce\\x98\\xae`1P\\xbdB\\xbc\\x85\\xcd+\\xa6\\xae\\x1b\\x8d\\xb4W,6S%\\x1bNC3\\xd9\\xe6\\xb6Q?\\xb1\\x99\\x1b(Q\\xcb\\xca\\xd2-Z\\xa5\\x99\\x87Q\\xd0a\\x98\\x1d\\xe6\\x17\\x85\\xd4BMu$\\xdc\\xba\\xc6\\xbd\\x94[\\xb6fk\\x92\\xe2U\\x06b\\xe4!\\xbd\\x9b\\xe6\\xe4\\xe3\\xa7\\xc0\\xa2S\\x8a%/\\x93S}\\x12\\x01\\xcf\\xc9\\xef\\x1c\\xda?\\x89\\xe2\\xe1.\"\"=\\xba\\xc8\\x8fr\\xdc\\x7f@\\x06\\x12\\xe0\\x00\\x00\\x01\\xcb\\x83\\xa8\\xc7.\\x0f)\\xfe\\xa7\\xfe\\xd7\\xfe\\xdfc\\xa5\\xc9\\xdf\\xd5\\xe1\\xf7:?\\x15\\xf8/O\\xfeB?\\xe1\\xa4J\\n>?\\xa8\\x98t\\x1a\\x1a\\xd8R\\xae8\\x1e\\x8f\\x11\\x96\\x9cO7t\\xf8T\\x94\\x11\\x19nI\\xd8\\xfa\\xc8{\\xfaN\\xc1\\xfe\\x9b\\xfb\\xb3\\xde\\xa0\\xeeP\\xb7YU(\\xa7R;\\x97Z\\xd4\\xd3\\x9d\\x1a\\x8eO\\xf9_\\x02\\xd2\\x02\\xad\\xd2v\\x0f\\xf4\\xdf\\xdd\\x9e\\xf5\\x03\\xa4\\xec\\x1f\\xe9\\xbf\\xbb=\\xea\\x0c\\x9b}\\x97\\xea\\xc7\\xcc\\xb5+\\xcc\\xd5\\xec\\xbe\\x05\\xa4\\x05[\\xa4\\xec\\x1f\\xe9\\xbf\\xbb=\\xea\\x07I\\xd8?\\xd3\\x7fv{\\xd4\\r\\xbe\\xcb\\xf5c\\xe6Z\\x8ef\\xafe\\xf0- *\\xdd\\'`\\xff\\x00M\\xfd\\xd9\\xefP:N\\xc1\\xfe\\x9b\\xfb\\xb3\\xde\\xa0m\\xf6_\\xab\\x1f2\\xd4s5{/\\x81i\\x01V\\xe9;\\x07\\xfao\\xee\\xcfz\\x81\\xd2v\\x0f\\xf4\\xdf\\xdd\\x9e\\xf5\\x03o\\xb2\\xfdX\\xf9\\x96\\xa3\\x99\\xab\\xd9|\\x0bH\\n\\xb7I\\xd8?\\xd3\\x7fv{\\xd4\\x0e\\x93\\xb0\\x7f\\xa6\\xfe\\xec\\xf7\\xa8\\x1b}\\x97\\xea\\xc7\\xcc\\xb5\\x1c\\xcd^\\xcb\\xe0Z@U\\xbaN\\xc1\\xfe\\x9b\\xfb\\xb3\\xde\\xa0t\\x9d\\x83\\xfd7\\xf7g\\xbd@\\xdb\\xec\\xbfV>e\\xa8\\xe6j\\xf6_\\x02\\xd2=Xg\\xc0\\xfa/&E\\xfc$\\x8agI\\xd8?\\xd3\\x7fv{\\xd4\\x17<3\\xe0}\\x17\\x93\"\\xfe\\x12Gg\\x90\\xeb\\xd2\\xafi|\\xd4\\x94\\xae\\x8b\\xdc\\xd3\\xebF\\xa5\\xb6\\x12\\x855\\x89]\\xd3\\xa92\\x00\\x03\\xd5\\x1c\\xb0\\x00\\x00\\nF+\\xf0^\\x9f\\xfc\\x84\\x7f\\xc3H\\x94\\x14|\\x7fQ0\\xe845\\xb0\\xa5\\\\p=\\x1e#-8\\x9en\\xe9\\xf0\\xa9(\"2\\xdc\\x93\\xb1\\xf5\\x90\\xf7\\xf4\\x9d\\x83\\xfd7\\xf7g\\xbdA\\xf3\\x8a\\x16\\xeb*\\xa5\\x14\\xeaGr\\xebZ\\x9e\\x86tj9?\\xe5|\\x0bH\\n\\xb7I\\xd8?\\xd3\\x7fv{\\xd4\\x0e\\x93\\xb0\\x7f\\xa6\\xfe\\xec\\xf7\\xa82m\\xf6_\\xab\\x1f2\\xd4\\xaf3W\\xb2\\xf8\\x16\\x90\\x15n\\x93\\xb0\\x7f\\xa6\\xfe\\xec\\xf7\\xa8\\x1d\\'`\\xff\\x00M\\xfd\\xd9\\xefP6\\xfb/\\xd5\\x8f\\x99j9\\x9a\\xbd\\x97\\xc0\\xb4\\x80\\xabt\\x9d\\x83\\xfd7\\xf7g\\xbd@\\xe9;\\x07\\xfao\\xee\\xcfz\\x81\\xb7\\xd9~\\xac|\\xcbQ\\xcc\\xd5\\xec\\xbe\\x05\\xa4\\x05[\\xa4\\xec\\x1f\\xe9\\xbf\\xbb=\\xea\\x07I\\xd8?\\xd3\\x7fv{\\xd4\\r\\xbe\\xcb\\xf5c\\xe6Z\\x8ef\\xafe\\xf0- *\\xdd\\'`\\xff\\x00M\\xfd\\xd9\\xefP:N\\xc1\\xfe\\x9b\\xfb\\xb3\\xde\\xa0m\\xf6_\\xab\\x1f2\\xd4s5{/\\x81i\\x01V\\xe9;\\x07\\xfao\\xee\\xcfz\\x81\\xd2v\\x0f\\xf4\\xdf\\xdd\\x9e\\xf5\\x03o\\xb2\\xfdX\\xf9\\x96\\xa3\\x99\\xab\\xd9|\\x0bH\\xe5\\xc1\\xbdt\\x9d\\x83\\xfd7\\xf7g\\xbdA\\x82\\x8f5\\xfe\\xa2\\xafJ\\xbf7\\xcdIJ\\xeb\\xf74\\xf2:6\\x08J\\x18\\xb1+\\xb7}\\xcf\\xff\\xd9'}"
            ]
          },
          "metadata": {
            "tags": []
          },
          "execution_count": 102
        }
      ]
    },
    {
      "cell_type": "code",
      "metadata": {
        "id": "p3gO0y5xVrCS",
        "colab_type": "code",
        "outputId": "4a393e71-b4dd-442e-c947-a79cee815d1d",
        "colab": {
          "base_uri": "https://localhost:8080/",
          "height": 528
        }
      },
      "source": [
        "from IPython.display import Image, display\n",
        "display(Image(\"red3 (1).jpg\"))"
      ],
      "execution_count": 0,
      "outputs": [
        {
          "output_type": "display_data",
          "data": {
            "image/jpeg": "[encoded data removed]",
            "text/plain": [
              "<IPython.core.display.Image object>"
            ]
          },
          "metadata": {
            "tags": []
          }
        }
      ]
    },
    {
      "cell_type": "code",
      "metadata": {
        "id": "WEOj_WJEVx0M",
        "colab_type": "code",
        "colab": {}
      },
      "source": [
        ""
      ],
      "execution_count": 0,
      "outputs": []
    },
    {
      "cell_type": "markdown",
      "metadata": {
        "id": "h1WKhh6hX4Xc",
        "colab_type": "text"
      },
      "source": [
        "**Actividad 8**"
      ]
    },
    {
      "cell_type": "markdown",
      "metadata": {
        "id": "deyRyjT6YNp3",
        "colab_type": "text"
      },
      "source": [
        "Por completitud se incluye todo el código y pruebas realizadas para la parte del dataset SQuAD. Este modelo no se pudo probar más allá de lo presentado a continuación, no quisimos entregar esta sección vacia puesto que no reflejaría las horas de esfuerzo puestas en esta actividad y la siguiente.\n",
        "\n",
        "Se modeló según el link incluido anteriormente y además se logró entrenar en un par de épocas el modelo descrito, sin embargo, no se logró probar el resultado dado por lo obtenido.\n",
        "\n",
        "Además notar que la implementación de keras en la seccion \"modelo embedding\" corresponde a la imagen incluida anteriormente."
      ]
    },
    {
      "cell_type": "code",
      "metadata": {
        "id": "4pml6w95X7Zx",
        "colab_type": "code",
        "colab": {}
      },
      "source": [
        ""
      ],
      "execution_count": 0,
      "outputs": []
    },
    {
      "cell_type": "code",
      "metadata": {
        "id": "_AHv1lZJ5qdM",
        "colab_type": "code",
        "colab": {}
      },
      "source": [
        "import json\n",
        "import numpy as np\n",
        "import string\n",
        "import re\n",
        "import h5py"
      ],
      "execution_count": 0,
      "outputs": []
    },
    {
      "cell_type": "code",
      "metadata": {
        "id": "SWnrjvgQ67BW",
        "colab_type": "code",
        "colab": {}
      },
      "source": [
        "%%capture ;\n",
        "!  wget --output-document='train-v1.1.json' 'https://rajpurkar.github.io/SQuAD-explorer/dataset/train-v1.1.json'"
      ],
      "execution_count": 0,
      "outputs": []
    },
    {
      "cell_type": "code",
      "metadata": {
        "id": "0nCdVyyL6jw6",
        "colab_type": "code",
        "colab": {}
      },
      "source": [
        "with open('train-v1.1.json') as json_data:\n",
        "    d = json.load(json_data)"
      ],
      "execution_count": 0,
      "outputs": []
    },
    {
      "cell_type": "code",
      "metadata": {
        "id": "jRbLhABe6kN0",
        "colab_type": "code",
        "colab": {}
      },
      "source": [
        "dataset = d['data']"
      ],
      "execution_count": 0,
      "outputs": []
    },
    {
      "cell_type": "code",
      "metadata": {
        "id": "Xf0tdeMx7NBn",
        "colab_type": "code",
        "colab": {}
      },
      "source": [
        "def normalize_answer(s):\n",
        "    \"\"\"Lower text and remove punctuation, articles and extra whitespace.\"\"\"\n",
        "    def remove_articles(text):\n",
        "        return re.sub(r'\\b(a|an|the)\\b', ' ', text)\n",
        "\n",
        "    def white_space_fix(text):\n",
        "        return ' '.join(text.split())\n",
        "\n",
        "    def remove_punc(text):\n",
        "        exclude = set(string.punctuation)\n",
        "        return ''.join(ch for ch in text if ch not in exclude)\n",
        "\n",
        "    def lower(text):\n",
        "        return text.lower()\n",
        "\n",
        "    return white_space_fix(remove_articles(remove_punc(lower(s))))"
      ],
      "execution_count": 0,
      "outputs": []
    },
    {
      "cell_type": "code",
      "metadata": {
        "id": "9mfbdp6H7SOC",
        "colab_type": "code",
        "colab": {}
      },
      "source": [
        "# stores word to index\n",
        "word_dict = {}\n",
        "#stores index to word\n",
        "ind_dict = {}\n",
        "\n",
        "index = 1"
      ],
      "execution_count": 0,
      "outputs": []
    },
    {
      "cell_type": "code",
      "metadata": {
        "id": "rV9ykSpQ7UHw",
        "colab_type": "code",
        "colab": {}
      },
      "source": [
        "def modify(cont):\n",
        "    global index\n",
        "    temp_list = []\n",
        "    temp_str = \"\"\n",
        "    for i in range(len(cont)):\n",
        "        if cont[i] == '\"' or cont[i] == '/' or cont[i] == ';' or cont[i] == ',':\n",
        "            continue\n",
        "                        \n",
        "        if cont[i] == '?' or cont[i] == ' ' or cont[i] == '.':\n",
        "            if cont[i] == ',' or cont[i] == '.' or cont[i] == '?':\n",
        "                i += 1\n",
        "                            \n",
        "            word = temp_str.lower()\n",
        "            temp_str = \"\"\n",
        "            temp_index = 0\n",
        "                        \n",
        "            if word not in word_dict:\n",
        "                word_dict[word] = index\n",
        "                ind_dict[index] = word\n",
        "                temp_index = index\n",
        "                index += 1\n",
        "            else:\n",
        "                temp_index = word_dict[word]\n",
        "                            \n",
        "            temp_list.append(temp_index)\n",
        "        else:\n",
        "            temp_str += cont[i]\n",
        "    return temp_list"
      ],
      "execution_count": 0,
      "outputs": []
    },
    {
      "cell_type": "code",
      "metadata": {
        "id": "CKjQadt07WFT",
        "colab_type": "code",
        "colab": {}
      },
      "source": [
        "context_list = []\n",
        "question_list = []\n",
        "answer_list = []\n",
        "answer_begin = []\n",
        "answer_end = []\n",
        "id_list = []\n",
        "\n",
        "for article in dataset:\n",
        "    for paragraph in article['paragraphs']:\n",
        "        for qa in paragraph['qas']:\n",
        "            id_list.append(qa['id'])\n",
        "            for ans in qa['answers']:\n",
        "                # append both context and questions many times for more than one question/answer\n",
        "                ques = qa['question']\n",
        "                if len(modify(ques)) < 50:\n",
        "                    question_list.append(modify(ques))\n",
        "                    cont = paragraph['context']\n",
        "                    context_list.append(modify(cont))\n",
        "                \n",
        "                    an = ans['text']\n",
        "                    answer_list.append(modify(an))\n",
        "                \n",
        "                    answer_begin.append(ans['answer_start'])\n",
        "                    answer_end.append(ans['answer_start']+len(ans['text']))"
      ],
      "execution_count": 0,
      "outputs": []
    },
    {
      "cell_type": "code",
      "metadata": {
        "id": "myWBTs7-7ZDm",
        "colab_type": "code",
        "colab": {}
      },
      "source": [
        "context_array = np.zeros((len(context_list), 700), dtype=np.int)\n",
        "question_array = np.zeros((len(question_list), 50), dtype=np.int)\n",
        "answer_array = np.zeros((len(answer_list), 50), dtype=np.int)\n",
        "begin_array = np.zeros((len(answer_begin), ), dtype=np.int)\n",
        "end_array = np.zeros((len(answer_end), ), dtype=np.int)\n",
        "\n",
        "for i in range(len(context_list)):\n",
        "    for j in range(len(context_list[i])):\n",
        "        context_array[i][j] = context_list[i][j]\n",
        "        \n",
        "for i in range(len(question_list)):\n",
        "    for j in range(len(question_list[i])):\n",
        "        question_array[i][j] = question_list[i][j]\n",
        "        \n",
        "        \n",
        "for i in range(len(answer_list)):\n",
        "    for j in range(len(answer_list[i])):\n",
        "        answer_array[i][j] = answer_list[i][j]\n",
        "            \n",
        "for i in range(len(answer_begin)):\n",
        "    begin_array[i] = answer_begin[i]\n",
        "    \n",
        "for i in range(len(answer_end)):\n",
        "    end_array[i] = answer_end[i]\n"
      ],
      "execution_count": 0,
      "outputs": []
    },
    {
      "cell_type": "code",
      "metadata": {
        "id": "qUi5kgVx7kQQ",
        "colab_type": "code",
        "colab": {}
      },
      "source": [
        "with h5py.File('context.h5', 'w') as hf:\n",
        "    hf.create_dataset('context', data=context_array)\n",
        "with h5py.File('questions.h5', 'w') as hf:\n",
        "    hf.create_dataset('questions', data=question_array)\n",
        "with h5py.File('answers.h5', 'w') as hf:\n",
        "    hf.create_dataset('answers', data=answer_array)\n",
        "with h5py.File('begin.h5', 'w') as hf:\n",
        "    hf.create_dataset('begin', data=begin_array)\n",
        "with h5py.File('end.h5', 'w') as hf:\n",
        "    hf.create_dataset('end', data=end_array)"
      ],
      "execution_count": 0,
      "outputs": []
    },
    {
      "cell_type": "code",
      "metadata": {
        "id": "eSJs0h-l7nyz",
        "colab_type": "code",
        "colab": {}
      },
      "source": [
        "np.save('word_to_indx.npy', word_dict)\n",
        "np.save('indx_to_word', ind_dict)"
      ],
      "execution_count": 0,
      "outputs": []
    },
    {
      "cell_type": "code",
      "metadata": {
        "id": "MmXQiZMb7pmf",
        "colab_type": "code",
        "colab": {}
      },
      "source": [
        "word_dict = np.load('word_to_indx.npy').item()\n",
        "ind_dict = np.load('indx_to_word.npy').item()"
      ],
      "execution_count": 0,
      "outputs": []
    },
    {
      "cell_type": "markdown",
      "metadata": {
        "id": "0cvhIzpu7uXv",
        "colab_type": "text"
      },
      "source": [
        "Model chars"
      ]
    },
    {
      "cell_type": "code",
      "metadata": {
        "id": "a3mfL63D7vYh",
        "colab_type": "code",
        "colab": {}
      },
      "source": [
        "from keras.models import Sequential, Model\n",
        "from keras.layers import Dense, Dropout, Flatten, Input, MaxPooling1D\n",
        "from keras.layers import Convolution1D, Embedding\n",
        "from keras.layers.merge import Concatenate\n",
        "\n",
        "import json\n",
        "import numpy as np\n",
        "import string\n",
        "import re\n",
        "import h5py"
      ],
      "execution_count": 0,
      "outputs": []
    },
    {
      "cell_type": "code",
      "metadata": {
        "id": "JX4keIg-7yKH",
        "colab_type": "code",
        "colab": {}
      },
      "source": [
        "with open('train-v1.1.json') as json_data:\n",
        "    d = json.load(json_data)"
      ],
      "execution_count": 0,
      "outputs": []
    },
    {
      "cell_type": "code",
      "metadata": {
        "id": "c9l3aOqX8zgY",
        "colab_type": "code",
        "colab": {}
      },
      "source": [
        "dataset = d['data']"
      ],
      "execution_count": 0,
      "outputs": []
    },
    {
      "cell_type": "code",
      "metadata": {
        "id": "GwJK5DiL81Bs",
        "colab_type": "code",
        "colab": {}
      },
      "source": [
        "def normalize_answer(s):\n",
        "    \"\"\"Lower text and remove punctuation, articles and extra whitespace.\"\"\"\n",
        "    def remove_articles(text):\n",
        "        return re.sub(r'\\b(a|an|the)\\b', ' ', text)\n",
        "\n",
        "    def white_space_fix(text):\n",
        "        return ' '.join(text.split())\n",
        "\n",
        "    def remove_punc(text):\n",
        "        exclude = set(string.punctuation)\n",
        "        return ''.join(ch for ch in text if ch not in exclude)\n",
        "\n",
        "    def lower(text):\n",
        "        return text.lower()\n",
        "\n",
        "    return white_space_fix(remove_articles(remove_punc(lower(s))))"
      ],
      "execution_count": 0,
      "outputs": []
    },
    {
      "cell_type": "code",
      "metadata": {
        "id": "8RWfyblJ84Zn",
        "colab_type": "code",
        "colab": {}
      },
      "source": [
        "char_dict = {' ':0, 'a':1, 'b':2, 'c':3, 'd':4, 'e':5,'f':6,'g':7,'h':8,'i':9,'j':10,'k':11,'l':12,\n",
        "            'm':13,'n':14,'o':15,'p':16,'q':17,'r':18,'s':19,'t':20,'u':21,'v':22,'w':23,'x':24,'y':25,'z':26,\n",
        "            '0':27,'1':28,'2':29,'3':30,'4':31,'5':32,'6':33,'7':34,'8':35,'9':36}"
      ],
      "execution_count": 0,
      "outputs": []
    },
    {
      "cell_type": "code",
      "metadata": {
        "id": "0lSHjf6M8536",
        "colab_type": "code",
        "colab": {}
      },
      "source": [
        "context_list = []\n",
        "question_list = []\n",
        "\n",
        "for article in dataset:\n",
        "    for paragraph in article['paragraphs']:\n",
        "        for qa in paragraph['qas']:\n",
        "            for ans in qa['answers']:\n",
        "                # append both context and questions many times for more than one question/answer\n",
        "                \n",
        "                cont = normalize_answer(paragraph['context'])[:1000]\n",
        "                temp = []\n",
        "                for ch in cont:\n",
        "                    try:\n",
        "                        temp.append(char_dict[ch])\n",
        "                    except KeyError:\n",
        "                        continue\n",
        "                context_list.append(temp)\n",
        "                \n",
        "                ques = normalize_answer(qa['question'])[:50]\n",
        "                temp = []\n",
        "                for ch in ques:\n",
        "                    try:\n",
        "                        temp.append(char_dict[ch])\n",
        "                    except KeyError:\n",
        "                        continue\n",
        "                    question_list.append(temp)"
      ],
      "execution_count": 0,
      "outputs": []
    },
    {
      "cell_type": "code",
      "metadata": {
        "id": "LG2W8Z6E87iM",
        "colab_type": "code",
        "colab": {}
      },
      "source": [
        "context_array = np.zeros((len(context_list), 1000), dtype=np.int)\n",
        "question_array = np.zeros((len(question_list), 50), dtype=np.int)\n",
        "\n",
        "for i in range(len(context_list)):\n",
        "    for j in range(len(context_list[i])):\n",
        "        context_array[i][j] = context_list[i][j]\n",
        "        \n",
        "for i in range(len(question_list)):\n",
        "    for j in range(len(question_list[i])):\n",
        "        question_array[i][j] = question_list[i][j]"
      ],
      "execution_count": 0,
      "outputs": []
    },
    {
      "cell_type": "code",
      "metadata": {
        "id": "9y-inaH589iZ",
        "colab_type": "code",
        "colab": {}
      },
      "source": [
        "embedding_dim = 50\n",
        "filter_size = 3\n",
        "num_filters = 10\n",
        "dropout = 0.5\n",
        "hidden_dims = 50\n",
        "vocab = 27"
      ],
      "execution_count": 0,
      "outputs": []
    },
    {
      "cell_type": "code",
      "metadata": {
        "id": "yyFrdxtZ8_Fy",
        "colab_type": "code",
        "colab": {}
      },
      "source": [
        "model = Sequential()\n",
        "model.add(Embedding(27, embedding_dim, input_length=5000))\n",
        "model.add(Convolution1D(filters=num_filters, kernel_size=filter_size,\n",
        "                       activation='relu', strides=1))\n",
        "model.add(MaxPooling1D(pool_size=2))\n",
        "model.add(Flatten())\n",
        "model.add(Dropout(dropout))\n",
        "model.add(Dense(1024))"
      ],
      "execution_count": 0,
      "outputs": []
    },
    {
      "cell_type": "code",
      "metadata": {
        "id": "DtZ25wlT9iru",
        "colab_type": "code",
        "colab": {}
      },
      "source": [
        "# from google.colab import files\n",
        "# uploaded = files.upload()\n",
        "%%capture ;\n",
        "!  wget --output-document='glove.6B.zip' 'http://nlp.stanford.edu/data/glove.6B.zip'"
      ],
      "execution_count": 0,
      "outputs": []
    },
    {
      "cell_type": "code",
      "metadata": {
        "id": "CC_kTWvYFno-",
        "colab_type": "code",
        "colab": {}
      },
      "source": [
        "import zipfile"
      ],
      "execution_count": 0,
      "outputs": []
    },
    {
      "cell_type": "code",
      "metadata": {
        "id": "YwdNgyMmFqh6",
        "colab_type": "code",
        "colab": {}
      },
      "source": [
        "zip_ref = zipfile.ZipFile('glove.6B.zip', 'r')\n",
        "zip_ref.extractall()\n",
        "zip_ref.close()"
      ],
      "execution_count": 0,
      "outputs": []
    },
    {
      "cell_type": "code",
      "metadata": {
        "id": "sZeGULLR9Abn",
        "colab_type": "code",
        "colab": {}
      },
      "source": [
        "f = open('glove.6B.50d.txt')\n",
        "import numpy as np\n",
        "\n",
        "embeddings_index = {}\n",
        "for line in f:\n",
        "    values = line.split()\n",
        "    word = values[0]\n",
        "    coefs = np.asarray(values[1:], dtype='float32')\n",
        "    embeddings_index[word] = coefs\n",
        "f.close()"
      ],
      "execution_count": 0,
      "outputs": []
    },
    {
      "cell_type": "code",
      "metadata": {
        "id": "tMu9nk6C9M3F",
        "colab_type": "code",
        "colab": {}
      },
      "source": [
        "word_index = np.load('word_to_indx.npy').item()"
      ],
      "execution_count": 0,
      "outputs": []
    },
    {
      "cell_type": "code",
      "metadata": {
        "id": "2QuMq1ANGJfW",
        "colab_type": "code",
        "colab": {}
      },
      "source": [
        "embedding_matrix = np.zeros((len(word_index) + 1, 50))\n",
        "for word,i in word_index.items():\n",
        "    embedding_vector = embeddings_index.get(word)\n",
        "    if embedding_vector is not None:\n",
        "        embedding_matrix[i] = embedding_vector"
      ],
      "execution_count": 0,
      "outputs": []
    },
    {
      "cell_type": "code",
      "metadata": {
        "id": "LV8Mrl0BGLLN",
        "colab_type": "code",
        "colab": {}
      },
      "source": [
        "import h5py\n",
        "with h5py.File('embeddings_50.h5', 'w') as hf:\n",
        "    hf.create_dataset('embed', data=embedding_matrix)\n",
        "with h5py.File('embeddings_50.h5', 'r') as hf:\n",
        "    embedding_matrix = hf['embed'][:]"
      ],
      "execution_count": 0,
      "outputs": []
    },
    {
      "cell_type": "markdown",
      "metadata": {
        "id": "9EaS_CjLGSLv",
        "colab_type": "text"
      },
      "source": [
        "Model embeddings"
      ]
    },
    {
      "cell_type": "code",
      "metadata": {
        "id": "BQSwKiGpGPRK",
        "colab_type": "code",
        "colab": {}
      },
      "source": [
        "import numpy as np\n",
        "import h5py\n",
        "\n",
        "from keras.models import Sequential, Model\n",
        "from keras.layers import Embedding, Dropout, Dense, Activation\n",
        "from keras.layers import LSTM, Bidirectional, Merge, Input\n",
        "from keras.layers import concatenate"
      ],
      "execution_count": 0,
      "outputs": []
    },
    {
      "cell_type": "code",
      "metadata": {
        "id": "g5YqvIVbGTQU",
        "colab_type": "code",
        "colab": {}
      },
      "source": [
        "# loading data\n",
        "with h5py.File('context.h5', 'r') as hf:\n",
        "    context_array = hf['context'][:]\n",
        "with h5py.File('questions.h5', 'r') as hf:\n",
        "    question_array = hf['questions'][:]\n",
        "with h5py.File('begin.h5', 'r') as hf:\n",
        "    begin_span = hf['begin'][:]\n",
        "with h5py.File('end.h5', 'r') as hf:\n",
        "    end_span = hf['end'][:]\n",
        "    \n",
        "# loading Glove embeddings\n",
        "with h5py.File('embeddings_50.h5', 'r') as hf:\n",
        "    embedding_matrix = hf['embed'][:]\n",
        "    \n",
        "# loding vocabulary\n",
        "word_index = np.load('word_to_indx.npy').item()"
      ],
      "execution_count": 0,
      "outputs": []
    },
    {
      "cell_type": "code",
      "metadata": {
        "id": "3rUJ2kMYGUkn",
        "colab_type": "code",
        "colab": {}
      },
      "source": [
        "vocab_size = len(word_index) + 1\n",
        "embedding_vector_length = 50\n",
        "max_span_begin = np.amax(begin_span)\n",
        "max_span_end = np.amax(end_span)\n",
        "batch = 64\n",
        "# slice of data to be used as one epoch training on full data is expensive\n",
        "slce = 10000"
      ],
      "execution_count": 0,
      "outputs": []
    },
    {
      "cell_type": "code",
      "metadata": {
        "id": "6FVse7rmGWz2",
        "colab_type": "code",
        "colab": {}
      },
      "source": [
        "# model1\n",
        "context_input = Input(shape=(700, ), dtype='int32', name='context_input')\n",
        "x = Embedding(input_dim=vocab_size, output_dim=50, weights=[embedding_matrix], \n",
        "              input_length=700, trainable=False)(context_input)\n",
        "lstm_out = Bidirectional(LSTM(256, return_sequences=True, implementation=2), merge_mode='concat')(x)\n",
        "drop_1 = Dropout(0.5)(lstm_out)"
      ],
      "execution_count": 0,
      "outputs": []
    },
    {
      "cell_type": "code",
      "metadata": {
        "id": "qPgM0oNtGX_V",
        "colab_type": "code",
        "colab": {}
      },
      "source": [
        "# model2\n",
        "ques_input = Input(shape=(50, ), dtype='int32', name='ques_input')\n",
        "x = Embedding(input_dim=vocab_size, output_dim=50, weights=[embedding_matrix], \n",
        "              input_length=50, trainable=False)(ques_input)\n",
        "lstm_out = Bidirectional(LSTM(256, return_sequences=True, implementation=2), merge_mode='concat')(x)\n",
        "drop_2 = Dropout(0.5)(lstm_out)"
      ],
      "execution_count": 0,
      "outputs": []
    },
    {
      "cell_type": "code",
      "metadata": {
        "id": "ipZobCwmGZe-",
        "colab_type": "code",
        "outputId": "c4cf6ba7-db87-47b4-de3f-e58a1dbe856a",
        "colab": {
          "base_uri": "https://localhost:8080/",
          "height": 1935
        }
      },
      "source": [
        "# merger model\n",
        "merge_layer = concatenate([drop_1, drop_2], axis=1)\n",
        "biLSTM = Bidirectional(LSTM(512, implementation=2), merge_mode='mul')(merge_layer)\n",
        "drop_3 =  Dropout(0.5)(biLSTM)\n",
        "softmax_1 = Dense(max_span_begin, activation='softmax')(biLSTM)\n",
        "softmax_2 = Dense(max_span_end, activation='softmax')(biLSTM)\n",
        "\n",
        "model = Model(inputs=[context_input, ques_input], outputs=[softmax_1, softmax_2])\n",
        "\n",
        "model.compile(optimizer='adam', loss='sparse_categorical_crossentropy', metrics=['accuracy'])\n",
        "model.summary()\n",
        "\n",
        "from keras.callbacks import ModelCheckpoint\n",
        "filepath=\"squad-weights-improvement-{epoch:02d}-{loss:.4f}.hdf5\"\n",
        "checkpoint = ModelCheckpoint(filepath, monitor='loss', verbose=1, save_best_only=True, mode='min')\n",
        "callbacks_list = [checkpoint]\n",
        "\n",
        "model_history = model.fit([context_array[:slce], question_array[:slce]],\n",
        "                        [begin_span[:slce], end_span[:slce]], verbose=1,\n",
        "                         batch_size=batch, epochs=10, callbacks=callbacks_list)"
      ],
      "execution_count": 0,
      "outputs": [
        {
          "output_type": "stream",
          "text": [
            "__________________________________________________________________________________________________\n",
            "Layer (type)                    Output Shape         Param #     Connected to                     \n",
            "==================================================================================================\n",
            "context_input (InputLayer)      (None, 700)          0                                            \n",
            "__________________________________________________________________________________________________\n",
            "ques_input (InputLayer)         (None, 50)           0                                            \n",
            "__________________________________________________________________________________________________\n",
            "embedding_2 (Embedding)         (None, 700, 50)      5984650     context_input[0][0]              \n",
            "__________________________________________________________________________________________________\n",
            "embedding_3 (Embedding)         (None, 50, 50)       5984650     ques_input[0][0]                 \n",
            "__________________________________________________________________________________________________\n",
            "bidirectional_1 (Bidirectional) (None, 700, 512)     628736      embedding_2[0][0]                \n",
            "__________________________________________________________________________________________________\n",
            "bidirectional_2 (Bidirectional) (None, 50, 512)      628736      embedding_3[0][0]                \n",
            "__________________________________________________________________________________________________\n",
            "dropout_2 (Dropout)             (None, 700, 512)     0           bidirectional_1[0][0]            \n",
            "__________________________________________________________________________________________________\n",
            "dropout_3 (Dropout)             (None, 50, 512)      0           bidirectional_2[0][0]            \n",
            "__________________________________________________________________________________________________\n",
            "concatenate_6 (Concatenate)     (None, 750, 512)     0           dropout_2[0][0]                  \n",
            "                                                                 dropout_3[0][0]                  \n",
            "__________________________________________________________________________________________________\n",
            "bidirectional_8 (Bidirectional) (None, 512)          4198400     concatenate_6[0][0]              \n",
            "__________________________________________________________________________________________________\n",
            "dense_12 (Dense)                (None, 3126)         1603638     bidirectional_8[0][0]            \n",
            "__________________________________________________________________________________________________\n",
            "dense_13 (Dense)                (None, 3136)         1608768     bidirectional_8[0][0]            \n",
            "==================================================================================================\n",
            "Total params: 20,637,578\n",
            "Trainable params: 8,668,278\n",
            "Non-trainable params: 11,969,300\n",
            "__________________________________________________________________________________________________\n",
            "Epoch 1/10\n",
            " 1856/10000 [====>.........................] - ETA: 12:00 - loss: 15.1322 - dense_12_loss: 7.5399 - dense_13_loss: 7.5923 - dense_12_acc: 0.0205 - dense_13_acc: 0.0032"
          ],
          "name": "stdout"
        },
        {
          "output_type": "stream",
          "text": [
            "10000/10000 [==============================] - 875s 88ms/step - loss: 14.0042 - dense_12_loss: 6.9652 - dense_13_loss: 7.0391 - dense_12_acc: 0.0236 - dense_13_acc: 0.0048\n",
            "\n",
            "Epoch 00001: loss improved from inf to 14.00424, saving model to squad-weights-improvement-01-14.0042.hdf5\n",
            "Epoch 2/10\n",
            "  128/10000 [..............................] - ETA: 14:00 - loss: 13.3199 - dense_12_loss: 6.6206 - dense_13_loss: 6.6993 - dense_12_acc: 0.0156 - dense_13_acc: 0.0000e+00"
          ],
          "name": "stdout"
        },
        {
          "output_type": "error",
          "ename": "KeyboardInterrupt",
          "evalue": "ignored",
          "traceback": [
            "\u001b[0;31m---------------------------------------------------------------------------\u001b[0m",
            "\u001b[0;31mKeyboardInterrupt\u001b[0m                         Traceback (most recent call last)",
            "\u001b[0;32m<ipython-input-58-b955671f4bb9>\u001b[0m in \u001b[0;36m<module>\u001b[0;34m()\u001b[0m\n\u001b[1;32m     17\u001b[0m model_history = model.fit([context_array[:slce], question_array[:slce]],\n\u001b[1;32m     18\u001b[0m                         \u001b[0;34m[\u001b[0m\u001b[0mbegin_span\u001b[0m\u001b[0;34m[\u001b[0m\u001b[0;34m:\u001b[0m\u001b[0mslce\u001b[0m\u001b[0;34m]\u001b[0m\u001b[0;34m,\u001b[0m \u001b[0mend_span\u001b[0m\u001b[0;34m[\u001b[0m\u001b[0;34m:\u001b[0m\u001b[0mslce\u001b[0m\u001b[0;34m]\u001b[0m\u001b[0;34m]\u001b[0m\u001b[0;34m,\u001b[0m \u001b[0mverbose\u001b[0m\u001b[0;34m=\u001b[0m\u001b[0;36m1\u001b[0m\u001b[0;34m,\u001b[0m\u001b[0;34m\u001b[0m\u001b[0m\n\u001b[0;32m---> 19\u001b[0;31m                          batch_size=batch, epochs=10, callbacks=callbacks_list)\n\u001b[0m",
            "\u001b[0;32m/usr/local/lib/python3.6/dist-packages/keras/engine/training.py\u001b[0m in \u001b[0;36mfit\u001b[0;34m(self, x, y, batch_size, epochs, verbose, callbacks, validation_split, validation_data, shuffle, class_weight, sample_weight, initial_epoch, steps_per_epoch, validation_steps, **kwargs)\u001b[0m\n\u001b[1;32m   1703\u001b[0m                               \u001b[0minitial_epoch\u001b[0m\u001b[0;34m=\u001b[0m\u001b[0minitial_epoch\u001b[0m\u001b[0;34m,\u001b[0m\u001b[0;34m\u001b[0m\u001b[0m\n\u001b[1;32m   1704\u001b[0m                               \u001b[0msteps_per_epoch\u001b[0m\u001b[0;34m=\u001b[0m\u001b[0msteps_per_epoch\u001b[0m\u001b[0;34m,\u001b[0m\u001b[0;34m\u001b[0m\u001b[0m\n\u001b[0;32m-> 1705\u001b[0;31m                               validation_steps=validation_steps)\n\u001b[0m\u001b[1;32m   1706\u001b[0m \u001b[0;34m\u001b[0m\u001b[0m\n\u001b[1;32m   1707\u001b[0m     def evaluate(self, x=None, y=None,\n",
            "\u001b[0;32m/usr/local/lib/python3.6/dist-packages/keras/engine/training.py\u001b[0m in \u001b[0;36m_fit_loop\u001b[0;34m(self, f, ins, out_labels, batch_size, epochs, verbose, callbacks, val_f, val_ins, shuffle, callback_metrics, initial_epoch, steps_per_epoch, validation_steps)\u001b[0m\n\u001b[1;32m   1234\u001b[0m                         \u001b[0mins_batch\u001b[0m\u001b[0;34m[\u001b[0m\u001b[0mi\u001b[0m\u001b[0;34m]\u001b[0m \u001b[0;34m=\u001b[0m \u001b[0mins_batch\u001b[0m\u001b[0;34m[\u001b[0m\u001b[0mi\u001b[0m\u001b[0;34m]\u001b[0m\u001b[0;34m.\u001b[0m\u001b[0mtoarray\u001b[0m\u001b[0;34m(\u001b[0m\u001b[0;34m)\u001b[0m\u001b[0;34m\u001b[0m\u001b[0m\n\u001b[1;32m   1235\u001b[0m \u001b[0;34m\u001b[0m\u001b[0m\n\u001b[0;32m-> 1236\u001b[0;31m                     \u001b[0mouts\u001b[0m \u001b[0;34m=\u001b[0m \u001b[0mf\u001b[0m\u001b[0;34m(\u001b[0m\u001b[0mins_batch\u001b[0m\u001b[0;34m)\u001b[0m\u001b[0;34m\u001b[0m\u001b[0m\n\u001b[0m\u001b[1;32m   1237\u001b[0m                     \u001b[0;32mif\u001b[0m \u001b[0;32mnot\u001b[0m \u001b[0misinstance\u001b[0m\u001b[0;34m(\u001b[0m\u001b[0mouts\u001b[0m\u001b[0;34m,\u001b[0m \u001b[0mlist\u001b[0m\u001b[0;34m)\u001b[0m\u001b[0;34m:\u001b[0m\u001b[0;34m\u001b[0m\u001b[0m\n\u001b[1;32m   1238\u001b[0m                         \u001b[0mouts\u001b[0m \u001b[0;34m=\u001b[0m \u001b[0;34m[\u001b[0m\u001b[0mouts\u001b[0m\u001b[0;34m]\u001b[0m\u001b[0;34m\u001b[0m\u001b[0m\n",
            "\u001b[0;32m/usr/local/lib/python3.6/dist-packages/keras/backend/tensorflow_backend.py\u001b[0m in \u001b[0;36m__call__\u001b[0;34m(self, inputs)\u001b[0m\n\u001b[1;32m   2480\u001b[0m         \u001b[0msession\u001b[0m \u001b[0;34m=\u001b[0m \u001b[0mget_session\u001b[0m\u001b[0;34m(\u001b[0m\u001b[0;34m)\u001b[0m\u001b[0;34m\u001b[0m\u001b[0m\n\u001b[1;32m   2481\u001b[0m         updated = session.run(fetches=fetches, feed_dict=feed_dict,\n\u001b[0;32m-> 2482\u001b[0;31m                               **self.session_kwargs)\n\u001b[0m\u001b[1;32m   2483\u001b[0m         \u001b[0;32mreturn\u001b[0m \u001b[0mupdated\u001b[0m\u001b[0;34m[\u001b[0m\u001b[0;34m:\u001b[0m\u001b[0mlen\u001b[0m\u001b[0;34m(\u001b[0m\u001b[0mself\u001b[0m\u001b[0;34m.\u001b[0m\u001b[0moutputs\u001b[0m\u001b[0;34m)\u001b[0m\u001b[0;34m]\u001b[0m\u001b[0;34m\u001b[0m\u001b[0m\n\u001b[1;32m   2484\u001b[0m \u001b[0;34m\u001b[0m\u001b[0m\n",
            "\u001b[0;32m/usr/local/lib/python3.6/dist-packages/tensorflow/python/client/session.py\u001b[0m in \u001b[0;36mrun\u001b[0;34m(self, fetches, feed_dict, options, run_metadata)\u001b[0m\n\u001b[1;32m    898\u001b[0m     \u001b[0;32mtry\u001b[0m\u001b[0;34m:\u001b[0m\u001b[0;34m\u001b[0m\u001b[0m\n\u001b[1;32m    899\u001b[0m       result = self._run(None, fetches, feed_dict, options_ptr,\n\u001b[0;32m--> 900\u001b[0;31m                          run_metadata_ptr)\n\u001b[0m\u001b[1;32m    901\u001b[0m       \u001b[0;32mif\u001b[0m \u001b[0mrun_metadata\u001b[0m\u001b[0;34m:\u001b[0m\u001b[0;34m\u001b[0m\u001b[0m\n\u001b[1;32m    902\u001b[0m         \u001b[0mproto_data\u001b[0m \u001b[0;34m=\u001b[0m \u001b[0mtf_session\u001b[0m\u001b[0;34m.\u001b[0m\u001b[0mTF_GetBuffer\u001b[0m\u001b[0;34m(\u001b[0m\u001b[0mrun_metadata_ptr\u001b[0m\u001b[0;34m)\u001b[0m\u001b[0;34m\u001b[0m\u001b[0m\n",
            "\u001b[0;32m/usr/local/lib/python3.6/dist-packages/tensorflow/python/client/session.py\u001b[0m in \u001b[0;36m_run\u001b[0;34m(self, handle, fetches, feed_dict, options, run_metadata)\u001b[0m\n\u001b[1;32m   1133\u001b[0m     \u001b[0;32mif\u001b[0m \u001b[0mfinal_fetches\u001b[0m \u001b[0;32mor\u001b[0m \u001b[0mfinal_targets\u001b[0m \u001b[0;32mor\u001b[0m \u001b[0;34m(\u001b[0m\u001b[0mhandle\u001b[0m \u001b[0;32mand\u001b[0m \u001b[0mfeed_dict_tensor\u001b[0m\u001b[0;34m)\u001b[0m\u001b[0;34m:\u001b[0m\u001b[0;34m\u001b[0m\u001b[0m\n\u001b[1;32m   1134\u001b[0m       results = self._do_run(handle, final_targets, final_fetches,\n\u001b[0;32m-> 1135\u001b[0;31m                              feed_dict_tensor, options, run_metadata)\n\u001b[0m\u001b[1;32m   1136\u001b[0m     \u001b[0;32melse\u001b[0m\u001b[0;34m:\u001b[0m\u001b[0;34m\u001b[0m\u001b[0m\n\u001b[1;32m   1137\u001b[0m       \u001b[0mresults\u001b[0m \u001b[0;34m=\u001b[0m \u001b[0;34m[\u001b[0m\u001b[0;34m]\u001b[0m\u001b[0;34m\u001b[0m\u001b[0m\n",
            "\u001b[0;32m/usr/local/lib/python3.6/dist-packages/tensorflow/python/client/session.py\u001b[0m in \u001b[0;36m_do_run\u001b[0;34m(self, handle, target_list, fetch_list, feed_dict, options, run_metadata)\u001b[0m\n\u001b[1;32m   1314\u001b[0m     \u001b[0;32mif\u001b[0m \u001b[0mhandle\u001b[0m \u001b[0;32mis\u001b[0m \u001b[0;32mNone\u001b[0m\u001b[0;34m:\u001b[0m\u001b[0;34m\u001b[0m\u001b[0m\n\u001b[1;32m   1315\u001b[0m       return self._do_call(_run_fn, feeds, fetches, targets, options,\n\u001b[0;32m-> 1316\u001b[0;31m                            run_metadata)\n\u001b[0m\u001b[1;32m   1317\u001b[0m     \u001b[0;32melse\u001b[0m\u001b[0;34m:\u001b[0m\u001b[0;34m\u001b[0m\u001b[0m\n\u001b[1;32m   1318\u001b[0m       \u001b[0;32mreturn\u001b[0m \u001b[0mself\u001b[0m\u001b[0;34m.\u001b[0m\u001b[0m_do_call\u001b[0m\u001b[0;34m(\u001b[0m\u001b[0m_prun_fn\u001b[0m\u001b[0;34m,\u001b[0m \u001b[0mhandle\u001b[0m\u001b[0;34m,\u001b[0m \u001b[0mfeeds\u001b[0m\u001b[0;34m,\u001b[0m \u001b[0mfetches\u001b[0m\u001b[0;34m)\u001b[0m\u001b[0;34m\u001b[0m\u001b[0m\n",
            "\u001b[0;32m/usr/local/lib/python3.6/dist-packages/tensorflow/python/client/session.py\u001b[0m in \u001b[0;36m_do_call\u001b[0;34m(self, fn, *args)\u001b[0m\n\u001b[1;32m   1320\u001b[0m   \u001b[0;32mdef\u001b[0m \u001b[0m_do_call\u001b[0m\u001b[0;34m(\u001b[0m\u001b[0mself\u001b[0m\u001b[0;34m,\u001b[0m \u001b[0mfn\u001b[0m\u001b[0;34m,\u001b[0m \u001b[0;34m*\u001b[0m\u001b[0margs\u001b[0m\u001b[0;34m)\u001b[0m\u001b[0;34m:\u001b[0m\u001b[0;34m\u001b[0m\u001b[0m\n\u001b[1;32m   1321\u001b[0m     \u001b[0;32mtry\u001b[0m\u001b[0;34m:\u001b[0m\u001b[0;34m\u001b[0m\u001b[0m\n\u001b[0;32m-> 1322\u001b[0;31m       \u001b[0;32mreturn\u001b[0m \u001b[0mfn\u001b[0m\u001b[0;34m(\u001b[0m\u001b[0;34m*\u001b[0m\u001b[0margs\u001b[0m\u001b[0;34m)\u001b[0m\u001b[0;34m\u001b[0m\u001b[0m\n\u001b[0m\u001b[1;32m   1323\u001b[0m     \u001b[0;32mexcept\u001b[0m \u001b[0merrors\u001b[0m\u001b[0;34m.\u001b[0m\u001b[0mOpError\u001b[0m \u001b[0;32mas\u001b[0m \u001b[0me\u001b[0m\u001b[0;34m:\u001b[0m\u001b[0;34m\u001b[0m\u001b[0m\n\u001b[1;32m   1324\u001b[0m       \u001b[0mmessage\u001b[0m \u001b[0;34m=\u001b[0m \u001b[0mcompat\u001b[0m\u001b[0;34m.\u001b[0m\u001b[0mas_text\u001b[0m\u001b[0;34m(\u001b[0m\u001b[0me\u001b[0m\u001b[0;34m.\u001b[0m\u001b[0mmessage\u001b[0m\u001b[0;34m)\u001b[0m\u001b[0;34m\u001b[0m\u001b[0m\n",
            "\u001b[0;32m/usr/local/lib/python3.6/dist-packages/tensorflow/python/client/session.py\u001b[0m in \u001b[0;36m_run_fn\u001b[0;34m(feed_dict, fetch_list, target_list, options, run_metadata)\u001b[0m\n\u001b[1;32m   1305\u001b[0m       \u001b[0mself\u001b[0m\u001b[0;34m.\u001b[0m\u001b[0m_extend_graph\u001b[0m\u001b[0;34m(\u001b[0m\u001b[0;34m)\u001b[0m\u001b[0;34m\u001b[0m\u001b[0m\n\u001b[1;32m   1306\u001b[0m       return self._call_tf_sessionrun(\n\u001b[0;32m-> 1307\u001b[0;31m           options, feed_dict, fetch_list, target_list, run_metadata)\n\u001b[0m\u001b[1;32m   1308\u001b[0m \u001b[0;34m\u001b[0m\u001b[0m\n\u001b[1;32m   1309\u001b[0m     \u001b[0;32mdef\u001b[0m \u001b[0m_prun_fn\u001b[0m\u001b[0;34m(\u001b[0m\u001b[0mhandle\u001b[0m\u001b[0;34m,\u001b[0m \u001b[0mfeed_dict\u001b[0m\u001b[0;34m,\u001b[0m \u001b[0mfetch_list\u001b[0m\u001b[0;34m)\u001b[0m\u001b[0;34m:\u001b[0m\u001b[0;34m\u001b[0m\u001b[0m\n",
            "\u001b[0;32m/usr/local/lib/python3.6/dist-packages/tensorflow/python/client/session.py\u001b[0m in \u001b[0;36m_call_tf_sessionrun\u001b[0;34m(self, options, feed_dict, fetch_list, target_list, run_metadata)\u001b[0m\n\u001b[1;32m   1407\u001b[0m       return tf_session.TF_SessionRun_wrapper(\n\u001b[1;32m   1408\u001b[0m           \u001b[0mself\u001b[0m\u001b[0;34m.\u001b[0m\u001b[0m_session\u001b[0m\u001b[0;34m,\u001b[0m \u001b[0moptions\u001b[0m\u001b[0;34m,\u001b[0m \u001b[0mfeed_dict\u001b[0m\u001b[0;34m,\u001b[0m \u001b[0mfetch_list\u001b[0m\u001b[0;34m,\u001b[0m \u001b[0mtarget_list\u001b[0m\u001b[0;34m,\u001b[0m\u001b[0;34m\u001b[0m\u001b[0m\n\u001b[0;32m-> 1409\u001b[0;31m           run_metadata)\n\u001b[0m\u001b[1;32m   1410\u001b[0m     \u001b[0;32melse\u001b[0m\u001b[0;34m:\u001b[0m\u001b[0;34m\u001b[0m\u001b[0m\n\u001b[1;32m   1411\u001b[0m       \u001b[0;32mwith\u001b[0m \u001b[0merrors\u001b[0m\u001b[0;34m.\u001b[0m\u001b[0mraise_exception_on_not_ok_status\u001b[0m\u001b[0;34m(\u001b[0m\u001b[0;34m)\u001b[0m \u001b[0;32mas\u001b[0m \u001b[0mstatus\u001b[0m\u001b[0;34m:\u001b[0m\u001b[0;34m\u001b[0m\u001b[0m\n",
            "\u001b[0;31mKeyboardInterrupt\u001b[0m: "
          ]
        }
      ]
    },
    {
      "cell_type": "code",
      "metadata": {
        "id": "kuk_LXibGa2-",
        "colab_type": "code",
        "colab": {}
      },
      "source": [
        "from google.colab import files\n",
        "# files.download('squad-weights-improvement-01-14.0042.hdf5')"
      ],
      "execution_count": 0,
      "outputs": []
    },
    {
      "cell_type": "code",
      "metadata": {
        "id": "bTjQLNF1O8B3",
        "colab_type": "code",
        "colab": {}
      },
      "source": [
        "def prediction_onehot(pattern, model, length_prediction):\n",
        "    for i in range(length_prediction):\n",
        "        x = np.reshape(pattern, (1, len(pattern), len(pattern[0])))\n",
        "        prediction = model.predict(x, verbose=0)\n",
        "        index = np.argmax(prediction)\n",
        "        result = int_to_char[index]\n",
        "        sys.stdout.write(result)\n",
        "        pattern = np.concatenate([pattern, np_utils.to_categorical([index], n_categories)])\n",
        "        pattern = pattern[1:len(pattern)]"
      ],
      "execution_count": 0,
      "outputs": []
    }
  ]
}