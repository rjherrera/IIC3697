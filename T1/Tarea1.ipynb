{
  "nbformat": 4,
  "nbformat_minor": 0,
  "metadata": {
    "colab": {
      "name": "Tarea1.ipynb",
      "provenance": [],
      "collapsed_sections": [],
      "toc_visible": true
    },
    "kernelspec": {
      "name": "python3",
      "display_name": "Python 3"
    },
    "accelerator": "GPU"
  },
  "cells": [
    {
      "cell_type": "code",
      "metadata": {
        "id": "azmFXo1kFoje",
        "colab_type": "code",
        "colab": {}
      },
      "source": [
        "# Definicion de librerias con la funciones que seran utilizadas por Keras.\n",
        "import keras\n",
        "from keras.layers import Activation, Dense, Flatten, Dropout\n",
        "from keras.models import Sequential\n",
        "from keras.layers.convolutional import Convolution2D, ZeroPadding2D\n",
        "from keras.layers.normalization import BatchNormalization\n",
        "from keras.layers.pooling import MaxPooling2D"
      ],
      "execution_count": 0,
      "outputs": []
    },
    {
      "cell_type": "code",
      "metadata": {
        "id": "Ekn4p4XBnGiu",
        "colab_type": "code",
        "colab": {}
      },
      "source": [
        "def format_shape(shape):\n",
        "  return 'x'.join((str(i) for i in shape[1:]))"
      ],
      "execution_count": 0,
      "outputs": []
    },
    {
      "cell_type": "markdown",
      "metadata": {
        "id": "TfOFlAG6Rpke",
        "colab_type": "text"
      },
      "source": [
        "## Parte 1: AlexNet"
      ]
    },
    {
      "cell_type": "markdown",
      "metadata": {
        "id": "2vJxarYvRPoV",
        "colab_type": "text"
      },
      "source": [
        "### Actividad 1"
      ]
    },
    {
      "cell_type": "code",
      "metadata": {
        "id": "l4edwMblRSQm",
        "colab_type": "code",
        "outputId": "1368b4ea-619d-4ae7-f2c9-74a0df739724",
        "colab": {
          "base_uri": "https://localhost:8080/",
          "height": 68
        }
      },
      "source": [
        "# Definicion de contenedor y primera capa de AlexNet\n",
        "modelAlexNet = Sequential()\n",
        "modelAlexNet.add(ZeroPadding2D((2,2), input_shape=(224, 224, 3)))\n",
        "modelAlexNet.add(Convolution2D(96, (11,11), strides=(4,4), padding='valid'))\n",
        "modelAlexNet.add(Activation(activation='relu'))\n",
        "modelAlexNet.add(BatchNormalization())\n",
        "print('- before max-pooling:', format_shape(modelAlexNet.output_shape))\n",
        "modelAlexNet.add(MaxPooling2D((3,3), strides=(2,2)))\n",
        "print('- after max-pooling:', format_shape(modelAlexNet.output_shape))\n",
        "print('First layer output dim:', format_shape(modelAlexNet.output_shape))\n"
      ],
      "execution_count": 0,
      "outputs": [
        {
          "output_type": "stream",
          "text": [
            "- before max-pooling: 55x55x96\n",
            "- after max-pooling: 27x27x96\n",
            "First layer output dim: 27x27x96\n"
          ],
          "name": "stdout"
        }
      ]
    },
    {
      "cell_type": "code",
      "metadata": {
        "id": "doCndOxLNq2e",
        "colab_type": "code",
        "outputId": "93bd2da2-1b79-4089-9bb0-154e9e64146e",
        "colab": {
          "base_uri": "https://localhost:8080/",
          "height": 493
        }
      },
      "source": [
        "modelAlexNet.add(ZeroPadding2D((2,2)))\n",
        "modelAlexNet.add(Convolution2D(256, (5, 5), padding='valid'))\n",
        "modelAlexNet.add(Activation(activation='relu'))\n",
        "modelAlexNet.add(BatchNormalization())\n",
        "modelAlexNet.add(MaxPooling2D((3,3), strides=(2,2)))\n",
        "print('Second layer output dim:', format_shape(modelAlexNet.output_shape))\n",
        "modelAlexNet.summary()"
      ],
      "execution_count": 0,
      "outputs": [
        {
          "output_type": "stream",
          "text": [
            "Second layer output dim: 13x13x256\n",
            "_________________________________________________________________\n",
            "Layer (type)                 Output Shape              Param #   \n",
            "=================================================================\n",
            "zero_padding2d_11 (ZeroPaddi (None, 228, 228, 3)       0         \n",
            "_________________________________________________________________\n",
            "conv2d_11 (Conv2D)           (None, 55, 55, 96)        34944     \n",
            "_________________________________________________________________\n",
            "activation_11 (Activation)   (None, 55, 55, 96)        0         \n",
            "_________________________________________________________________\n",
            "batch_normalization_5 (Batch (None, 55, 55, 96)        384       \n",
            "_________________________________________________________________\n",
            "max_pooling2d_7 (MaxPooling2 (None, 27, 27, 96)        0         \n",
            "_________________________________________________________________\n",
            "zero_padding2d_12 (ZeroPaddi (None, 31, 31, 96)        0         \n",
            "_________________________________________________________________\n",
            "conv2d_12 (Conv2D)           (None, 27, 27, 256)       614656    \n",
            "_________________________________________________________________\n",
            "activation_12 (Activation)   (None, 27, 27, 256)       0         \n",
            "_________________________________________________________________\n",
            "batch_normalization_6 (Batch (None, 27, 27, 256)       1024      \n",
            "_________________________________________________________________\n",
            "max_pooling2d_8 (MaxPooling2 (None, 13, 13, 256)       0         \n",
            "=================================================================\n",
            "Total params: 651,008\n",
            "Trainable params: 650,304\n",
            "Non-trainable params: 704\n",
            "_________________________________________________________________\n"
          ],
          "name": "stdout"
        }
      ]
    },
    {
      "cell_type": "markdown",
      "metadata": {
        "id": "3YCxgLXcyC6e",
        "colab_type": "text"
      },
      "source": [
        "Para saber los parámetros de forma empírica tras estructurar la red, podemos mirar el output de _summary_, sin embargo, desde un punto de vista teórico, el análisis es el siguiente.\n",
        "\n",
        "Por cada capa convolucional que se aplique, la dimensión de la salida de cada capa viene dada por la siguiente fórmula: $(N-F+2P) / S + 1$, donde $N, F, P, S$ corresponden a _dimension original_, _tamaño del filtro_, _padding_ y _stride_, respectivamente.\n",
        "\n",
        "Como se puede observar, al aplicar la primera capa, se obtiene una salida de dimensiones $27\\times 27\\times 96$. En primer lugar se tiene que la convolución entrega $55\\times 55\\times 96$ ya que $N=224$, $F=11$, $P=2$ y $S=4$, aplicado en la fórmula da $55.25$, pero se sabe que por implementación de AlexNet, el último padding es ignorado al aplicar _floor_ al resultado anterior.\n",
        "\n",
        "En segundo lugar, como se aplica _max-pooling_, la lógica es equivalente, con $N=55, F=3, P=0$ y $S=2$ lo que da $27$ como resultado. Siendo la dimensión final de la primera capa $27\\times 27\\times 96$, donde 96 es la cantidad de filtros aplicados.\n",
        "\n",
        "En cuanto al número de parámetros, en primera instancia existen $11\\times 11$ parámetros por filtro, y se aplica $96$ veces, además se deben considerar los $3$ canales de la imagen y los $96$ _bias_ (1 por filtro) respectivos, se tiene entonces $11\\times 11\\times 96\\times 3 + 96 = 34944$, coindicente con lo esperado. Luego, para el _batch normalization_ se agregan $4$ parámetros por _feature_ de la capa anterior (_gamma weights_, _beta weights_, _moving-mean_, _moving-variance_), siendo $4\\times 96 = 84$.\n",
        "\n",
        "Al aplicar la segunda capa convolucional, con $N=27, F=5, P=2, S=1$, y cantidad de filtros igual a 256, se tiene entonces $27$, por lo que la dimensión en sus primeros componentes se mantiene. Al aplicar _max-pooling_, finalmente se tiene que $N=27, F=3, P=0$ y $S=2$, por lo que se obtiene $13$. Así, la dimensión final de la segunda capa es $13\\times 13\\times 256$.\n",
        "\n",
        "De este modo, la cantidad parámetros, siguiendo el análisis de la primera capa corresponde a $5\\times 5\\times 256\\times 96 + 256$ que es $614656$, y tras la normalización, $4 \\times 256 = 1024$.\n",
        "\n",
        "Por lo observado al ejecutar _summary_ y por lo que se aprecia al realizar los cálculos respectivos, se tiene que las dimensiones y parámetros coinciden con lo esperado. "
      ]
    },
    {
      "cell_type": "markdown",
      "metadata": {
        "id": "3ENYawqiRvuS",
        "colab_type": "text"
      },
      "source": [
        "### Actividad 2"
      ]
    },
    {
      "cell_type": "code",
      "metadata": {
        "id": "tAcbka4oNvq-",
        "colab_type": "code",
        "outputId": "4f0da64d-7fef-455e-8164-2e5af85b03db",
        "colab": {
          "base_uri": "https://localhost:8080/",
          "height": 595
        }
      },
      "source": [
        "modelAlexNet.add(ZeroPadding2D((1,1)))\n",
        "modelAlexNet.add(Convolution2D(384, (3, 3), padding='valid'))\n",
        "modelAlexNet.add(Activation(activation='relu'))\n",
        "\n",
        "print('Third layer output dim:', format_shape(modelAlexNet.output_shape))\n",
        "modelAlexNet.summary()"
      ],
      "execution_count": 0,
      "outputs": [
        {
          "output_type": "stream",
          "text": [
            "Third layer output dim: 13x13x384\n",
            "_________________________________________________________________\n",
            "Layer (type)                 Output Shape              Param #   \n",
            "=================================================================\n",
            "zero_padding2d_11 (ZeroPaddi (None, 228, 228, 3)       0         \n",
            "_________________________________________________________________\n",
            "conv2d_11 (Conv2D)           (None, 55, 55, 96)        34944     \n",
            "_________________________________________________________________\n",
            "activation_11 (Activation)   (None, 55, 55, 96)        0         \n",
            "_________________________________________________________________\n",
            "batch_normalization_5 (Batch (None, 55, 55, 96)        384       \n",
            "_________________________________________________________________\n",
            "max_pooling2d_7 (MaxPooling2 (None, 27, 27, 96)        0         \n",
            "_________________________________________________________________\n",
            "zero_padding2d_12 (ZeroPaddi (None, 31, 31, 96)        0         \n",
            "_________________________________________________________________\n",
            "conv2d_12 (Conv2D)           (None, 27, 27, 256)       614656    \n",
            "_________________________________________________________________\n",
            "activation_12 (Activation)   (None, 27, 27, 256)       0         \n",
            "_________________________________________________________________\n",
            "batch_normalization_6 (Batch (None, 27, 27, 256)       1024      \n",
            "_________________________________________________________________\n",
            "max_pooling2d_8 (MaxPooling2 (None, 13, 13, 256)       0         \n",
            "_________________________________________________________________\n",
            "zero_padding2d_13 (ZeroPaddi (None, 15, 15, 256)       0         \n",
            "_________________________________________________________________\n",
            "conv2d_13 (Conv2D)           (None, 13, 13, 384)       885120    \n",
            "_________________________________________________________________\n",
            "activation_13 (Activation)   (None, 13, 13, 384)       0         \n",
            "=================================================================\n",
            "Total params: 1,536,128\n",
            "Trainable params: 1,535,424\n",
            "Non-trainable params: 704\n",
            "_________________________________________________________________\n"
          ],
          "name": "stdout"
        }
      ]
    },
    {
      "cell_type": "markdown",
      "metadata": {
        "id": "yumK0Ir56Cr4",
        "colab_type": "text"
      },
      "source": [
        "En esta segunda actividad, se agrega estas nuevas capas convolucionales, donde se confirma lo esperado en cuanto a dimensiones. Se imprime el _output-shape_ de la tercera capa y se incluye el resumen con los números de parámetrosrespectivos."
      ]
    },
    {
      "cell_type": "markdown",
      "metadata": {
        "id": "959vtMxtR3WY",
        "colab_type": "text"
      },
      "source": [
        "### Actividad 3"
      ]
    },
    {
      "cell_type": "code",
      "metadata": {
        "id": "ZPrGxkuDR3w_",
        "colab_type": "code",
        "outputId": "83bffcf4-aebe-412c-e021-d927c14051a5",
        "colab": {
          "base_uri": "https://localhost:8080/",
          "height": 34
        }
      },
      "source": [
        "modelAlexNet.add(ZeroPadding2D((1,1)))\n",
        "modelAlexNet.add(Convolution2D(384, (3, 3), padding='valid'))\n",
        "modelAlexNet.add(Activation(activation='relu'))\n",
        "print('Fourth layer output dim:', format_shape(modelAlexNet.output_shape))"
      ],
      "execution_count": 0,
      "outputs": [
        {
          "output_type": "stream",
          "text": [
            "Fourth layer output dim: 13x13x384\n"
          ],
          "name": "stdout"
        }
      ]
    },
    {
      "cell_type": "code",
      "metadata": {
        "id": "dw3KYvDQQeMk",
        "colab_type": "code",
        "outputId": "3fe3fd7f-f7e3-4ee9-a88d-8bb52f7435e7",
        "colab": {
          "base_uri": "https://localhost:8080/",
          "height": 833
        }
      },
      "source": [
        "modelAlexNet.add(ZeroPadding2D((1,1)))\n",
        "modelAlexNet.add(Convolution2D(256, (3, 3), padding='valid'))\n",
        "modelAlexNet.add(Activation(activation='relu'))\n",
        "modelAlexNet.add(MaxPooling2D((3,3), strides=(2,2)))\n",
        "print('Fifth layer output dim:', format_shape(modelAlexNet.output_shape))\n",
        "\n",
        "modelAlexNet.summary()"
      ],
      "execution_count": 0,
      "outputs": [
        {
          "output_type": "stream",
          "text": [
            "Fifth layer output dim: 6x6x256\n",
            "_________________________________________________________________\n",
            "Layer (type)                 Output Shape              Param #   \n",
            "=================================================================\n",
            "zero_padding2d_11 (ZeroPaddi (None, 228, 228, 3)       0         \n",
            "_________________________________________________________________\n",
            "conv2d_11 (Conv2D)           (None, 55, 55, 96)        34944     \n",
            "_________________________________________________________________\n",
            "activation_11 (Activation)   (None, 55, 55, 96)        0         \n",
            "_________________________________________________________________\n",
            "batch_normalization_5 (Batch (None, 55, 55, 96)        384       \n",
            "_________________________________________________________________\n",
            "max_pooling2d_7 (MaxPooling2 (None, 27, 27, 96)        0         \n",
            "_________________________________________________________________\n",
            "zero_padding2d_12 (ZeroPaddi (None, 31, 31, 96)        0         \n",
            "_________________________________________________________________\n",
            "conv2d_12 (Conv2D)           (None, 27, 27, 256)       614656    \n",
            "_________________________________________________________________\n",
            "activation_12 (Activation)   (None, 27, 27, 256)       0         \n",
            "_________________________________________________________________\n",
            "batch_normalization_6 (Batch (None, 27, 27, 256)       1024      \n",
            "_________________________________________________________________\n",
            "max_pooling2d_8 (MaxPooling2 (None, 13, 13, 256)       0         \n",
            "_________________________________________________________________\n",
            "zero_padding2d_13 (ZeroPaddi (None, 15, 15, 256)       0         \n",
            "_________________________________________________________________\n",
            "conv2d_13 (Conv2D)           (None, 13, 13, 384)       885120    \n",
            "_________________________________________________________________\n",
            "activation_13 (Activation)   (None, 13, 13, 384)       0         \n",
            "_________________________________________________________________\n",
            "zero_padding2d_14 (ZeroPaddi (None, 15, 15, 384)       0         \n",
            "_________________________________________________________________\n",
            "conv2d_14 (Conv2D)           (None, 13, 13, 384)       1327488   \n",
            "_________________________________________________________________\n",
            "activation_14 (Activation)   (None, 13, 13, 384)       0         \n",
            "_________________________________________________________________\n",
            "zero_padding2d_15 (ZeroPaddi (None, 15, 15, 384)       0         \n",
            "_________________________________________________________________\n",
            "conv2d_15 (Conv2D)           (None, 13, 13, 256)       884992    \n",
            "_________________________________________________________________\n",
            "activation_15 (Activation)   (None, 13, 13, 256)       0         \n",
            "_________________________________________________________________\n",
            "max_pooling2d_9 (MaxPooling2 (None, 6, 6, 256)         0         \n",
            "=================================================================\n",
            "Total params: 3,748,608\n",
            "Trainable params: 3,747,904\n",
            "Non-trainable params: 704\n",
            "_________________________________________________________________\n"
          ],
          "name": "stdout"
        }
      ]
    },
    {
      "cell_type": "markdown",
      "metadata": {
        "id": "NX0mG8AE6J1g",
        "colab_type": "text"
      },
      "source": [
        "Se incluyen las dimensiones de salida de ambas capas, y se observa que por primera vez se reduce la cantidad de parámetros en la red, tras la quinta capa."
      ]
    },
    {
      "cell_type": "markdown",
      "metadata": {
        "id": "WJw3ZHFKWBaY",
        "colab_type": "text"
      },
      "source": [
        "### Actividad 4"
      ]
    },
    {
      "cell_type": "code",
      "metadata": {
        "id": "JC7-YZEUaRXQ",
        "colab_type": "code",
        "outputId": "9896006d-08ef-4ce4-9ec8-e2eb35c48ce6",
        "colab": {
          "base_uri": "https://localhost:8080/",
          "height": 34
        }
      },
      "source": [
        "modelAlexNet.add(Flatten())\n",
        "print('Post flattening output dim:', format_shape(modelAlexNet.output_shape))"
      ],
      "execution_count": 0,
      "outputs": [
        {
          "output_type": "stream",
          "text": [
            "Post flattening output dim: 9216\n"
          ],
          "name": "stdout"
        }
      ]
    },
    {
      "cell_type": "markdown",
      "metadata": {
        "id": "AJzVOshr6hM7",
        "colab_type": "text"
      },
      "source": [
        "Este aplanamiento llevado a cabo por la aplicación de _flatten_ es consistente con lo esperado, ya que transforma este \"arreglo\" tridimensional en uno unidimensional, por lo que la dimensión esperada corresponde a la multiplicación de las 3 dimensiones anteriores, esto es $6\\times 6\\times 256$, lo que efectivamente es $9216$."
      ]
    },
    {
      "cell_type": "markdown",
      "metadata": {
        "id": "_BW2jV33WF9p",
        "colab_type": "text"
      },
      "source": [
        "### Actividad 5"
      ]
    },
    {
      "cell_type": "code",
      "metadata": {
        "id": "o24-p0tpKyu2",
        "colab_type": "code",
        "outputId": "c874a252-029f-41b6-cc63-8db7572e96f9",
        "colab": {
          "base_uri": "https://localhost:8080/",
          "height": 935
        }
      },
      "source": [
        "modelAlexNet.add(Dense(4096, activation='relu'))\n",
        "modelAlexNet.add(Dropout(0.5))\n",
        "print('Sixth layer output dim:', format_shape(modelAlexNet.output_shape))\n",
        "\n",
        "modelAlexNet.summary()"
      ],
      "execution_count": 0,
      "outputs": [
        {
          "output_type": "stream",
          "text": [
            "Sixth layer output dim: 4096\n",
            "_________________________________________________________________\n",
            "Layer (type)                 Output Shape              Param #   \n",
            "=================================================================\n",
            "zero_padding2d_11 (ZeroPaddi (None, 228, 228, 3)       0         \n",
            "_________________________________________________________________\n",
            "conv2d_11 (Conv2D)           (None, 55, 55, 96)        34944     \n",
            "_________________________________________________________________\n",
            "activation_11 (Activation)   (None, 55, 55, 96)        0         \n",
            "_________________________________________________________________\n",
            "batch_normalization_5 (Batch (None, 55, 55, 96)        384       \n",
            "_________________________________________________________________\n",
            "max_pooling2d_7 (MaxPooling2 (None, 27, 27, 96)        0         \n",
            "_________________________________________________________________\n",
            "zero_padding2d_12 (ZeroPaddi (None, 31, 31, 96)        0         \n",
            "_________________________________________________________________\n",
            "conv2d_12 (Conv2D)           (None, 27, 27, 256)       614656    \n",
            "_________________________________________________________________\n",
            "activation_12 (Activation)   (None, 27, 27, 256)       0         \n",
            "_________________________________________________________________\n",
            "batch_normalization_6 (Batch (None, 27, 27, 256)       1024      \n",
            "_________________________________________________________________\n",
            "max_pooling2d_8 (MaxPooling2 (None, 13, 13, 256)       0         \n",
            "_________________________________________________________________\n",
            "zero_padding2d_13 (ZeroPaddi (None, 15, 15, 256)       0         \n",
            "_________________________________________________________________\n",
            "conv2d_13 (Conv2D)           (None, 13, 13, 384)       885120    \n",
            "_________________________________________________________________\n",
            "activation_13 (Activation)   (None, 13, 13, 384)       0         \n",
            "_________________________________________________________________\n",
            "zero_padding2d_14 (ZeroPaddi (None, 15, 15, 384)       0         \n",
            "_________________________________________________________________\n",
            "conv2d_14 (Conv2D)           (None, 13, 13, 384)       1327488   \n",
            "_________________________________________________________________\n",
            "activation_14 (Activation)   (None, 13, 13, 384)       0         \n",
            "_________________________________________________________________\n",
            "zero_padding2d_15 (ZeroPaddi (None, 15, 15, 384)       0         \n",
            "_________________________________________________________________\n",
            "conv2d_15 (Conv2D)           (None, 13, 13, 256)       884992    \n",
            "_________________________________________________________________\n",
            "activation_15 (Activation)   (None, 13, 13, 256)       0         \n",
            "_________________________________________________________________\n",
            "max_pooling2d_9 (MaxPooling2 (None, 6, 6, 256)         0         \n",
            "_________________________________________________________________\n",
            "flatten_3 (Flatten)          (None, 9216)              0         \n",
            "_________________________________________________________________\n",
            "dense_5 (Dense)              (None, 4096)              37752832  \n",
            "_________________________________________________________________\n",
            "dropout_4 (Dropout)          (None, 4096)              0         \n",
            "=================================================================\n",
            "Total params: 41,501,440\n",
            "Trainable params: 41,500,736\n",
            "Non-trainable params: 704\n",
            "_________________________________________________________________\n"
          ],
          "name": "stdout"
        }
      ]
    },
    {
      "cell_type": "markdown",
      "metadata": {
        "id": "YeGAjV2g7ccL",
        "colab_type": "text"
      },
      "source": [
        "La dimension evidentemente es la adecuada porque al ser una capa densa, entrega cantidad de outputs como de neuronas tenga, lo que es efectivamente $4096$. La cantidad de parámetros corresponde al producto entre la dimensión anterior $9216$ y la cantidad de neuronas, sin embargo, como siempre, hay que agregar un _bias_ por output del _flatten_, esto es $(9216+1)\\times 4096$, confirmando el número señalado en el _summary_."
      ]
    },
    {
      "cell_type": "markdown",
      "metadata": {
        "id": "SzjJ1uhXWPcQ",
        "colab_type": "text"
      },
      "source": [
        "### Actividad 6"
      ]
    },
    {
      "cell_type": "code",
      "metadata": {
        "id": "epW4sKaZdnlb",
        "colab_type": "code",
        "outputId": "5be13177-74db-4bcd-9b17-c4cdbf762ed7",
        "colab": {
          "base_uri": "https://localhost:8080/",
          "height": 1054
        }
      },
      "source": [
        "modelAlexNet.add(Dense(4096, activation='relu'))\n",
        "modelAlexNet.add(Dropout(0.5))\n",
        "print('Seventh layer output dim:', format_shape(modelAlexNet.output_shape))\n",
        "\n",
        "modelAlexNet.add(Dense(1000, activation='softmax'))\n",
        "print('Eighth layer output dim:', format_shape(modelAlexNet.output_shape))\n",
        "modelAlexNet.summary()\n"
      ],
      "execution_count": 0,
      "outputs": [
        {
          "output_type": "stream",
          "text": [
            "Seventh layer output dim: 4096\n",
            "Eighth layer output dim: 1000\n",
            "_________________________________________________________________\n",
            "Layer (type)                 Output Shape              Param #   \n",
            "=================================================================\n",
            "zero_padding2d_11 (ZeroPaddi (None, 228, 228, 3)       0         \n",
            "_________________________________________________________________\n",
            "conv2d_11 (Conv2D)           (None, 55, 55, 96)        34944     \n",
            "_________________________________________________________________\n",
            "activation_11 (Activation)   (None, 55, 55, 96)        0         \n",
            "_________________________________________________________________\n",
            "batch_normalization_5 (Batch (None, 55, 55, 96)        384       \n",
            "_________________________________________________________________\n",
            "max_pooling2d_7 (MaxPooling2 (None, 27, 27, 96)        0         \n",
            "_________________________________________________________________\n",
            "zero_padding2d_12 (ZeroPaddi (None, 31, 31, 96)        0         \n",
            "_________________________________________________________________\n",
            "conv2d_12 (Conv2D)           (None, 27, 27, 256)       614656    \n",
            "_________________________________________________________________\n",
            "activation_12 (Activation)   (None, 27, 27, 256)       0         \n",
            "_________________________________________________________________\n",
            "batch_normalization_6 (Batch (None, 27, 27, 256)       1024      \n",
            "_________________________________________________________________\n",
            "max_pooling2d_8 (MaxPooling2 (None, 13, 13, 256)       0         \n",
            "_________________________________________________________________\n",
            "zero_padding2d_13 (ZeroPaddi (None, 15, 15, 256)       0         \n",
            "_________________________________________________________________\n",
            "conv2d_13 (Conv2D)           (None, 13, 13, 384)       885120    \n",
            "_________________________________________________________________\n",
            "activation_13 (Activation)   (None, 13, 13, 384)       0         \n",
            "_________________________________________________________________\n",
            "zero_padding2d_14 (ZeroPaddi (None, 15, 15, 384)       0         \n",
            "_________________________________________________________________\n",
            "conv2d_14 (Conv2D)           (None, 13, 13, 384)       1327488   \n",
            "_________________________________________________________________\n",
            "activation_14 (Activation)   (None, 13, 13, 384)       0         \n",
            "_________________________________________________________________\n",
            "zero_padding2d_15 (ZeroPaddi (None, 15, 15, 384)       0         \n",
            "_________________________________________________________________\n",
            "conv2d_15 (Conv2D)           (None, 13, 13, 256)       884992    \n",
            "_________________________________________________________________\n",
            "activation_15 (Activation)   (None, 13, 13, 256)       0         \n",
            "_________________________________________________________________\n",
            "max_pooling2d_9 (MaxPooling2 (None, 6, 6, 256)         0         \n",
            "_________________________________________________________________\n",
            "flatten_3 (Flatten)          (None, 9216)              0         \n",
            "_________________________________________________________________\n",
            "dense_5 (Dense)              (None, 4096)              37752832  \n",
            "_________________________________________________________________\n",
            "dropout_4 (Dropout)          (None, 4096)              0         \n",
            "_________________________________________________________________\n",
            "dense_6 (Dense)              (None, 4096)              16781312  \n",
            "_________________________________________________________________\n",
            "dropout_5 (Dropout)          (None, 4096)              0         \n",
            "_________________________________________________________________\n",
            "dense_7 (Dense)              (None, 1000)              4097000   \n",
            "=================================================================\n",
            "Total params: 62,379,752\n",
            "Trainable params: 62,379,048\n",
            "Non-trainable params: 704\n",
            "_________________________________________________________________\n"
          ],
          "name": "stdout"
        }
      ]
    },
    {
      "cell_type": "markdown",
      "metadata": {
        "id": "eknLbxN59j1l",
        "colab_type": "text"
      },
      "source": [
        "Como se observa, las capas _fully connected_ funcionan como es esperado, es decir entregan una cantidad de parámetros correspondiente a la multiplicación de dimensiones de entrada por neuronas, considerando el _bias_.\n",
        "\n",
        "Además se aprecia que las capas con más parámetros son las densas, y esto tiene sentido porque a diferencia de las convolucionales, que utilizan los mismos parámetros para un filtro a través de toda la imagen, las densas utilizan un parámetro por neurona para cada entrada, lo que agranda significativamente la cantidad de parámetros de la red, y coincide con el nombre, _fully connected_. \n",
        "\n",
        "Por otro lado, la arquitectura de la red en su etapa final tiene sentido, puesto que se desea clasificar mil clases, y es evidente que por ende se necesita un output de dimensión 1000.\n",
        "\n",
        "La arquitectura hace sentido ya que entrenar con densidad a la red desde un principio habría repercutido en una cantidad de parámetros descriteriada. Si a cada pixel, de cada canal, se le asignase un parámetro, al aplicar una capa densa de 4096 neuronas, inmediatamente se habrían superado los 600 millones de parámetros, y eso con una profundidad de solo 1 capa!. \n",
        "\n",
        "La intención (y lograda) de aplicar filtros por medio de convoluciones es ir obteniendo características de representación intermedia a un nivel mayor y luego cuando ya se tiene esto, aplicar una clasificación densa, de modo que la clasificación ocurre después, y no es desproporcionada."
      ]
    },
    {
      "cell_type": "markdown",
      "metadata": {
        "id": "ZE3E9zioatjm",
        "colab_type": "text"
      },
      "source": [
        "### Data"
      ]
    },
    {
      "cell_type": "code",
      "metadata": {
        "id": "J8twlyZufYSi",
        "colab_type": "code",
        "colab": {}
      },
      "source": [
        "\n",
        "#!wget https://www.dropbox.com/s/c0d7npcg1yysnux/MIT-10-Classes.zip?dl=0\n",
        "#!unzip -q 'MIT-10-Classes.zip?dl=0'\n",
        "\n",
        "! if [ ! -d MIT-10-Classes ]; then wget \"https://www.dropbox.com/s/c0d7npcg1yysnux/MIT-10-Classes.zip?dl=0\"; fi\n",
        "! if [ ! -d MIT-10-Classes ]; then unzip -q \"MIT-10-Classes.zip?dl=0\"; fi\n"
      ],
      "execution_count": 0,
      "outputs": []
    },
    {
      "cell_type": "code",
      "metadata": {
        "id": "E1NvWzaZW8jo",
        "colab_type": "code",
        "colab": {}
      },
      "source": [
        "from sklearn import svm, datasets\n",
        "import scipy as sp\n",
        "import os"
      ],
      "execution_count": 0,
      "outputs": []
    },
    {
      "cell_type": "markdown",
      "metadata": {
        "id": "d4p4I-yHWWc6",
        "colab_type": "text"
      },
      "source": [
        "### Actividad 7"
      ]
    },
    {
      "cell_type": "code",
      "metadata": {
        "id": "fE-rVerhzbm8",
        "colab_type": "code",
        "colab": {}
      },
      "source": [
        "def data_and_labels(path_set):\n",
        "    x = []\n",
        "    y = []\n",
        "    for label in os.listdir(path_set):\n",
        "        for file in os.listdir(path_set + label):\n",
        "            y.append(label)\n",
        "            mat = sp.io.loadmat(path_set + label + '/' + file)\n",
        "            vect = mat['stored']\n",
        "            x.append(vect[0])\n",
        "    return x, y\n",
        "    "
      ],
      "execution_count": 0,
      "outputs": []
    },
    {
      "cell_type": "code",
      "metadata": {
        "id": "aoQPJRvkzsG1",
        "colab_type": "code",
        "colab": {}
      },
      "source": [
        "path_training_data = './MIT-10-Classes/Feats/TrainSet/'\n",
        "x_training_data, y_training_data = data_and_labels(path_training_data)"
      ],
      "execution_count": 0,
      "outputs": []
    },
    {
      "cell_type": "code",
      "metadata": {
        "id": "mJjpAk8GDda6",
        "colab_type": "code",
        "outputId": "af024e4c-10b5-41df-90ae-036e20a56468",
        "colab": {
          "base_uri": "https://localhost:8080/",
          "height": 102
        }
      },
      "source": [
        "clf = svm.LinearSVC() # one vs all\n",
        "clf.fit(x_training_data, y_training_data)"
      ],
      "execution_count": 0,
      "outputs": [
        {
          "output_type": "stream",
          "text": [
            "799 799\n"
          ],
          "name": "stdout"
        },
        {
          "output_type": "execute_result",
          "data": {
            "text/plain": [
              "LinearSVC(C=1.0, class_weight=None, dual=True, fit_intercept=True,\n",
              "     intercept_scaling=1, loss='squared_hinge', max_iter=1000,\n",
              "     multi_class='ovr', penalty='l2', random_state=None, tol=0.0001,\n",
              "     verbose=0)"
            ]
          },
          "metadata": {
            "tags": []
          },
          "execution_count": 66
        }
      ]
    },
    {
      "cell_type": "code",
      "metadata": {
        "id": "GcSNIrur2XHm",
        "colab_type": "code",
        "colab": {}
      },
      "source": [
        "def success_svm(clf, path_set):\n",
        "    good = 0\n",
        "    bad = 0\n",
        "    for label in os.listdir(path_set):\n",
        "        for file in os.listdir(path_set + label):\n",
        "            mat = sp.io.loadmat(path_set + label + '/' + file)\n",
        "            vect = mat['stored']\n",
        "            if clf.predict(vect)[0] == label:\n",
        "                good += 1\n",
        "            else:\n",
        "                bad += 1\n",
        "    return str(good / (good + bad)* 100) + ' %'"
      ],
      "execution_count": 0,
      "outputs": []
    },
    {
      "cell_type": "code",
      "metadata": {
        "id": "kQIuyO4qO2a0",
        "colab_type": "code",
        "outputId": "27f3dbdf-833a-40d5-9cfb-675924e93596",
        "colab": {
          "base_uri": "https://localhost:8080/",
          "height": 51
        }
      },
      "source": [
        "path_test_data = './MIT-10-Classes/Feats/TestSet/'\n",
        "print('Test set accuracy: ', success_svm(clf, path_test_data))\n",
        "print('Training set accuracy: ', success_svm(clf, path_training_data))      "
      ],
      "execution_count": 0,
      "outputs": [
        {
          "output_type": "stream",
          "text": [
            "Test set accuracy:  97.01492537313433 %\n",
            "Training set accuracy:  100.0 %\n"
          ],
          "name": "stdout"
        }
      ]
    },
    {
      "cell_type": "markdown",
      "metadata": {
        "id": "E3sMPh6EHD6y",
        "colab_type": "text"
      },
      "source": [
        "### Actividad 8"
      ]
    },
    {
      "cell_type": "code",
      "metadata": {
        "id": "7BDfRDpvTt6U",
        "colab_type": "code",
        "colab": {}
      },
      "source": [
        "from PIL import Image\n",
        "import numpy as np\n",
        "import os"
      ],
      "execution_count": 0,
      "outputs": []
    },
    {
      "cell_type": "code",
      "metadata": {
        "id": "XlhWR_VCeT9P",
        "colab_type": "code",
        "colab": {}
      },
      "source": [
        "categories = sorted(list(set(y_training_data)))\n",
        "def label_to_vector(label):\n",
        "    ix = categories.index(label)\n",
        "    return [0 if i != ix else 1 for i in range(len(categories))]"
      ],
      "execution_count": 0,
      "outputs": []
    },
    {
      "cell_type": "code",
      "metadata": {
        "id": "EpZkDH0vvywU",
        "colab_type": "code",
        "colab": {}
      },
      "source": [
        "def imgs_and_labels(path_set):\n",
        "    x = []\n",
        "    y = []\n",
        "\n",
        "    for label in os.listdir(path_set):\n",
        "        for file in os.listdir(path_set + label):\n",
        "            y.append(label)\n",
        "            img = Image.open(path_set + label + '/' + file).convert('RGB') # the image 111 is in black and white\n",
        "            img = img.resize((224,224))\n",
        "            x.append(np.array(img, dtype='float32'))\n",
        "\n",
        "    return np.array(x), np.array(y)"
      ],
      "execution_count": 0,
      "outputs": []
    },
    {
      "cell_type": "code",
      "metadata": {
        "id": "2nktQtN2Twwd",
        "colab_type": "code",
        "colab": {}
      },
      "source": [
        "training_path_imgs = './MIT-10-Classes/Imgs/TrainSetImgs/'\n",
        "x_train_imgs, y_train_imgs = imgs_and_labels(training_path_imgs)\n",
        "\n",
        "test_path_imgs = './MIT-10-Classes/Imgs/TestSetImgs/'\n",
        "x_test_imgs, y_test_imgs = imgs_and_labels(test_path_imgs)"
      ],
      "execution_count": 0,
      "outputs": []
    },
    {
      "cell_type": "markdown",
      "metadata": {
        "id": "fi-FqTFbRVnt",
        "colab_type": "text"
      },
      "source": [
        "Acá nosotros solo clasificaremos 10 categorías. Por lo tanto, para esto, utilizaremos el modelo completo pero prescindiendo de la última capa fully-conected de 1000 nodos con función de activación softmax, y agregando una análoga de 10 neuronas de salida."
      ]
    },
    {
      "cell_type": "code",
      "metadata": {
        "id": "qczITZnTcL-j",
        "colab_type": "code",
        "colab": {}
      },
      "source": [
        "model_alex_net = Sequential()\n",
        "model_alex_net.add(ZeroPadding2D((2,2), input_shape=(224, 224, 3)))\n",
        "model_alex_net.add(Convolution2D(96, (11,11), strides=(4,4), padding='valid'))\n",
        "model_alex_net.add(Activation(activation='relu'))\n",
        "model_alex_net.add(BatchNormalization())\n",
        "model_alex_net.add(MaxPooling2D((3,3), strides=(2,2)))\n",
        "model_alex_net.add(ZeroPadding2D((2,2)))\n",
        "model_alex_net.add(Convolution2D(256, (5, 5), padding='valid'))\n",
        "model_alex_net.add(Activation(activation='relu'))\n",
        "model_alex_net.add(BatchNormalization())\n",
        "model_alex_net.add(MaxPooling2D((3,3), strides=(2,2)))\n",
        "model_alex_net.add(ZeroPadding2D((1,1)))\n",
        "model_alex_net.add(Convolution2D(384, (3, 3), padding='valid'))\n",
        "model_alex_net.add(Activation(activation='relu'))\n",
        "model_alex_net.add(ZeroPadding2D((1,1)))\n",
        "model_alex_net.add(Convolution2D(384, (3, 3), padding='valid'))\n",
        "model_alex_net.add(Activation(activation='relu'))\n",
        "model_alex_net.add(ZeroPadding2D((1,1)))\n",
        "model_alex_net.add(Convolution2D(256, (3, 3), padding='valid'))\n",
        "model_alex_net.add(Activation(activation='relu'))\n",
        "model_alex_net.add(MaxPooling2D((3,3), strides=(2,2)))\n",
        "model_alex_net.add(Flatten())\n",
        "model_alex_net.add(Dense(4096, activation='relu'))\n",
        "model_alex_net.add(Dropout(0.5))\n",
        "model_alex_net.add(Dense(4096, activation='relu'))\n",
        "model_alex_net.add(Dropout(0.5))\n",
        "model_alex_net.add(Dense(10, activation='softmax'))"
      ],
      "execution_count": 0,
      "outputs": []
    },
    {
      "cell_type": "code",
      "metadata": {
        "id": "Abpy-TLX3F0c",
        "colab_type": "code",
        "colab": {}
      },
      "source": [
        "model_alex_net.save_weights('model.h5')"
      ],
      "execution_count": 0,
      "outputs": []
    },
    {
      "cell_type": "code",
      "metadata": {
        "id": "P_EJ7P653LDI",
        "colab_type": "code",
        "colab": {}
      },
      "source": [
        "# esto es para reiniciar los pesos por cada intento\n",
        "model_alex_net.load_weights('model.h5')"
      ],
      "execution_count": 0,
      "outputs": []
    },
    {
      "cell_type": "code",
      "metadata": {
        "id": "PVLvd93PIDYK",
        "colab_type": "code",
        "outputId": "6bdf52ea-9953-4a57-e059-444a667632dd",
        "colab": {
          "base_uri": "https://localhost:8080/",
          "height": 1499
        }
      },
      "source": [
        "batch_size = 80\n",
        "epochs = 40\n",
        "y_train_imgs_vec = np.array([np.array(label_to_vector(i)) for i in y_train_imgs])\n",
        "y_test_imgs_vec = np.array([np.array(label_to_vector(i)) for i in y_test_imgs])\n",
        "model_alex_net.compile(loss=keras.losses.categorical_crossentropy,\n",
        "                    optimizer=keras.optimizers.Adadelta(),\n",
        "                    metrics=['accuracy'])\n",
        "history = model_alex_net.fit(x_train_imgs, y_train_imgs_vec,\n",
        "                batch_size=batch_size,\n",
        "                epochs=epochs,\n",
        "                verbose=1,\n",
        "                validation_data=(x_test_imgs, y_test_imgs_vec))\n",
        "score = model_alex_net.evaluate(x_test_imgs, y_test_imgs_vec, verbose=1)\n",
        "print('Test loss:', score[0])\n",
        "print('Test accuracy:', score[1])"
      ],
      "execution_count": 0,
      "outputs": [
        {
          "output_type": "stream",
          "text": [
            "(799, 224, 224, 3) (799, 10)\n",
            "(201, 224, 224, 3) (201, 10)\n",
            "Train on 799 samples, validate on 201 samples\n",
            "Epoch 1/40\n",
            "799/799 [==============================] - 5s 6ms/step - loss: 13.5065 - acc: 0.0889 - val_loss: 14.5945 - val_acc: 0.0945\n",
            "Epoch 2/40\n",
            "799/799 [==============================] - 3s 4ms/step - loss: 14.4841 - acc: 0.1014 - val_loss: 14.5945 - val_acc: 0.0945\n",
            "Epoch 3/40\n",
            "799/799 [==============================] - 3s 4ms/step - loss: 14.4841 - acc: 0.1014 - val_loss: 14.5945 - val_acc: 0.0945\n",
            "Epoch 4/40\n",
            "799/799 [==============================] - 3s 4ms/step - loss: 14.4841 - acc: 0.1014 - val_loss: 14.5945 - val_acc: 0.0945\n",
            "Epoch 5/40\n",
            "799/799 [==============================] - 3s 4ms/step - loss: 14.4841 - acc: 0.1014 - val_loss: 14.5945 - val_acc: 0.0945\n",
            "Epoch 6/40\n",
            "799/799 [==============================] - 3s 4ms/step - loss: 7.6692 - acc: 0.1039 - val_loss: 2.3042 - val_acc: 0.0945\n",
            "Epoch 7/40\n",
            "799/799 [==============================] - 3s 4ms/step - loss: 2.3537 - acc: 0.1289 - val_loss: 2.2027 - val_acc: 0.1891\n",
            "Epoch 8/40\n",
            "799/799 [==============================] - 3s 4ms/step - loss: 2.2932 - acc: 0.1202 - val_loss: 2.2651 - val_acc: 0.1194\n",
            "Epoch 9/40\n",
            "799/799 [==============================] - 3s 4ms/step - loss: 2.3701 - acc: 0.1126 - val_loss: 2.2622 - val_acc: 0.0995\n",
            "Epoch 10/40\n",
            "799/799 [==============================] - 3s 4ms/step - loss: 2.2904 - acc: 0.1302 - val_loss: 2.2911 - val_acc: 0.1493\n",
            "Epoch 11/40\n",
            "560/799 [====================>.........] - ETA: 0s - loss: 2.3086 - acc: 0.1643"
          ],
          "name": "stdout"
        },
        {
          "output_type": "stream",
          "text": [
            "799/799 [==============================] - 3s 4ms/step - loss: 2.3028 - acc: 0.1677 - val_loss: 2.2808 - val_acc: 0.1493\n",
            "Epoch 12/40\n",
            "799/799 [==============================] - 3s 4ms/step - loss: 2.3459 - acc: 0.1827 - val_loss: 2.3611 - val_acc: 0.1393\n",
            "Epoch 13/40\n",
            "799/799 [==============================] - 3s 4ms/step - loss: 2.1632 - acc: 0.1990 - val_loss: 2.3227 - val_acc: 0.1493\n",
            "Epoch 14/40\n",
            "799/799 [==============================] - 3s 4ms/step - loss: 2.1343 - acc: 0.2516 - val_loss: 2.7207 - val_acc: 0.2438\n",
            "Epoch 15/40\n",
            "799/799 [==============================] - 3s 4ms/step - loss: 2.3650 - acc: 0.1877 - val_loss: 2.2468 - val_acc: 0.1144\n",
            "Epoch 16/40\n",
            "799/799 [==============================] - 3s 4ms/step - loss: 2.1859 - acc: 0.2215 - val_loss: 2.7840 - val_acc: 0.1343\n",
            "Epoch 17/40\n",
            "799/799 [==============================] - 3s 4ms/step - loss: 2.1545 - acc: 0.2378 - val_loss: 2.1831 - val_acc: 0.1741\n",
            "Epoch 18/40\n",
            "799/799 [==============================] - 3s 4ms/step - loss: 2.0766 - acc: 0.2778 - val_loss: 3.4487 - val_acc: 0.1592\n",
            "Epoch 19/40\n",
            "799/799 [==============================] - 3s 4ms/step - loss: 2.0167 - acc: 0.3141 - val_loss: 2.2238 - val_acc: 0.2189\n",
            "Epoch 20/40\n",
            "799/799 [==============================] - 3s 4ms/step - loss: 1.9111 - acc: 0.3454 - val_loss: 1.9549 - val_acc: 0.3184\n",
            "Epoch 21/40\n",
            "799/799 [==============================] - 3s 4ms/step - loss: 1.8943 - acc: 0.3492 - val_loss: 2.3988 - val_acc: 0.1841\n",
            "Epoch 22/40\n",
            "480/799 [=================>............] - ETA: 1s - loss: 1.8762 - acc: 0.3875"
          ],
          "name": "stdout"
        },
        {
          "output_type": "stream",
          "text": [
            "799/799 [==============================] - 3s 4ms/step - loss: 2.0756 - acc: 0.3742 - val_loss: 10.5561 - val_acc: 0.1045\n",
            "Epoch 23/40\n",
            "799/799 [==============================] - 3s 4ms/step - loss: 1.8969 - acc: 0.3592 - val_loss: 4.8811 - val_acc: 0.0995\n",
            "Epoch 24/40\n",
            "799/799 [==============================] - 3s 4ms/step - loss: 1.6179 - acc: 0.4506 - val_loss: 2.0658 - val_acc: 0.2488\n",
            "Epoch 25/40\n",
            "799/799 [==============================] - 3s 4ms/step - loss: 1.6041 - acc: 0.4743 - val_loss: 2.2271 - val_acc: 0.3134\n",
            "Epoch 26/40\n",
            "799/799 [==============================] - 3s 4ms/step - loss: 1.9745 - acc: 0.4406 - val_loss: 6.7123 - val_acc: 0.0945\n",
            "Epoch 27/40\n",
            "799/799 [==============================] - 3s 4ms/step - loss: 1.7110 - acc: 0.4280 - val_loss: 2.3121 - val_acc: 0.2637\n",
            "Epoch 28/40\n",
            "799/799 [==============================] - 3s 4ms/step - loss: 1.2826 - acc: 0.5770 - val_loss: 2.8955 - val_acc: 0.1443\n",
            "Epoch 29/40\n",
            "799/799 [==============================] - 3s 4ms/step - loss: 1.5631 - acc: 0.4869 - val_loss: 1.7862 - val_acc: 0.3831\n",
            "Epoch 30/40\n",
            "799/799 [==============================] - 3s 4ms/step - loss: 1.1490 - acc: 0.6058 - val_loss: 1.8883 - val_acc: 0.4030\n",
            "Epoch 31/40\n",
            "799/799 [==============================] - 3s 4ms/step - loss: 0.9972 - acc: 0.6646 - val_loss: 5.4463 - val_acc: 0.0945\n",
            "Epoch 32/40\n",
            "799/799 [==============================] - 3s 4ms/step - loss: 1.0079 - acc: 0.6558 - val_loss: 1.8056 - val_acc: 0.3980\n",
            "Epoch 33/40\n",
            "400/799 [==============>...............] - ETA: 1s - loss: 0.7907 - acc: 0.7350"
          ],
          "name": "stdout"
        },
        {
          "output_type": "stream",
          "text": [
            "799/799 [==============================] - 3s 4ms/step - loss: 0.7552 - acc: 0.7447 - val_loss: 2.0415 - val_acc: 0.3831\n",
            "Epoch 34/40\n",
            "799/799 [==============================] - 3s 4ms/step - loss: 0.8095 - acc: 0.7384 - val_loss: 2.8551 - val_acc: 0.2836\n",
            "Epoch 35/40\n",
            "799/799 [==============================] - 3s 4ms/step - loss: 0.6902 - acc: 0.7797 - val_loss: 2.1505 - val_acc: 0.3532\n",
            "Epoch 36/40\n",
            "799/799 [==============================] - 3s 4ms/step - loss: 0.7947 - acc: 0.7672 - val_loss: 2.4639 - val_acc: 0.4080\n",
            "Epoch 37/40\n",
            "799/799 [==============================] - 3s 4ms/step - loss: 0.3954 - acc: 0.8598 - val_loss: 2.3199 - val_acc: 0.4179\n",
            "Epoch 38/40\n",
            "799/799 [==============================] - 3s 4ms/step - loss: 0.4361 - acc: 0.8673 - val_loss: 2.3113 - val_acc: 0.4428\n",
            "Epoch 39/40\n",
            "799/799 [==============================] - 3s 4ms/step - loss: 0.3580 - acc: 0.8911 - val_loss: 2.9892 - val_acc: 0.3433\n",
            "Epoch 40/40\n",
            "799/799 [==============================] - 3s 4ms/step - loss: 0.4212 - acc: 0.8786 - val_loss: 2.4388 - val_acc: 0.4627\n",
            "201/201 [==============================] - 0s 2ms/step\n",
            "Test loss: 2.438847071199275\n",
            "Test accuracy: 0.46268656775726014\n"
          ],
          "name": "stdout"
        }
      ]
    },
    {
      "cell_type": "code",
      "metadata": {
        "id": "cawV8h9AgymY",
        "colab_type": "code",
        "outputId": "b50561a9-391c-41a8-976f-47601b145cd1",
        "colab": {
          "base_uri": "https://localhost:8080/",
          "height": 735
        }
      },
      "source": [
        "import matplotlib.pyplot as plt\n",
        "\n",
        "# summarize history for accuracy\n",
        "plt.plot(history.history['acc'])\n",
        "plt.plot(history.history['val_acc'])\n",
        "plt.title('Model Accuracy')\n",
        "plt.ylabel('accuracy')\n",
        "plt.xlabel('epoch')\n",
        "plt.legend(['Train Set', 'Test Set'], loc='upper left')\n",
        "plt.show()\n",
        "# summarize history for loss\n",
        "plt.plot(history.history['loss'])\n",
        "plt.plot(history.history['val_loss'])\n",
        "plt.title('Model Loss')\n",
        "plt.ylabel('loss')\n",
        "plt.xlabel('epoch')\n",
        "plt.legend(['Train Set', 'Test Set'], loc='upper right')\n",
        "plt.show()\n",
        "\n",
        "# code taken from https://machinelearningmastery.com/display-deep-learning-model-training-history-in-keras/"
      ],
      "execution_count": 0,
      "outputs": [
        {
          "output_type": "display_data",
          "data": {
            "image/png": "[encoded data removed]",
            "text/plain": [
              "<matplotlib.figure.Figure at 0x7fbf3250bbe0>"
            ]
          },
          "metadata": {
            "tags": []
          }
        },
        {
          "output_type": "display_data",
          "data": {
            "image/png": "[encoded data removed]",
            "text/plain": [
              "<matplotlib.figure.Figure at 0x7fbf3243cfd0>"
            ]
          },
          "metadata": {
            "tags": []
          }
        }
      ]
    },
    {
      "cell_type": "markdown",
      "metadata": {
        "id": "t_gov8Uy_Q58",
        "colab_type": "text"
      },
      "source": [
        "Como se puede apreciar en los gráficos generados, en primer lugar "
      ]
    },
    {
      "cell_type": "markdown",
      "metadata": {
        "id": "v8pEYsqYXBkM",
        "colab_type": "text"
      },
      "source": [
        "## Parte 2: Reconocimiento de Visual"
      ]
    },
    {
      "cell_type": "markdown",
      "metadata": {
        "id": "V7-0W2HFZV9d",
        "colab_type": "text"
      },
      "source": [
        "### Actividad 9"
      ]
    },
    {
      "cell_type": "markdown",
      "metadata": {
        "id": "xyAIZrg8PX-n",
        "colab_type": "text"
      },
      "source": [
        "            \n",
        " Red          |  Numero de parámetros | Profundidad | Rendimiento Image Net (top-5 error rate)\n",
        " -------------|-----------------------|-------------|----------\n",
        " AlexNet      | 60 millones           | 8           |  19.8%\n",
        " VGG-16       | 138 millones          | 16          |  8.08%\n",
        " ResNet-50    | 0.75 millones         | 50          |  3.6%\n",
        " \n",
        "<br> \n",
        "\n",
        "De este cuadro se puede observar que la red más precisa es la ResNet-50. Es más profunda que el resto, pero a la vez disminuye el número de parámetros a entrenar. Esto lo logra mediante la técnica de aprendisaje residual, que facilita el entrenamiento a medida que se agregan capas a la red.\n",
        "\n",
        "También se puede observar un aumento considerable de rendimiento entre la red AlexNet y VGG-16. Esto se debe en gran medida a un cambio en la redes convolucionales con respecto AlexNet. En lugar de usar convoluciones de 5x5 y 11x11, la red VGG usa varias capas convolucionales de 3x3, lo que permite capturar mayor cantidad de propiedades, y más finas, a un menor costo. \n",
        "\n"
      ]
    },
    {
      "cell_type": "markdown",
      "metadata": {
        "id": "AqTVeQqIZZHO",
        "colab_type": "text"
      },
      "source": [
        "### Actividad 10"
      ]
    },
    {
      "cell_type": "markdown",
      "metadata": {
        "id": "szfdTTqCNj_v",
        "colab_type": "text"
      },
      "source": [
        "#### Data"
      ]
    },
    {
      "cell_type": "code",
      "metadata": {
        "id": "6GdzMKYFRKrZ",
        "colab_type": "code",
        "outputId": "fc7095df-4463-49c6-edbc-48a6ed2b7892",
        "colab": {
          "base_uri": "https://localhost:8080/",
          "height": 34
        }
      },
      "source": [
        "from PIL import Image\n",
        "import numpy as np\n",
        "import os\n",
        "\n",
        "import keras\n",
        "from keras.applications.resnet50 import ResNet50\n",
        "from keras.callbacks import ModelCheckpoint\n",
        "\n",
        "\n",
        "model_resnet = ResNet50(include_top=True, weights=None, input_tensor=None, input_shape=None, pooling=None, classes=25)\n",
        "# la ultima capa viene con softmax por defecto\n",
        "\n",
        "model_resnet.compile(loss=keras.losses.categorical_crossentropy,\n",
        "                    optimizer=keras.optimizers.Adadelta(),\n",
        "                    metrics=['accuracy'])"
      ],
      "execution_count": 0,
      "outputs": [
        {
          "output_type": "stream",
          "text": [
            "Using TensorFlow backend.\n"
          ],
          "name": "stderr"
        }
      ]
    },
    {
      "cell_type": "code",
      "metadata": {
        "id": "1URco5UiNifG",
        "colab_type": "code",
        "outputId": "0af6b2d8-b27e-497f-b669-6b9950c2e5b2",
        "colab": {
          "base_uri": "https://localhost:8080/",
          "height": 309
        }
      },
      "source": [
        "# url_places = \"https://www.dropbox.com/s/bc8b71zay6s9rb4/Places25.zip?dl=0\"\n",
        "# url_faces = \"https://www.dropbox.com/s/yiacgl7jknga963/vggface2_dataset100.zip?dl=0\"\n",
        "\n",
        "! if [ ! -d Places25 ]; then wget \"https://www.dropbox.com/s/bc8b71zay6s9rb4/Places25.zip?dl=0\"; fi\n",
        "! if [ ! -d Places25 ]; then unzip -q \"Places25.zip?dl=0\"; fi "
      ],
      "execution_count": 0,
      "outputs": [
        {
          "output_type": "stream",
          "text": [
            "--2018-05-04 19:59:02--  https://www.dropbox.com/s/bc8b71zay6s9rb4/Places25.zip?dl=0\n",
            "Resolving www.dropbox.com (www.dropbox.com)... 162.125.9.1, 2620:100:601f:1::a27d:901\n",
            "Connecting to www.dropbox.com (www.dropbox.com)|162.125.9.1|:443... connected.\n",
            "HTTP request sent, awaiting response... 302 Found\n",
            "Location: https://dl.dropboxusercontent.com/content_link/gcZPDgoaN0sYkgWQCbAge2hvJtkULuisOm2D3hcEy23LD76nR3y0CbotHbOIZ35B/file [following]\n",
            "--2018-05-04 19:59:03--  https://dl.dropboxusercontent.com/content_link/gcZPDgoaN0sYkgWQCbAge2hvJtkULuisOm2D3hcEy23LD76nR3y0CbotHbOIZ35B/file\n",
            "Resolving dl.dropboxusercontent.com (dl.dropboxusercontent.com)... 162.125.81.6, 2620:100:601f:6::a27d:906\n",
            "Connecting to dl.dropboxusercontent.com (dl.dropboxusercontent.com)|162.125.81.6|:443... connected.\n",
            "HTTP request sent, awaiting response... 200 OK\n",
            "Length: 1748690805 (1.6G) [application/zip]\n",
            "Saving to: ‘Places25.zip?dl=0’\n",
            "\n",
            "Places25.zip?dl=0    12%[=>                  ] 202.33M  11.5MB/s    eta 2m 24s "
          ],
          "name": "stdout"
        },
        {
          "output_type": "stream",
          "text": [
            "Places25.zip?dl=0   100%[===================>]   1.63G  11.5MB/s    in 2m 32s  \n",
            "\n",
            "2018-05-04 20:01:38 (10.9 MB/s) - ‘Places25.zip?dl=0’ saved [1748690805/1748690805]\n",
            "\n"
          ],
          "name": "stdout"
        }
      ]
    },
    {
      "cell_type": "code",
      "metadata": {
        "id": "SFCzX8SUVBvY",
        "colab_type": "code",
        "colab": {}
      },
      "source": [
        "# val: 500 per label\n",
        "# test: 500 per label\n",
        "# train: 4000 images per label\n",
        "# 25 categories\n",
        "\n",
        "\n",
        "categories = sorted(os.listdir('./Places25/test/'))\n",
        "def label_to_vector(label):\n",
        "    ix = categories.index(label)\n",
        "    return [0 if i != ix else 1 for i in range(len(categories))]\n",
        "\n",
        "\n",
        "def gen(n_files_per_label, files):\n",
        "    # returns the respective files\n",
        "    since = 0    \n",
        "    while True:\n",
        "        since = since % len(files) # loop\n",
        "        yield files[since:since+n_files_per_label]\n",
        "        since += n_files_per_label\n",
        "           \n",
        "\n",
        "def batches_gen(path_set, n_files_per_label):\n",
        "    # returns a batch, containing examples of every category\n",
        "    fs = [] # list of one generator function per label\n",
        "    for label in os.listdir(path_set):\n",
        "        fs.append(gen(n_files_per_label, list(os.listdir(path_set + label))))\n",
        "    while True:\n",
        "        x = []\n",
        "        y = []\n",
        "        for i,label in enumerate(os.listdir(path_set)):\n",
        "            for file in next(fs[i]):\n",
        "                y.append(label)\n",
        "                img = Image.open(path_set + label + '/' + file).convert('RGB')\n",
        "                img = img.resize((224,224))\n",
        "                x.append(np.array(img, dtype='float32')) \n",
        "        y = [np.array(label_to_vector(i)) for i in y] # to vectors\n",
        "        yield np.array(x), np.array(y) "
      ],
      "execution_count": 0,
      "outputs": []
    },
    {
      "cell_type": "code",
      "metadata": {
        "id": "-OEvnyyvZZln",
        "colab_type": "code",
        "outputId": "0d86a02b-a163-4f4e-e625-20045fb62b66",
        "colab": {
          "base_uri": "https://localhost:8080/",
          "height": 462
        }
      },
      "source": [
        "theme = './Places25/'\n",
        "set_train = 'train/'\n",
        "set_val = 'val/'\n",
        "\n",
        "n_epochs = 6\n",
        "batch_size = 50\n",
        "n_categories = 25\n",
        "\n",
        "n_files_per_label_per_batch = batch_size // n_categories\n",
        "\n",
        "n_files_per_label_train = 4000\n",
        "total_files_train = n_categories * n_files_per_label_train\n",
        "\n",
        "n_files_per_label_val = 500\n",
        "total_files_val = n_categories * n_files_per_label_val\n",
        "\n",
        "generator = batches_gen(theme + set_train, n_files_per_label_per_batch)\n",
        "generator_val = batches_gen(theme + set_val, n_files_per_label_per_batch)\n",
        "\n",
        "\n",
        "\n",
        "checkpointer = ModelCheckpoint(filepath='./model_resnet.hdf5', verbose=1, save_best_only=True)\n",
        "\n",
        "history_resnet = model_resnet.fit_generator( \n",
        "    generator, \n",
        "    steps_per_epoch=total_files_train/batch_size * 2 // 5, \n",
        "    epochs=n_epochs, \n",
        "    verbose=1, \n",
        "    callbacks=[checkpointer], \n",
        "    validation_data=generator_val, \n",
        "    validation_steps=total_files_val/batch_size * 2 // 5, \n",
        "    class_weight=None, \n",
        "    max_queue_size=10, \n",
        "    workers=1, \n",
        "    use_multiprocessing=False, \n",
        "    shuffle=True, \n",
        "    initial_epoch=0)"
      ],
      "execution_count": 0,
      "outputs": [
        {
          "output_type": "stream",
          "text": [
            "Epoch 1/6\n",
            "800/800 [==============================] - 1207s 2s/step - loss: 2.4763 - acc: 0.2952 - val_loss: 4.2039 - val_acc: 0.1756\n",
            "\n",
            "Epoch 00001: val_loss improved from inf to 4.20395, saving model to ./model_resnet.hdf5\n",
            "Epoch 2/6\n",
            " 83/800 [==>...........................] - ETA: 16:58 - loss: 1.8615 - acc: 0.4335"
          ],
          "name": "stdout"
        },
        {
          "output_type": "stream",
          "text": [
            "800/800 [==============================] - 1193s 1s/step - loss: 1.6614 - acc: 0.4933 - val_loss: 4.0193 - val_acc: 0.1736\n",
            "\n",
            "Epoch 00002: val_loss improved from 4.20395 to 4.01926, saving model to ./model_resnet.hdf5\n",
            "Epoch 3/6\n",
            "133/800 [===>..........................] - ETA: 15:50 - loss: 1.4902 - acc: 0.5462"
          ],
          "name": "stdout"
        },
        {
          "output_type": "stream",
          "text": [
            "800/800 [==============================] - 1193s 1s/step - loss: 1.4005 - acc: 0.5694 - val_loss: 1.8952 - val_acc: 0.4412\n",
            "\n",
            "Epoch 00003: val_loss improved from 4.01926 to 1.89524, saving model to ./model_resnet.hdf5\n",
            "Epoch 4/6\n",
            "146/800 [====>.........................] - ETA: 15:31 - loss: 1.2853 - acc: 0.5958"
          ],
          "name": "stdout"
        },
        {
          "output_type": "stream",
          "text": [
            "800/800 [==============================] - 1194s 1s/step - loss: 1.2387 - acc: 0.6155 - val_loss: 1.8475 - val_acc: 0.4852\n",
            "\n",
            "Epoch 00004: val_loss improved from 1.89524 to 1.84755, saving model to ./model_resnet.hdf5\n",
            "Epoch 5/6\n",
            "150/800 [====>.........................] - ETA: 15:27 - loss: 1.1433 - acc: 0.6441"
          ],
          "name": "stdout"
        },
        {
          "output_type": "stream",
          "text": [
            "800/800 [==============================] - 1194s 1s/step - loss: 1.1203 - acc: 0.6519 - val_loss: 1.6818 - val_acc: 0.5052\n",
            "\n",
            "Epoch 00005: val_loss improved from 1.84755 to 1.68183, saving model to ./model_resnet.hdf5\n",
            "Epoch 6/6\n",
            "151/800 [====>.........................] - ETA: 15:25 - loss: 1.0701 - acc: 0.6665"
          ],
          "name": "stdout"
        },
        {
          "output_type": "stream",
          "text": [
            "800/800 [==============================] - 1193s 1s/step - loss: 1.0286 - acc: 0.6782 - val_loss: 1.9355 - val_acc: 0.4904\n",
            "\n",
            "Epoch 00006: val_loss did not improve from 1.68183\n"
          ],
          "name": "stdout"
        },
        {
          "output_type": "execute_result",
          "data": {
            "text/plain": [
              "'\\nfor e in range(nb_epoch):\\n    print(\"epoch %d\" % e)\\n    #for X_train, Y_train in batchs_gen(theme + set_, n_files_per_label_per_batch, n_batchs, nb_epoch): \\n    for x_train, y_train in batchs_gen(theme + set_, n_files_per_label_per_epoch): \\n        model.fit(x_train, y_train, batch_size=batch_size, nb_epoch=1)'"
            ]
          },
          "metadata": {
            "tags": []
          },
          "execution_count": 10
        }
      ]
    },
    {
      "cell_type": "markdown",
      "metadata": {
        "id": "KIFpUR028qYb",
        "colab_type": "text"
      },
      "source": [
        "- El tiempo de entrenamiento total fue de 2 horas. Esto es bastante poco para entrenar una red de este tamaño. Sin embargo, fue suficiente para que comenzara a hacer *overfitting*. \n",
        "- Se mantuvo el modelo original, sobre la base de que este ya está completamente optimizado. \n",
        "- El algoritmo de optimización utilizado fue el Adadelta. \n",
        "- Los parámetros que mejor resultados obtuvieron fueron los default\n",
        "- El tamaño de los minibatch fue de 50. Este es un número dentro de lo recomendado, y variar su tamaño no cambia de forma significativa la presición del modelo"
      ]
    },
    {
      "cell_type": "markdown",
      "metadata": {
        "id": "e3fZFw7oZcSH",
        "colab_type": "text"
      },
      "source": [
        "### Actividad 11"
      ]
    },
    {
      "cell_type": "code",
      "metadata": {
        "id": "_YwCYjG_JIz6",
        "colab_type": "code",
        "outputId": "7a8cf84c-d593-4ff2-bd9b-54816c728954",
        "colab": {
          "base_uri": "https://localhost:8080/",
          "height": 789
        }
      },
      "source": [
        "import matplotlib.pyplot as plt\n",
        "\n",
        "history = history_resnet.history\n",
        "\n",
        "# summarize history for loss\n",
        "plt.plot(history['loss'])\n",
        "plt.plot(history.history['val_loss'])\n",
        "plt.title('Model Loss')\n",
        "plt.ylabel('loss')\n",
        "plt.xlabel('epoch')\n",
        "plt.legend(['Train Set'], loc='upper right')\n",
        "plt.show()\n",
        "\n",
        "# summarize history for accuracy\n",
        "plt.plot(history['acc'])\n",
        "plt.plot(history['val_acc'])\n",
        "plt.title('Model Accuracy')\n",
        "plt.ylabel('accuracy')\n",
        "plt.xlabel('epoch')\n",
        "plt.legend(['Train Set', 'Validation Set'], loc='upper left')\n",
        "plt.show()\n",
        "\n",
        "# code taken from https://machinelearningmastery.com/display-deep-learning-model-training-history-in-keras/\n"
      ],
      "execution_count": 0,
      "outputs": [
        {
          "output_type": "stream",
          "text": [
            "pickle_history.txt\n",
            "[4.203949472904205, 4.019255259037018, 1.895241723060608, 1.8475461196899414, 1.68182893037796, 1.9354601633548736]\n"
          ],
          "name": "stdout"
        },
        {
          "output_type": "display_data",
          "data": {
            "image/png": "[encoded data removed]",
            "text/plain": [
              "<matplotlib.figure.Figure at 0x7f1018f69ef0>"
            ]
          },
          "metadata": {
            "tags": []
          }
        },
        {
          "output_type": "display_data",
          "data": {
            "image/png": "[encoded data removed]",
            "text/plain": [
              "<matplotlib.figure.Figure at 0x7f1018f0fcc0>"
            ]
          },
          "metadata": {
            "tags": []
          }
        }
      ]
    },
    {
      "cell_type": "markdown",
      "metadata": {
        "id": "ZCV43u0G54Op",
        "colab_type": "text"
      },
      "source": [
        "En los gráficos se puede observar que se corrieron 6 épocas. Tanto la accuracy del train set como la minimización de  la función de pérdida del training set fueron incrementándo a lo largo de las épocas. Sin embargo, el accuracy del set de validación de la última época empeoró con respecto a la anterior. Esto significa que el modelo está empezando a hacer *overfitting*. Es por esto que para las predicciones se usarán los pesos de la época número 4."
      ]
    },
    {
      "cell_type": "markdown",
      "metadata": {
        "id": "qcnUExs5yJW0",
        "colab_type": "text"
      },
      "source": [
        "### Actividad 12"
      ]
    },
    {
      "cell_type": "code",
      "metadata": {
        "id": "fwPPG5uPw8fS",
        "colab_type": "code",
        "outputId": "eadbacd9-1381-4cf4-e832-718d4c3ed86d",
        "colab": {
          "base_uri": "https://localhost:8080/",
          "height": 102
        }
      },
      "source": [
        "model_resnet.load_weights('./model_resnet.hdf5', by_name=False)\n",
        "\n",
        "total_good = 0\n",
        "total = 0\n",
        "results = []\n",
        "path_set = './Places25/test/'\n",
        "for label in os.listdir(path_set):\n",
        "    x = []\n",
        "    for file in os.listdir(path_set + label):\n",
        "        img = Image.open(path_set + label + '/' + file).convert('RGB')\n",
        "        img = img.resize((224,224))\n",
        "        x.append(np.array(img, dtype='float32'))\n",
        "    y = model_resnet.predict(np.array(x))\n",
        "    \n",
        "    l = [categories[i] for i in np.argmax(y, axis=1)]\n",
        "    good = l.count(label)\n",
        "    length = len(l)\n",
        "    total_good += good\n",
        "    total += length\n",
        "    results.append((label, good/length))\n",
        "    \n",
        "print('Test accuracy:', total_good / total)\n",
        "print('Training set accuracy:', history['acc'][-2])\n",
        "print('Validation set accuracy:', history['val_acc'][-2])\n",
        "\n",
        "print('Category with maximum accuracy:', max(results, key=lambda x: x[1]))\n",
        "print('Category with minimum accuracy:', min(results, key=lambda x: x[1]))"
      ],
      "execution_count": 0,
      "outputs": [
        {
          "output_type": "stream",
          "text": [
            "Test accuracy: 0.50592\n",
            "Training set accuracy: 0.6782000042498112\n",
            "Validation set accuracy: 0.49039999961853026\n",
            "Category with maximum accuracy: ('shopfront', 427, 500)\n",
            "Category with minimum accuracy: ('courthouse', 77, 500)\n"
          ],
          "name": "stdout"
        }
      ]
    },
    {
      "cell_type": "markdown",
      "metadata": {
        "id": "Z3Jrj1X07KE5",
        "colab_type": "text"
      },
      "source": [
        "Se puede observar de las accuracy de cada set que el set de validación es una buena aproximación del resultado final del set de test, con una diferencia de accuracy del orden del 1% entre ambos sets. Sin embargo, sus resultados están lejos del set de training. Esto puede deberse a dos factores. Uno, que el set de test y el de validación contienen imágenes muy diferentes con respecto a el set de entrenamiento. Esto es poco probable. La otra opción es que el modelo esté haciendo *overfitting* del set de entrenamiento. Una de las posibles razones de este comportamiento es que el set es demasiado pequeño para esta red. \n"
      ]
    },
    {
      "cell_type": "code",
      "metadata": {
        "id": "DdysbZWk4EK7",
        "colab_type": "code",
        "outputId": "2b73badb-24f4-4dd7-e852-90aafcb8c9cd",
        "colab": {
          "base_uri": "https://localhost:8080/",
          "height": 785
        }
      },
      "source": [
        "from IPython.display import Image, display\n",
        "display(Image(\"./Places25/test/shopfront/00004417.jpg\"))\n",
        "display(Image(\"./Places25/test/shopfront/00004370.jpg\"))\n",
        "display(Image(\"./Places25/test/shopfront/00004379.jpg\"))"
      ],
      "execution_count": 0,
      "outputs": [
        {
          "output_type": "display_data",
          "data": {
            "image/jpeg": "[encoded data removed]",
            "text/plain": [
              "<IPython.core.display.Image object>"
            ]
          },
          "metadata": {
            "tags": []
          }
        },
        {
          "output_type": "display_data",
          "data": {
            "image/jpeg": "[encoded data removed]",
            "text/plain": [
              "<IPython.core.display.Image object>"
            ]
          },
          "metadata": {
            "tags": []
          }
        },
        {
          "output_type": "display_data",
          "data": {
            "image/jpeg": "[encoded data removed]",
            "text/plain": [
              "<IPython.core.display.Image object>"
            ]
          },
          "metadata": {
            "tags": []
          }
        }
      ]
    },
    {
      "cell_type": "markdown",
      "metadata": {
        "id": "gND-hzYz7e2x",
        "colab_type": "text"
      },
      "source": [
        "Una posible explicación de porqué esta categoría (de la cual se muestran ejemplo arriba) tuvo el mejor desempeño es debido a los letreros de las tiendas indicando el nombre de esta. Esta es una característica común a una gran porcentaje de las fotos, y es probable que facilite el reconocimiento de esta por el modelo"
      ]
    },
    {
      "cell_type": "code",
      "metadata": {
        "id": "aTZduFYR7itO",
        "colab_type": "code",
        "outputId": "62d2f3c5-ff87-432b-da8e-5f40f754bbae",
        "colab": {
          "base_uri": "https://localhost:8080/",
          "height": 785
        }
      },
      "source": [
        "from IPython.display import Image, display\n",
        "display(Image(\"./Places25/test/courthouse/00004417.jpg\"))\n",
        "display(Image(\"./Places25/test/courthouse/00004370.jpg\"))\n",
        "display(Image(\"./Places25/test/courthouse/00004379.jpg\"))"
      ],
      "execution_count": 0,
      "outputs": [
        {
          "output_type": "display_data",
          "data": {
            "image/jpeg": "[encoded data removed]",
            "text/plain": [
              "<IPython.core.display.Image object>"
            ]
          },
          "metadata": {
            "tags": []
          }
        },
        {
          "output_type": "display_data",
          "data": {
            "image/jpeg": "[encoded data removed]",
            "text/plain": [
              "<IPython.core.display.Image object>"
            ]
          },
          "metadata": {
            "tags": []
          }
        },
        {
          "output_type": "display_data",
          "data": {
            "image/jpeg": "[encoded data removed]",
            "text/plain": [
              "<IPython.core.display.Image object>"
            ]
          },
          "metadata": {
            "tags": []
          }
        }
      ]
    },
    {
      "cell_type": "markdown",
      "metadata": {
        "id": "rFs1n3zJ87vu",
        "colab_type": "text"
      },
      "source": [
        "Esta categoría obtuvo el peor desempeño. Esto es probalemente debido a la falta de características comunes entre las fotos. Incluso para el ojo humano cuesta muhco reconocerlos, y son fácilmente confundibles con las de la categoría castle "
      ]
    },
    {
      "cell_type": "code",
      "metadata": {
        "id": "Bv03F1vh3kWZ",
        "colab_type": "code",
        "outputId": "c6514418-e96e-4bc4-9f4b-2c579c9d5804",
        "colab": {
          "base_uri": "https://localhost:8080/",
          "height": 34
        }
      },
      "source": [
        "!ls"
      ],
      "execution_count": 0,
      "outputs": [
        {
          "output_type": "stream",
          "text": [
            "datalab  model_resnet.hdf5  pickle_history  Places25  Places25.zip?dl=0\r\n"
          ],
          "name": "stdout"
        }
      ]
    }
  ]
}